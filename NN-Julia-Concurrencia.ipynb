{
 "cells": [
  {
   "cell_type": "markdown",
   "metadata": {},
   "source": [
    "# Red Neuronal Profunda"
   ]
  },
  {
   "cell_type": "markdown",
   "metadata": {},
   "source": [
    "# Esta red neuronal en Julia esta implementada tambien para Python y R en el siguiente repositorio, en el mismo se encuentra toda la informacion para ahondar aun mas sobre el modelo.\n",
    "# https://github.com/williantleite/NN_from_scratch/blob/main/Julia-NN%20from%20Scratch.ipynb\n",
    "\n"
   ]
  },
  {
   "cell_type": "code",
   "execution_count": 1,
   "metadata": {},
   "outputs": [],
   "source": [
    "using Pkg\n",
    "using CSV\n",
    "using DataFrames\n",
    "using BenchmarkTools\n",
    "using Base.Threads\n",
    "using Plots\n",
    "using ScikitLearn\n",
    "using MLBase"
   ]
  },
  {
   "cell_type": "code",
   "execution_count": 2,
   "metadata": {},
   "outputs": [
    {
     "data": {
      "text/latex": [
       "Multithreading support.\n",
       "\n"
      ],
      "text/markdown": [
       "Multithreading support.\n"
      ],
      "text/plain": [
       "  Multithreading support."
      ]
     },
     "execution_count": 2,
     "metadata": {},
     "output_type": "execute_result"
    }
   ],
   "source": [
    "? Base.Threads"
   ]
  },
  {
   "cell_type": "code",
   "execution_count": 3,
   "metadata": {},
   "outputs": [
    {
     "name": "stdout",
     "output_type": "stream",
     "text": [
      "search: \u001b[0m\u001b[1mP\u001b[22m\u001b[0m\u001b[1ml\u001b[22m\u001b[0m\u001b[1mo\u001b[22m\u001b[0m\u001b[1mt\u001b[22m\u001b[0m\u001b[1ms\u001b[22m \u001b[0m\u001b[1mp\u001b[22m\u001b[0m\u001b[1ml\u001b[22m\u001b[0m\u001b[1mo\u001b[22m\u001b[0m\u001b[1mt\u001b[22m\u001b[0m\u001b[1ms\u001b[22m_heatmap \u001b[0m\u001b[1mp\u001b[22m\u001b[0m\u001b[1ml\u001b[22m\u001b[0m\u001b[1mo\u001b[22m\u001b[0m\u001b[1mt\u001b[22m\u001b[0m\u001b[1ms\u001b[22m_heatmap! \u001b[0m\u001b[1mp\u001b[22m\u001b[0m\u001b[1ml\u001b[22m\u001b[0m\u001b[1mo\u001b[22m\u001b[0m\u001b[1mt\u001b[22mlyj\u001b[0m\u001b[1ms\u001b[22m unicode\u001b[0m\u001b[1mp\u001b[22m\u001b[0m\u001b[1ml\u001b[22m\u001b[0m\u001b[1mo\u001b[22m\u001b[0m\u001b[1mt\u001b[22m\u001b[0m\u001b[1ms\u001b[22m \u001b[0m\u001b[1mp\u001b[22mgfp\u001b[0m\u001b[1ml\u001b[22m\u001b[0m\u001b[1mo\u001b[22m\u001b[0m\u001b[1mt\u001b[22m\u001b[0m\u001b[1ms\u001b[22m\n",
      "\n"
     ]
    },
    {
     "data": {
      "text/latex": [
       "No docstring found for module \\texttt{Plots}.\n",
       "\n",
       "\\section{Exported names}\n",
       "\\texttt{@P\\_str}, \\texttt{@animate}, \\texttt{@colorant\\_str}, \\texttt{@gif}, \\texttt{@layout}, \\texttt{@recipe}, \\texttt{@series}, \\texttt{@shorthands}, \\texttt{@userplot}, \\texttt{ABGR}, \\texttt{ADIN99}, \\texttt{ADIN99d}, \\texttt{ADIN99o}, \\texttt{AGray}, \\texttt{AGray32}, \\texttt{AHSI}, \\texttt{AHSL}, \\texttt{AHSV}, \\texttt{ALCHab}, \\texttt{ALCHuv}, \\texttt{ALMS}, \\texttt{ALab}, \\texttt{ALuv}, \\texttt{AOklab}, \\texttt{AOklch}, \\texttt{ARGB}, \\texttt{ARGB32}, \\texttt{AXYZ}, \\texttt{AYCbCr}, \\texttt{AYIQ}, \\texttt{AbstractAGray}, \\texttt{AbstractARGB}, \\texttt{AbstractBackend}, \\texttt{AbstractGray}, \\texttt{AbstractGrayA}, \\texttt{AbstractLayout}, \\texttt{AbstractPlot}, \\texttt{AbstractRGB}, \\texttt{AbstractRGBA}, \\texttt{AlphaColor}, \\texttt{Animation}, \\texttt{AxyY}, \\texttt{BGR}, \\texttt{BGRA}, \\texttt{BezierCurve}, \\texttt{CIE1931JV\\_CMF}, \\texttt{CIE1931J\\_CMF}, \\texttt{CIE1931\\_CMF}, \\texttt{CIE1964\\_CMF}, \\texttt{CIE2006\\_10\\_CMF}, \\texttt{CIE2006\\_2\\_CMF}, \\texttt{Color}, \\texttt{Color3}, \\texttt{ColorAlpha}, \\texttt{ColorGradient}, \\texttt{ColorPalette}, \\texttt{ColorTypes}, \\texttt{Colorant}, \\texttt{ColorantNormed}, \\texttt{Colors}, \\texttt{DE\\_2000}, \\texttt{DE\\_94}, \\texttt{DE\\_AB}, \\texttt{DE\\_BFD}, \\texttt{DE\\_CMC}, \\texttt{DE\\_DIN99}, \\texttt{DE\\_DIN99d}, \\texttt{DE\\_DIN99o}, \\texttt{DE\\_JPC79}, \\texttt{DIN99}, \\texttt{DIN99A}, \\texttt{DIN99d}, \\texttt{DIN99dA}, \\texttt{DIN99o}, \\texttt{DIN99oA}, \\texttt{Formatted}, \\texttt{Fractional}, \\texttt{GR}, \\texttt{Gray}, \\texttt{Gray24}, \\texttt{GrayA}, \\texttt{HSB}, \\texttt{HSI}, \\texttt{HSIA}, \\texttt{HSL}, \\texttt{HSLA}, \\texttt{HSV}, \\texttt{HSVA}, \\texttt{KW}, \\texttt{LCHab}, \\texttt{LCHabA}, \\texttt{LCHuv}, \\texttt{LCHuvA}, \\texttt{LMS}, \\texttt{LMSA}, \\texttt{Lab}, \\texttt{LabA}, \\texttt{Luv}, \\texttt{LuvA}, \\texttt{MSC}, \\texttt{OHLC}, \\texttt{Oklab}, \\texttt{OklabA}, \\texttt{Oklch}, \\texttt{OklchA}, \\texttt{PlotTheme}, \\texttt{PlotThemes}, \\texttt{PlotUtils}, \\texttt{RGB}, \\texttt{RGB24}, \\texttt{RGBA}, \\texttt{RGBX}, \\texttt{RecipeData}, \\texttt{RecipesBase}, \\texttt{Segments}, \\texttt{Shape}, \\texttt{Surface}, \\texttt{Transparent3}, \\texttt{TransparentColor}, \\texttt{TransparentGray}, \\texttt{TransparentRGB}, \\texttt{XRGB}, \\texttt{XYZ}, \\texttt{XYZA}, \\texttt{YCbCr}, \\texttt{YCbCrA}, \\texttt{YIQ}, \\texttt{YIQA}, \\texttt{adapted\\_grid}, \\texttt{add\\_theme}, \\texttt{aliases}, \\texttt{alpha}, \\texttt{alphacolor}, \\texttt{animate}, \\texttt{annotate!}, \\texttt{areaplot}, \\texttt{areaplot!}, \\texttt{arrow}, \\texttt{attr!}, \\texttt{backend}, \\texttt{backend\\_name}, \\texttt{backend\\_object}, \\texttt{backends}, \\texttt{bar}, \\texttt{bar!}, \\texttt{barh}, \\texttt{barh!}, \\texttt{barhist}, \\texttt{barhist!}, \\texttt{base\\_color\\_type}, \\texttt{base\\_colorant\\_type}, \\texttt{bbox}, \\texttt{blue}, \\texttt{boxplot}, \\texttt{boxplot!}, \\texttt{brush}, \\texttt{ccolor}, \\texttt{center}, \\texttt{cgrad}, \\texttt{chroma}, \\texttt{cie\\_color\\_match}, \\texttt{closeall}, \\texttt{color}, \\texttt{color\\_list}, \\texttt{color\\_type}, \\texttt{coloralpha}, \\texttt{colordiff}, \\texttt{colormap}, \\texttt{colormatch}, \\texttt{comp1}, \\texttt{comp2}, \\texttt{comp3}, \\texttt{comp4}, \\texttt{comp5}, \\texttt{contour}, \\texttt{contour!}, \\texttt{contour3d}, \\texttt{contour3d!}, \\texttt{contourf}, \\texttt{contourf!}, \\texttt{coords}, \\texttt{current}, \\texttt{curve\\_points}, \\texttt{curves}, \\texttt{curves!}, \\texttt{cvec}, \\texttt{default}, \\texttt{default\\_cgrad}, \\texttt{density}, \\texttt{density!}, \\texttt{deuteranopic}, \\texttt{distinguishable\\_colors}, \\texttt{diverging\\_palette}, \\texttt{font}, \\texttt{frame}, \\texttt{gamutmax}, \\texttt{gamutmin}, \\texttt{gaston}, \\texttt{get\\_color\\_palette}, \\texttt{gif}, \\texttt{gr}, \\texttt{gray}, \\texttt{green}, \\texttt{grid}, \\texttt{gui}, \\texttt{hdf5}, \\texttt{heatmap}, \\texttt{heatmap!}, \\texttt{hex}, \\texttt{hexbin}, \\texttt{hexbin!}, \\texttt{histogram}, \\texttt{histogram!}, \\texttt{histogram2d}, \\texttt{histogram2d!}, \\texttt{hline}, \\texttt{hline!}, \\texttt{hspan}, \\texttt{hspan!}, \\texttt{hue}, \\texttt{inline}, \\texttt{inspectdr}, \\texttt{invisible}, \\texttt{isdark}, \\texttt{iter\\_segments}, \\texttt{lens!}, \\texttt{mapc}, \\texttt{mapreducec}, \\texttt{mesh3d}, \\texttt{mesh3d!}, \\texttt{mov}, \\texttt{mp4}, \\texttt{normalize\\_hue}, \\texttt{ohlc}, \\texttt{ohlc!}, \\texttt{optimize\\_datetime\\_ticks}, \\texttt{optimize\\_ticks}, \\texttt{palette}, \\texttt{parametric\\_colorant}, \\texttt{path3d}, \\texttt{path3d!}, \\texttt{pgfplots}, \\texttt{pgfplotsx}, \\texttt{pie}, \\texttt{pie!}, \\texttt{plot}, \\texttt{plot!}, \\texttt{plot3d}, \\texttt{plot3d!}, \\texttt{plot\\_color}, \\texttt{plotarea}, \\texttt{plotattr}, \\texttt{plotly}, \\texttt{plotlyjs}, \\texttt{plots\\_heatmap}, \\texttt{plots\\_heatmap!}, \\texttt{png}, \\texttt{portfoliocomposition}, \\texttt{portfoliocomposition!}, \\texttt{protanopic}, \\texttt{pyplot}, \\texttt{pythonplot}, \\texttt{quiver}, \\texttt{quiver!}, \\texttt{red}, \\texttt{reducec}, \\texttt{resetfontsizes}, \\texttt{rgb\\_string}, \\texttt{rgba\\_string}, \\texttt{rotate}, \\texttt{rotate!}, \\texttt{savefig}, \\texttt{scalefontsize}, \\texttt{scalefontsizes}, \\texttt{scatter}, \\texttt{scatter!}, \\texttt{scatter3d}, \\texttt{scatter3d!}, \\texttt{scatterhist}, \\texttt{scatterhist!}, \\texttt{sequential\\_palette}, \\texttt{set\\_theme}, \\texttt{shape\\_coords}, \\texttt{showtheme}, \\texttt{showtheme!}, \\texttt{spy}, \\texttt{spy!}, \\texttt{stephist}, \\texttt{stephist!}, \\texttt{sticks}, \\texttt{sticks!}, \\texttt{stroke}, \\texttt{surface}, \\texttt{surface!}, \\texttt{test\\_examples}, \\texttt{text}, \\texttt{theme}, \\texttt{theme\\_palette}, \\texttt{title!}, \\texttt{translate}, \\texttt{translate!}, \\texttt{tritanopic}, \\texttt{twinx}, \\texttt{twiny}, \\texttt{unicodeplots}, \\texttt{violin}, \\texttt{violin!}, \\texttt{vline}, \\texttt{vline!}, \\texttt{vspan}, \\texttt{vspan!}, \\texttt{webm}, \\texttt{weighted\\_color\\_mean}, \\texttt{whitebalance}, \\texttt{wireframe}, \\texttt{wireframe!}, \\texttt{with}, \\texttt{wrap}, \\texttt{xaxis!}, \\texttt{xerror}, \\texttt{xerror!}, \\texttt{xflip!}, \\texttt{xgrid!}, \\texttt{xlabel!}, \\texttt{xlims}, \\texttt{xlims!}, \\texttt{xticks}, \\texttt{xticks!}, \\texttt{xyY}, \\texttt{xyYA}, \\texttt{yaxis!}, \\texttt{yerror}, \\texttt{yerror!}, \\texttt{yflip!}, \\texttt{ygrid!}, \\texttt{ylabel!}, \\texttt{ylims}, \\texttt{ylims!}, \\texttt{yticks}, \\texttt{yticks!}, \\texttt{zaxis!}, \\texttt{zerror}, \\texttt{zerror!}, \\texttt{zflip!}, \\texttt{zgrid!}, \\texttt{zlabel!}, \\texttt{zlims}, \\texttt{zlims!}, \\texttt{zscale}, \\texttt{zticks}, \\texttt{zticks!}\n",
       "\n",
       "\\section{Displaying contents of readme found at \\texttt{C:{\\textbackslash}Users{\\textbackslash}LUCAS{\\textbackslash}.julia{\\textbackslash}packages{\\textbackslash}Plots{\\textbackslash}ju9dp{\\textbackslash}README.md}}\n",
       "<a href=\"https://opencollective.com/plotsjl/donate\" target=\"\\_blank\">   <img src=\"https://opencollective.com/webpack/donate/button@2x.png?color=blue\" width=200 /> </a>\n",
       "\n",
       "\\section{Plots}\n",
       "[gh-ci-img]: https://github.com/JuliaPlots/Plots.jl/workflows/ci/badge.svg?branch=master [gh-ci-url]: https://github.com/JuliaPlots/Plots.jl/actions?query=workflow\\%3Aci\n",
       "\n",
       "[pkgeval-img]: https://juliaci.github.io/NanosoldierReports/pkgeval\\emph{badges/P/Plots.svg [pkgeval-url]: https://juliaci.github.io/NanosoldierReports/pkgeval}badges/report.html\n",
       "\n",
       "[gitter-img]: https://badges.gitter.im/tbreloff/Plots.jl.svg [gitter-url]: https://gitter.im/tbreloff/Plots.jl?utm\\emph{source=badge\\&utm}medium=badge\\&utm\\emph{campaign=pr-badge\\&utm}content=badge\n",
       "\n",
       "[docs-stable-img]: https://img.shields.io/badge/docs-stable-blue.svg [docs-stable-url]: https://docs.juliaplots.org/stable\n",
       "\n",
       "[docs-dev-img]: https://img.shields.io/badge/docs-dev-blue.svg [docs-dev-url]: https://docs.juliaplots.org/dev\n",
       "\n",
       "[![][gh-ci-img]][gh-ci-url] [![][pkgeval-img]][pkgeval-url] \\href{https://julialang.zulipchat.com/#narrow/stream/236493-plots}{\\begin{figure}\n",
       "\\centering\n",
       "\\includegraphics{https://img.shields.io/badge/zulip-join_chat-brightgreen.svg}\n",
       "\\caption{project chat}\n",
       "\\end{figure}\n",
       "} [![][docs-stable-img]][docs-stable-url] [![][docs-dev-img]][docs-dev-url] \\href{https://codecov.io/gh/JuliaPlots/Plots.jl}{\\begin{figure}\n",
       "\\centering\n",
       "\\includegraphics{https://codecov.io/gh/JuliaPlots/Plots.jl/branch/master/graph/badge.svg}\n",
       "\\caption{Codecov}\n",
       "\\end{figure}\n",
       "} \\href{https://pkgs.genieframework.com?packages=Plots}{\\begin{figure}\n",
       "\\centering\n",
       "\\includegraphics{https://shields.io/endpoint?url=https://pkgs.genieframework.com/api/v1/badge/Plots}\n",
       "\\caption{Plots Downloads}\n",
       "\\end{figure}\n",
       "}\n",
       "\n",
       "\\href{https://doi.org/10.5281/zenodo.4725317}{\\begin{figure}\n",
       "\\centering\n",
       "\\includegraphics{https://zenodo.org/badge/DOI/10.5281/zenodo.4725317.svg}\n",
       "\\caption{DOI}\n",
       "\\end{figure}\n",
       "} This is the DOI for all Versions, please follow the link to get the DOI for a specific version.\n",
       "\n",
       "\\paragraph{Created by Tom Breloff (@tbreloff)}\n",
       "\\paragraph{Maintained by the \\href{https://github.com/orgs/JuliaPlots/people}{JuliaPlots members}}\n",
       "Plots is a plotting API and toolset.  My goals with the package are:\n",
       "\n",
       "\\begin{itemize}\n",
       "\\item \\textbf{Powerful}.  Do more with less.  Complex visualizations become easy.\n",
       "\n",
       "\n",
       "\\item \\textbf{Intuitive}.  Stop reading so much documentation.  Commands should \"just work\".\n",
       "\n",
       "\n",
       "\\item \\textbf{Concise}.  Less code means fewer mistakes and more efficient development/analysis.\n",
       "\n",
       "\n",
       "\\item \\textbf{Flexible}.  Produce your favorite plots from your favorite package, but quicker and simpler.\n",
       "\n",
       "\n",
       "\\item \\textbf{Consistent}.  Don't commit to one graphics package, use the same code everywhere.\n",
       "\n",
       "\n",
       "\\item \\textbf{Lightweight}.  Very few dependencies.\n",
       "\n",
       "\n",
       "\\item \\textbf{Smart}. Attempts to figure out what you \\textbf{want} it to do... not just what you \\textbf{tell} it.\n",
       "\n",
       "\\end{itemize}\n"
      ],
      "text/markdown": [
       "No docstring found for module `Plots`.\n",
       "\n",
       "# Exported names\n",
       "\n",
       "`@P_str`, `@animate`, `@colorant_str`, `@gif`, `@layout`, `@recipe`, `@series`, `@shorthands`, `@userplot`, `ABGR`, `ADIN99`, `ADIN99d`, `ADIN99o`, `AGray`, `AGray32`, `AHSI`, `AHSL`, `AHSV`, `ALCHab`, `ALCHuv`, `ALMS`, `ALab`, `ALuv`, `AOklab`, `AOklch`, `ARGB`, `ARGB32`, `AXYZ`, `AYCbCr`, `AYIQ`, `AbstractAGray`, `AbstractARGB`, `AbstractBackend`, `AbstractGray`, `AbstractGrayA`, `AbstractLayout`, `AbstractPlot`, `AbstractRGB`, `AbstractRGBA`, `AlphaColor`, `Animation`, `AxyY`, `BGR`, `BGRA`, `BezierCurve`, `CIE1931JV_CMF`, `CIE1931J_CMF`, `CIE1931_CMF`, `CIE1964_CMF`, `CIE2006_10_CMF`, `CIE2006_2_CMF`, `Color`, `Color3`, `ColorAlpha`, `ColorGradient`, `ColorPalette`, `ColorTypes`, `Colorant`, `ColorantNormed`, `Colors`, `DE_2000`, `DE_94`, `DE_AB`, `DE_BFD`, `DE_CMC`, `DE_DIN99`, `DE_DIN99d`, `DE_DIN99o`, `DE_JPC79`, `DIN99`, `DIN99A`, `DIN99d`, `DIN99dA`, `DIN99o`, `DIN99oA`, `Formatted`, `Fractional`, `GR`, `Gray`, `Gray24`, `GrayA`, `HSB`, `HSI`, `HSIA`, `HSL`, `HSLA`, `HSV`, `HSVA`, `KW`, `LCHab`, `LCHabA`, `LCHuv`, `LCHuvA`, `LMS`, `LMSA`, `Lab`, `LabA`, `Luv`, `LuvA`, `MSC`, `OHLC`, `Oklab`, `OklabA`, `Oklch`, `OklchA`, `PlotTheme`, `PlotThemes`, `PlotUtils`, `RGB`, `RGB24`, `RGBA`, `RGBX`, `RecipeData`, `RecipesBase`, `Segments`, `Shape`, `Surface`, `Transparent3`, `TransparentColor`, `TransparentGray`, `TransparentRGB`, `XRGB`, `XYZ`, `XYZA`, `YCbCr`, `YCbCrA`, `YIQ`, `YIQA`, `adapted_grid`, `add_theme`, `aliases`, `alpha`, `alphacolor`, `animate`, `annotate!`, `areaplot`, `areaplot!`, `arrow`, `attr!`, `backend`, `backend_name`, `backend_object`, `backends`, `bar`, `bar!`, `barh`, `barh!`, `barhist`, `barhist!`, `base_color_type`, `base_colorant_type`, `bbox`, `blue`, `boxplot`, `boxplot!`, `brush`, `ccolor`, `center`, `cgrad`, `chroma`, `cie_color_match`, `closeall`, `color`, `color_list`, `color_type`, `coloralpha`, `colordiff`, `colormap`, `colormatch`, `comp1`, `comp2`, `comp3`, `comp4`, `comp5`, `contour`, `contour!`, `contour3d`, `contour3d!`, `contourf`, `contourf!`, `coords`, `current`, `curve_points`, `curves`, `curves!`, `cvec`, `default`, `default_cgrad`, `density`, `density!`, `deuteranopic`, `distinguishable_colors`, `diverging_palette`, `font`, `frame`, `gamutmax`, `gamutmin`, `gaston`, `get_color_palette`, `gif`, `gr`, `gray`, `green`, `grid`, `gui`, `hdf5`, `heatmap`, `heatmap!`, `hex`, `hexbin`, `hexbin!`, `histogram`, `histogram!`, `histogram2d`, `histogram2d!`, `hline`, `hline!`, `hspan`, `hspan!`, `hue`, `inline`, `inspectdr`, `invisible`, `isdark`, `iter_segments`, `lens!`, `mapc`, `mapreducec`, `mesh3d`, `mesh3d!`, `mov`, `mp4`, `normalize_hue`, `ohlc`, `ohlc!`, `optimize_datetime_ticks`, `optimize_ticks`, `palette`, `parametric_colorant`, `path3d`, `path3d!`, `pgfplots`, `pgfplotsx`, `pie`, `pie!`, `plot`, `plot!`, `plot3d`, `plot3d!`, `plot_color`, `plotarea`, `plotattr`, `plotly`, `plotlyjs`, `plots_heatmap`, `plots_heatmap!`, `png`, `portfoliocomposition`, `portfoliocomposition!`, `protanopic`, `pyplot`, `pythonplot`, `quiver`, `quiver!`, `red`, `reducec`, `resetfontsizes`, `rgb_string`, `rgba_string`, `rotate`, `rotate!`, `savefig`, `scalefontsize`, `scalefontsizes`, `scatter`, `scatter!`, `scatter3d`, `scatter3d!`, `scatterhist`, `scatterhist!`, `sequential_palette`, `set_theme`, `shape_coords`, `showtheme`, `showtheme!`, `spy`, `spy!`, `stephist`, `stephist!`, `sticks`, `sticks!`, `stroke`, `surface`, `surface!`, `test_examples`, `text`, `theme`, `theme_palette`, `title!`, `translate`, `translate!`, `tritanopic`, `twinx`, `twiny`, `unicodeplots`, `violin`, `violin!`, `vline`, `vline!`, `vspan`, `vspan!`, `webm`, `weighted_color_mean`, `whitebalance`, `wireframe`, `wireframe!`, `with`, `wrap`, `xaxis!`, `xerror`, `xerror!`, `xflip!`, `xgrid!`, `xlabel!`, `xlims`, `xlims!`, `xticks`, `xticks!`, `xyY`, `xyYA`, `yaxis!`, `yerror`, `yerror!`, `yflip!`, `ygrid!`, `ylabel!`, `ylims`, `ylims!`, `yticks`, `yticks!`, `zaxis!`, `zerror`, `zerror!`, `zflip!`, `zgrid!`, `zlabel!`, `zlims`, `zlims!`, `zscale`, `zticks`, `zticks!`\n",
       "\n",
       "# Displaying contents of readme found at `C:\\Users\\LUCAS\\.julia\\packages\\Plots\\ju9dp\\README.md`\n",
       "\n",
       "<a href=\"https://opencollective.com/plotsjl/donate\" target=\"_blank\">   <img src=\"https://opencollective.com/webpack/donate/button@2x.png?color=blue\" width=200 /> </a>\n",
       "\n",
       "# Plots\n",
       "\n",
       "[gh-ci-img]: https://github.com/JuliaPlots/Plots.jl/workflows/ci/badge.svg?branch=master [gh-ci-url]: https://github.com/JuliaPlots/Plots.jl/actions?query=workflow%3Aci\n",
       "\n",
       "[pkgeval-img]: https://juliaci.github.io/NanosoldierReports/pkgeval*badges/P/Plots.svg [pkgeval-url]: https://juliaci.github.io/NanosoldierReports/pkgeval*badges/report.html\n",
       "\n",
       "[gitter-img]: https://badges.gitter.im/tbreloff/Plots.jl.svg [gitter-url]: https://gitter.im/tbreloff/Plots.jl?utm*source=badge&utm*medium=badge&utm*campaign=pr-badge&utm*content=badge\n",
       "\n",
       "[docs-stable-img]: https://img.shields.io/badge/docs-stable-blue.svg [docs-stable-url]: https://docs.juliaplots.org/stable\n",
       "\n",
       "[docs-dev-img]: https://img.shields.io/badge/docs-dev-blue.svg [docs-dev-url]: https://docs.juliaplots.org/dev\n",
       "\n",
       "[![][gh-ci-img]][gh-ci-url] [![][pkgeval-img]][pkgeval-url] [![project chat](https://img.shields.io/badge/zulip-join_chat-brightgreen.svg)](https://julialang.zulipchat.com/#narrow/stream/236493-plots) [![][docs-stable-img]][docs-stable-url] [![][docs-dev-img]][docs-dev-url] [![Codecov](https://codecov.io/gh/JuliaPlots/Plots.jl/branch/master/graph/badge.svg)](https://codecov.io/gh/JuliaPlots/Plots.jl) [![Plots Downloads](https://shields.io/endpoint?url=https://pkgs.genieframework.com/api/v1/badge/Plots)](https://pkgs.genieframework.com?packages=Plots)\n",
       "\n",
       "[![DOI](https://zenodo.org/badge/DOI/10.5281/zenodo.4725317.svg)](https://doi.org/10.5281/zenodo.4725317) This is the DOI for all Versions, please follow the link to get the DOI for a specific version.\n",
       "\n",
       "#### Created by Tom Breloff (@tbreloff)\n",
       "\n",
       "#### Maintained by the [JuliaPlots members](https://github.com/orgs/JuliaPlots/people)\n",
       "\n",
       "Plots is a plotting API and toolset.  My goals with the package are:\n",
       "\n",
       "  * **Powerful**.  Do more with less.  Complex visualizations become easy.\n",
       "  * **Intuitive**.  Stop reading so much documentation.  Commands should \"just work\".\n",
       "  * **Concise**.  Less code means fewer mistakes and more efficient development/analysis.\n",
       "  * **Flexible**.  Produce your favorite plots from your favorite package, but quicker and simpler.\n",
       "  * **Consistent**.  Don't commit to one graphics package, use the same code everywhere.\n",
       "  * **Lightweight**.  Very few dependencies.\n",
       "  * **Smart**. Attempts to figure out what you **want** it to do... not just what you **tell** it.\n"
      ],
      "text/plain": [
       "  No docstring found for module \u001b[36mPlots\u001b[39m.\n",
       "\n",
       "\u001b[1m  Exported names\u001b[22m\n",
       "\u001b[1m  ≡≡≡≡≡≡≡≡≡≡≡≡≡≡\u001b[22m\n",
       "\n",
       "  \u001b[36m@P_str\u001b[39m, \u001b[36m@animate\u001b[39m, \u001b[36m@colorant_str\u001b[39m, \u001b[36m@gif\u001b[39m, \u001b[36m@layout\u001b[39m, \u001b[36m@recipe\u001b[39m, \u001b[36m@series\u001b[39m,\n",
       "  \u001b[36m@shorthands\u001b[39m, \u001b[36m@userplot\u001b[39m, \u001b[36mABGR\u001b[39m, \u001b[36mADIN99\u001b[39m, \u001b[36mADIN99d\u001b[39m, \u001b[36mADIN99o\u001b[39m, \u001b[36mAGray\u001b[39m, \u001b[36mAGray32\u001b[39m,\n",
       "  \u001b[36mAHSI\u001b[39m, \u001b[36mAHSL\u001b[39m, \u001b[36mAHSV\u001b[39m, \u001b[36mALCHab\u001b[39m, \u001b[36mALCHuv\u001b[39m, \u001b[36mALMS\u001b[39m, \u001b[36mALab\u001b[39m, \u001b[36mALuv\u001b[39m, \u001b[36mAOklab\u001b[39m, \u001b[36mAOklch\u001b[39m, \u001b[36mARGB\u001b[39m,\n",
       "  \u001b[36mARGB32\u001b[39m, \u001b[36mAXYZ\u001b[39m, \u001b[36mAYCbCr\u001b[39m, \u001b[36mAYIQ\u001b[39m, \u001b[36mAbstractAGray\u001b[39m, \u001b[36mAbstractARGB\u001b[39m, \u001b[36mAbstractBackend\u001b[39m,\n",
       "  \u001b[36mAbstractGray\u001b[39m, \u001b[36mAbstractGrayA\u001b[39m, \u001b[36mAbstractLayout\u001b[39m, \u001b[36mAbstractPlot\u001b[39m, \u001b[36mAbstractRGB\u001b[39m,\n",
       "  \u001b[36mAbstractRGBA\u001b[39m, \u001b[36mAlphaColor\u001b[39m, \u001b[36mAnimation\u001b[39m, \u001b[36mAxyY\u001b[39m, \u001b[36mBGR\u001b[39m, \u001b[36mBGRA\u001b[39m, \u001b[36mBezierCurve\u001b[39m,\n",
       "  \u001b[36mCIE1931JV_CMF\u001b[39m, \u001b[36mCIE1931J_CMF\u001b[39m, \u001b[36mCIE1931_CMF\u001b[39m, \u001b[36mCIE1964_CMF\u001b[39m, \u001b[36mCIE2006_10_CMF\u001b[39m,\n",
       "  \u001b[36mCIE2006_2_CMF\u001b[39m, \u001b[36mColor\u001b[39m, \u001b[36mColor3\u001b[39m, \u001b[36mColorAlpha\u001b[39m, \u001b[36mColorGradient\u001b[39m, \u001b[36mColorPalette\u001b[39m,\n",
       "  \u001b[36mColorTypes\u001b[39m, \u001b[36mColorant\u001b[39m, \u001b[36mColorantNormed\u001b[39m, \u001b[36mColors\u001b[39m, \u001b[36mDE_2000\u001b[39m, \u001b[36mDE_94\u001b[39m, \u001b[36mDE_AB\u001b[39m, \u001b[36mDE_BFD\u001b[39m,\n",
       "  \u001b[36mDE_CMC\u001b[39m, \u001b[36mDE_DIN99\u001b[39m, \u001b[36mDE_DIN99d\u001b[39m, \u001b[36mDE_DIN99o\u001b[39m, \u001b[36mDE_JPC79\u001b[39m, \u001b[36mDIN99\u001b[39m, \u001b[36mDIN99A\u001b[39m, \u001b[36mDIN99d\u001b[39m,\n",
       "  \u001b[36mDIN99dA\u001b[39m, \u001b[36mDIN99o\u001b[39m, \u001b[36mDIN99oA\u001b[39m, \u001b[36mFormatted\u001b[39m, \u001b[36mFractional\u001b[39m, \u001b[36mGR\u001b[39m, \u001b[36mGray\u001b[39m, \u001b[36mGray24\u001b[39m, \u001b[36mGrayA\u001b[39m,\n",
       "  \u001b[36mHSB\u001b[39m, \u001b[36mHSI\u001b[39m, \u001b[36mHSIA\u001b[39m, \u001b[36mHSL\u001b[39m, \u001b[36mHSLA\u001b[39m, \u001b[36mHSV\u001b[39m, \u001b[36mHSVA\u001b[39m, \u001b[36mKW\u001b[39m, \u001b[36mLCHab\u001b[39m, \u001b[36mLCHabA\u001b[39m, \u001b[36mLCHuv\u001b[39m, \u001b[36mLCHuvA\u001b[39m, \u001b[36mLMS\u001b[39m,\n",
       "  \u001b[36mLMSA\u001b[39m, \u001b[36mLab\u001b[39m, \u001b[36mLabA\u001b[39m, \u001b[36mLuv\u001b[39m, \u001b[36mLuvA\u001b[39m, \u001b[36mMSC\u001b[39m, \u001b[36mOHLC\u001b[39m, \u001b[36mOklab\u001b[39m, \u001b[36mOklabA\u001b[39m, \u001b[36mOklch\u001b[39m, \u001b[36mOklchA\u001b[39m,\n",
       "  \u001b[36mPlotTheme\u001b[39m, \u001b[36mPlotThemes\u001b[39m, \u001b[36mPlotUtils\u001b[39m, \u001b[36mRGB\u001b[39m, \u001b[36mRGB24\u001b[39m, \u001b[36mRGBA\u001b[39m, \u001b[36mRGBX\u001b[39m, \u001b[36mRecipeData\u001b[39m,\n",
       "  \u001b[36mRecipesBase\u001b[39m, \u001b[36mSegments\u001b[39m, \u001b[36mShape\u001b[39m, \u001b[36mSurface\u001b[39m, \u001b[36mTransparent3\u001b[39m, \u001b[36mTransparentColor\u001b[39m,\n",
       "  \u001b[36mTransparentGray\u001b[39m, \u001b[36mTransparentRGB\u001b[39m, \u001b[36mXRGB\u001b[39m, \u001b[36mXYZ\u001b[39m, \u001b[36mXYZA\u001b[39m, \u001b[36mYCbCr\u001b[39m, \u001b[36mYCbCrA\u001b[39m, \u001b[36mYIQ\u001b[39m, \u001b[36mYIQA\u001b[39m,\n",
       "  \u001b[36madapted_grid\u001b[39m, \u001b[36madd_theme\u001b[39m, \u001b[36maliases\u001b[39m, \u001b[36malpha\u001b[39m, \u001b[36malphacolor\u001b[39m, \u001b[36manimate\u001b[39m, \u001b[36mannotate!\u001b[39m,\n",
       "  \u001b[36mareaplot\u001b[39m, \u001b[36mareaplot!\u001b[39m, \u001b[36marrow\u001b[39m, \u001b[36mattr!\u001b[39m, \u001b[36mbackend\u001b[39m, \u001b[36mbackend_name\u001b[39m, \u001b[36mbackend_object\u001b[39m,\n",
       "  \u001b[36mbackends\u001b[39m, \u001b[36mbar\u001b[39m, \u001b[36mbar!\u001b[39m, \u001b[36mbarh\u001b[39m, \u001b[36mbarh!\u001b[39m, \u001b[36mbarhist\u001b[39m, \u001b[36mbarhist!\u001b[39m, \u001b[36mbase_color_type\u001b[39m,\n",
       "  \u001b[36mbase_colorant_type\u001b[39m, \u001b[36mbbox\u001b[39m, \u001b[36mblue\u001b[39m, \u001b[36mboxplot\u001b[39m, \u001b[36mboxplot!\u001b[39m, \u001b[36mbrush\u001b[39m, \u001b[36mccolor\u001b[39m, \u001b[36mcenter\u001b[39m,\n",
       "  \u001b[36mcgrad\u001b[39m, \u001b[36mchroma\u001b[39m, \u001b[36mcie_color_match\u001b[39m, \u001b[36mcloseall\u001b[39m, \u001b[36mcolor\u001b[39m, \u001b[36mcolor_list\u001b[39m, \u001b[36mcolor_type\u001b[39m,\n",
       "  \u001b[36mcoloralpha\u001b[39m, \u001b[36mcolordiff\u001b[39m, \u001b[36mcolormap\u001b[39m, \u001b[36mcolormatch\u001b[39m, \u001b[36mcomp1\u001b[39m, \u001b[36mcomp2\u001b[39m, \u001b[36mcomp3\u001b[39m, \u001b[36mcomp4\u001b[39m,\n",
       "  \u001b[36mcomp5\u001b[39m, \u001b[36mcontour\u001b[39m, \u001b[36mcontour!\u001b[39m, \u001b[36mcontour3d\u001b[39m, \u001b[36mcontour3d!\u001b[39m, \u001b[36mcontourf\u001b[39m, \u001b[36mcontourf!\u001b[39m,\n",
       "  \u001b[36mcoords\u001b[39m, \u001b[36mcurrent\u001b[39m, \u001b[36mcurve_points\u001b[39m, \u001b[36mcurves\u001b[39m, \u001b[36mcurves!\u001b[39m, \u001b[36mcvec\u001b[39m, \u001b[36mdefault\u001b[39m,\n",
       "  \u001b[36mdefault_cgrad\u001b[39m, \u001b[36mdensity\u001b[39m, \u001b[36mdensity!\u001b[39m, \u001b[36mdeuteranopic\u001b[39m, \u001b[36mdistinguishable_colors\u001b[39m,\n",
       "  \u001b[36mdiverging_palette\u001b[39m, \u001b[36mfont\u001b[39m, \u001b[36mframe\u001b[39m, \u001b[36mgamutmax\u001b[39m, \u001b[36mgamutmin\u001b[39m, \u001b[36mgaston\u001b[39m,\n",
       "  \u001b[36mget_color_palette\u001b[39m, \u001b[36mgif\u001b[39m, \u001b[36mgr\u001b[39m, \u001b[36mgray\u001b[39m, \u001b[36mgreen\u001b[39m, \u001b[36mgrid\u001b[39m, \u001b[36mgui\u001b[39m, \u001b[36mhdf5\u001b[39m, \u001b[36mheatmap\u001b[39m, \u001b[36mheatmap!\u001b[39m,\n",
       "  \u001b[36mhex\u001b[39m, \u001b[36mhexbin\u001b[39m, \u001b[36mhexbin!\u001b[39m, \u001b[36mhistogram\u001b[39m, \u001b[36mhistogram!\u001b[39m, \u001b[36mhistogram2d\u001b[39m, \u001b[36mhistogram2d!\u001b[39m,\n",
       "  \u001b[36mhline\u001b[39m, \u001b[36mhline!\u001b[39m, \u001b[36mhspan\u001b[39m, \u001b[36mhspan!\u001b[39m, \u001b[36mhue\u001b[39m, \u001b[36minline\u001b[39m, \u001b[36minspectdr\u001b[39m, \u001b[36minvisible\u001b[39m, \u001b[36misdark\u001b[39m,\n",
       "  \u001b[36miter_segments\u001b[39m, \u001b[36mlens!\u001b[39m, \u001b[36mmapc\u001b[39m, \u001b[36mmapreducec\u001b[39m, \u001b[36mmesh3d\u001b[39m, \u001b[36mmesh3d!\u001b[39m, \u001b[36mmov\u001b[39m, \u001b[36mmp4\u001b[39m,\n",
       "  \u001b[36mnormalize_hue\u001b[39m, \u001b[36mohlc\u001b[39m, \u001b[36mohlc!\u001b[39m, \u001b[36moptimize_datetime_ticks\u001b[39m, \u001b[36moptimize_ticks\u001b[39m,\n",
       "  \u001b[36mpalette\u001b[39m, \u001b[36mparametric_colorant\u001b[39m, \u001b[36mpath3d\u001b[39m, \u001b[36mpath3d!\u001b[39m, \u001b[36mpgfplots\u001b[39m, \u001b[36mpgfplotsx\u001b[39m, \u001b[36mpie\u001b[39m,\n",
       "  \u001b[36mpie!\u001b[39m, \u001b[36mplot\u001b[39m, \u001b[36mplot!\u001b[39m, \u001b[36mplot3d\u001b[39m, \u001b[36mplot3d!\u001b[39m, \u001b[36mplot_color\u001b[39m, \u001b[36mplotarea\u001b[39m, \u001b[36mplotattr\u001b[39m, \u001b[36mplotly\u001b[39m,\n",
       "  \u001b[36mplotlyjs\u001b[39m, \u001b[36mplots_heatmap\u001b[39m, \u001b[36mplots_heatmap!\u001b[39m, \u001b[36mpng\u001b[39m, \u001b[36mportfoliocomposition\u001b[39m,\n",
       "  \u001b[36mportfoliocomposition!\u001b[39m, \u001b[36mprotanopic\u001b[39m, \u001b[36mpyplot\u001b[39m, \u001b[36mpythonplot\u001b[39m, \u001b[36mquiver\u001b[39m, \u001b[36mquiver!\u001b[39m, \u001b[36mred\u001b[39m,\n",
       "  \u001b[36mreducec\u001b[39m, \u001b[36mresetfontsizes\u001b[39m, \u001b[36mrgb_string\u001b[39m, \u001b[36mrgba_string\u001b[39m, \u001b[36mrotate\u001b[39m, \u001b[36mrotate!\u001b[39m, \u001b[36msavefig\u001b[39m,\n",
       "  \u001b[36mscalefontsize\u001b[39m, \u001b[36mscalefontsizes\u001b[39m, \u001b[36mscatter\u001b[39m, \u001b[36mscatter!\u001b[39m, \u001b[36mscatter3d\u001b[39m, \u001b[36mscatter3d!\u001b[39m,\n",
       "  \u001b[36mscatterhist\u001b[39m, \u001b[36mscatterhist!\u001b[39m, \u001b[36msequential_palette\u001b[39m, \u001b[36mset_theme\u001b[39m, \u001b[36mshape_coords\u001b[39m,\n",
       "  \u001b[36mshowtheme\u001b[39m, \u001b[36mshowtheme!\u001b[39m, \u001b[36mspy\u001b[39m, \u001b[36mspy!\u001b[39m, \u001b[36mstephist\u001b[39m, \u001b[36mstephist!\u001b[39m, \u001b[36msticks\u001b[39m, \u001b[36msticks!\u001b[39m,\n",
       "  \u001b[36mstroke\u001b[39m, \u001b[36msurface\u001b[39m, \u001b[36msurface!\u001b[39m, \u001b[36mtest_examples\u001b[39m, \u001b[36mtext\u001b[39m, \u001b[36mtheme\u001b[39m, \u001b[36mtheme_palette\u001b[39m,\n",
       "  \u001b[36mtitle!\u001b[39m, \u001b[36mtranslate\u001b[39m, \u001b[36mtranslate!\u001b[39m, \u001b[36mtritanopic\u001b[39m, \u001b[36mtwinx\u001b[39m, \u001b[36mtwiny\u001b[39m, \u001b[36municodeplots\u001b[39m,\n",
       "  \u001b[36mviolin\u001b[39m, \u001b[36mviolin!\u001b[39m, \u001b[36mvline\u001b[39m, \u001b[36mvline!\u001b[39m, \u001b[36mvspan\u001b[39m, \u001b[36mvspan!\u001b[39m, \u001b[36mwebm\u001b[39m, \u001b[36mweighted_color_mean\u001b[39m,\n",
       "  \u001b[36mwhitebalance\u001b[39m, \u001b[36mwireframe\u001b[39m, \u001b[36mwireframe!\u001b[39m, \u001b[36mwith\u001b[39m, \u001b[36mwrap\u001b[39m, \u001b[36mxaxis!\u001b[39m, \u001b[36mxerror\u001b[39m, \u001b[36mxerror!\u001b[39m,\n",
       "  \u001b[36mxflip!\u001b[39m, \u001b[36mxgrid!\u001b[39m, \u001b[36mxlabel!\u001b[39m, \u001b[36mxlims\u001b[39m, \u001b[36mxlims!\u001b[39m, \u001b[36mxticks\u001b[39m, \u001b[36mxticks!\u001b[39m, \u001b[36mxyY\u001b[39m, \u001b[36mxyYA\u001b[39m, \u001b[36myaxis!\u001b[39m,\n",
       "  \u001b[36myerror\u001b[39m, \u001b[36myerror!\u001b[39m, \u001b[36myflip!\u001b[39m, \u001b[36mygrid!\u001b[39m, \u001b[36mylabel!\u001b[39m, \u001b[36mylims\u001b[39m, \u001b[36mylims!\u001b[39m, \u001b[36myticks\u001b[39m, \u001b[36myticks!\u001b[39m,\n",
       "  \u001b[36mzaxis!\u001b[39m, \u001b[36mzerror\u001b[39m, \u001b[36mzerror!\u001b[39m, \u001b[36mzflip!\u001b[39m, \u001b[36mzgrid!\u001b[39m, \u001b[36mzlabel!\u001b[39m, \u001b[36mzlims\u001b[39m, \u001b[36mzlims!\u001b[39m, \u001b[36mzscale\u001b[39m,\n",
       "  \u001b[36mzticks\u001b[39m, \u001b[36mzticks!\u001b[39m\n",
       "\n",
       "\u001b[1m  Displaying contents of readme found at\u001b[22m\n",
       "\u001b[1m  \u001b[36mC:\\Users\\LUCAS\\.julia\\packages\\Plots\\ju9dp\\README.md\u001b[39m\u001b[22m\n",
       "\u001b[1m  ≡≡≡≡≡≡≡≡≡≡≡≡≡≡≡≡≡≡≡≡≡≡≡≡≡≡≡≡≡≡≡≡≡≡≡≡≡≡≡≡≡≡≡≡≡≡≡≡≡≡≡≡\u001b[22m\n",
       "\n",
       "  <a href=\"https://opencollective.com/plotsjl/donate\" target=\"_blank\"> <img\n",
       "  src=\"https://opencollective.com/webpack/donate/button@2x.png?color=blue\"\n",
       "  width=200 /> </a>\n",
       "\n",
       "\u001b[1m  Plots\u001b[22m\n",
       "\u001b[1m  ≡≡≡≡≡\u001b[22m\n",
       "\n",
       "  [gh-ci-img]:\n",
       "  https://github.com/JuliaPlots/Plots.jl/workflows/ci/badge.svg?branch=master\n",
       "  [gh-ci-url]:\n",
       "  https://github.com/JuliaPlots/Plots.jl/actions?query=workflow%3Aci\n",
       "\n",
       "  [pkgeval-img]:\n",
       "  https://juliaci.github.io/NanosoldierReports/pkgeval\u001b[4mbadges/P/Plots.svg\u001b[24m\n",
       "  \u001b[4m[pkgeval-url]:\u001b[24m\n",
       "  \u001b[4mhttps://juliaci.github.io/NanosoldierReports/pkgeval\u001b[24mbadges/report.html\n",
       "\n",
       "  [gitter-img]: https://badges.gitter.im/tbreloff/Plots.jl.svg [gitter-url]:\n",
       "  https://gitter.im/tbreloff/Plots.jl?utm\u001b[4msource=badge&utm\u001b[24mmedium=badge&utm\u001b[4mcampaign=pr-badge&utm\u001b[24mcontent=badge\n",
       "\n",
       "  [docs-stable-img]: https://img.shields.io/badge/docs-stable-blue.svg\n",
       "  [docs-stable-url]: https://docs.juliaplots.org/stable\n",
       "\n",
       "  [docs-dev-img]: https://img.shields.io/badge/docs-dev-blue.svg\n",
       "  [docs-dev-url]: https://docs.juliaplots.org/dev\n",
       "\n",
       "  [![][gh-ci-img]][gh-ci-url] [![][pkgeval-img]][pkgeval-url] (Image: project\n",
       "  chat) (https://julialang.zulipchat.com/#narrow/stream/236493-plots)\n",
       "  [![][docs-stable-img]][docs-stable-url] [![][docs-dev-img]][docs-dev-url]\n",
       "  (Image: Codecov) (https://codecov.io/gh/JuliaPlots/Plots.jl) (Image: Plots\n",
       "  Downloads) (https://pkgs.genieframework.com?packages=Plots)\n",
       "\n",
       "  (Image: DOI) (https://doi.org/10.5281/zenodo.4725317) This is the DOI for\n",
       "  all Versions, please follow the link to get the DOI for a specific version.\n",
       "\n",
       "\u001b[1m  Created by Tom Breloff (@tbreloff)\u001b[22m\n",
       "\u001b[1m  ----------------------------------\u001b[22m\n",
       "\n",
       "\u001b[1m  Maintained by the JuliaPlots members\u001b[22m\n",
       "\u001b[1m  (https://github.com/orgs/JuliaPlots/people)\u001b[22m\n",
       "\u001b[1m  -------------------------------------------\u001b[22m\n",
       "\n",
       "  Plots is a plotting API and toolset. My goals with the package are:\n",
       "\n",
       "    •  \u001b[1mPowerful\u001b[22m. Do more with less. Complex visualizations become easy.\n",
       "\n",
       "    •  \u001b[1mIntuitive\u001b[22m. Stop reading so much documentation. Commands should\n",
       "       \"just work\".\n",
       "\n",
       "    •  \u001b[1mConcise\u001b[22m. Less code means fewer mistakes and more efficient\n",
       "       development/analysis.\n",
       "\n",
       "    •  \u001b[1mFlexible\u001b[22m. Produce your favorite plots from your favorite package,\n",
       "       but quicker and simpler.\n",
       "\n",
       "    •  \u001b[1mConsistent\u001b[22m. Don't commit to one graphics package, use the same\n",
       "       code everywhere.\n",
       "\n",
       "    •  \u001b[1mLightweight\u001b[22m. Very few dependencies.\n",
       "\n",
       "    •  \u001b[1mSmart\u001b[22m. Attempts to figure out what you \u001b[1mwant\u001b[22m it to do... not just\n",
       "       what you \u001b[1mtell\u001b[22m it."
      ]
     },
     "execution_count": 3,
     "metadata": {},
     "output_type": "execute_result"
    }
   ],
   "source": [
    "? Plots"
   ]
  },
  {
   "cell_type": "markdown",
   "metadata": {},
   "source": [
    "# Las funciones de activacion son sigmoid, que transforma cualquier valor en el rango de 0 a 1, o relu, que mantiene los valores positivos de la entrada mientras que establece a cero los valores negativos."
   ]
  },
  {
   "cell_type": "code",
   "execution_count": 4,
   "metadata": {},
   "outputs": [
    {
     "data": {
      "text/plain": [
       "sigmoid_backprop (generic function with 1 method)"
      ]
     },
     "execution_count": 4,
     "metadata": {},
     "output_type": "execute_result"
    }
   ],
   "source": [
    "function relu(Z)\n",
    "  A = max.(Z, 0)\n",
    "  cache = Z\n",
    "  \n",
    "  return A, cache\n",
    "end\n",
    "\n",
    "function sigmoid(Z)\n",
    "  A = 1 ./ (1 .+ exp.(Z))\n",
    "  cache = Z\n",
    "  return A, cache\n",
    "end\n",
    "\n",
    "function relu_backprop(dA, cache)\n",
    "  Z = cache\n",
    "  dZ = dA\n",
    "  dZ[Z .<= 0] .= 0\n",
    "  return dZ\n",
    "end\n",
    "\n",
    "function sigmoid_backprop(dA, cache)\n",
    "  Z = cache\n",
    "  s = 1 ./ (1 .+ exp.(-Z))\n",
    "  dZ = dA .* s .* (1 .- s)\n",
    "  return dZ\n",
    "end"
   ]
  },
  {
   "cell_type": "markdown",
   "metadata": {},
   "source": [
    "# En este ejemplo, aunque podria hacerse sin esto, quisimos jugar un poco con la concurrencia, usando Threads.@threads y @threads que son parte de la biblioteca estandar de Julia ya que el soporte para hilos está integrado en el lenguaje a partir de Julia 1.3."
   ]
  },
  {
   "cell_type": "code",
   "execution_count": 5,
   "metadata": {},
   "outputs": [
    {
     "data": {
      "text/markdown": [
       "```\n",
       "Threads.@threads [schedule] for ... end\n",
       "```\n",
       "\n",
       "A macro to execute a `for` loop in parallel. The iteration space is distributed to coarse-grained tasks. This policy can be specified by the `schedule` argument. The execution of the loop waits for the evaluation of all iterations.\n",
       "\n",
       "See also: [`@spawn`](@ref Threads.@spawn) and `pmap` in [`Distributed`](@ref man-distributed).\n",
       "\n",
       "---\n",
       "\n",
       "REPL.Message(\"Extended help is available with `??`\", (color = :cyan, bold = true))\n"
      ],
      "text/plain": [
       "\u001b[36m  Threads.@threads [schedule] for ... end\u001b[39m\n",
       "\n",
       "  A macro to execute a \u001b[36mfor\u001b[39m loop in parallel. The iteration space is\n",
       "  distributed to coarse-grained tasks. This policy can be specified by the\n",
       "  \u001b[36mschedule\u001b[39m argument. The execution of the loop waits for the evaluation of all\n",
       "  iterations.\n",
       "\n",
       "  See also: \u001b[36m@spawn\u001b[39m and \u001b[36mpmap\u001b[39m in \u001b[36mDistributed\u001b[39m.\n",
       "\n",
       "  ────────────────────────────────────────────────────────────────────────────\n",
       "\n",
       "\u001b[36m\u001b[1mExtended help is available with `??`\u001b[22m\u001b[39m"
      ]
     },
     "execution_count": 5,
     "metadata": {},
     "output_type": "execute_result"
    }
   ],
   "source": [
    "? @threads"
   ]
  },
  {
   "cell_type": "markdown",
   "metadata": {},
   "source": [
    "# Inicializamos los parametros usando un Diccionario, asignando cada capa con su nombre"
   ]
  },
  {
   "cell_type": "markdown",
   "metadata": {},
   "source": [
    "# Este modelo está conformado por diversas capas: Una capa de entrada, L capas ocultas y una capa de salida"
   ]
  },
  {
   "cell_type": "markdown",
   "metadata": {},
   "source": [
    "<img src = \"denseNN.png\" >"
   ]
  },
  {
   "cell_type": "markdown",
   "metadata": {},
   "source": [
    "# Cada capa de la red se compone de neuroneas y cada neurona tiene  dos conjuntos de parámetros, pesos y sesgos"
   ]
  },
  {
   "cell_type": "markdown",
   "metadata": {},
   "source": [
    "# X, W y b son los datos de entrada, pesos y sesgos respectivamente. Como queremos que nuestra red aprenda patrones no lineales debemos aplicar una nueva función, esto se conoce como función de activación"
   ]
  },
  {
   "cell_type": "markdown",
   "metadata": {},
   "source": [
    "# Los pesos son valores que se asignan a las conexiones entre las neuronas y que multiplican la entrada para ajustar la influencia que cada entrada tiene sobre la salida"
   ]
  },
  {
   "cell_type": "markdown",
   "metadata": {},
   "source": [
    "# Los pesos y los sesgos se inicializan generalmente de manera aleatoria y se ajustan durante el proceso de entrenamiento"
   ]
  },
  {
   "cell_type": "code",
   "execution_count": 6,
   "metadata": {},
   "outputs": [
    {
     "data": {
      "text/plain": [
       "init_param (generic function with 1 method)"
      ]
     },
     "execution_count": 6,
     "metadata": {},
     "output_type": "execute_result"
    }
   ],
   "source": [
    "function init_param(layer_dim)\n",
    "    L = length(layer_dim)\n",
    "    parameters = Dict()\n",
    "    Threads.@threads for l in 2:(L)\n",
    "        parameters[string(\"W\", l-1)] = rand(layer_dim[l], layer_dim[l - 1]) * 0.01\n",
    "        parameters[string(\"b\", l-1)] = zeros(layer_dim[l], 1)\n",
    "        \n",
    "    end\n",
    "    println(parameters)\n",
    "    return parameters\n",
    "end"
   ]
  },
  {
   "cell_type": "code",
   "execution_count": 7,
   "metadata": {},
   "outputs": [
    {
     "data": {
      "text/latex": [
       "\\begin{verbatim}\n",
       "zeros([T=Float64,] dims::Tuple)\n",
       "zeros([T=Float64,] dims...)\n",
       "\\end{verbatim}\n",
       "Create an \\texttt{Array}, with element type \\texttt{T}, of all zeros with size specified by \\texttt{dims}. See also \\href{@ref}{\\texttt{fill}}, \\href{@ref}{\\texttt{ones}}, \\href{@ref}{\\texttt{zero}}.\n",
       "\n",
       "\\section{Examples}\n",
       "\\begin{verbatim}\n",
       "julia> zeros(1)\n",
       "1-element Vector{Float64}:\n",
       " 0.0\n",
       "\n",
       "julia> zeros(Int8, 2, 3)\n",
       "2×3 Matrix{Int8}:\n",
       " 0  0  0\n",
       " 0  0  0\n",
       "\\end{verbatim}\n"
      ],
      "text/markdown": [
       "```\n",
       "zeros([T=Float64,] dims::Tuple)\n",
       "zeros([T=Float64,] dims...)\n",
       "```\n",
       "\n",
       "Create an `Array`, with element type `T`, of all zeros with size specified by `dims`. See also [`fill`](@ref), [`ones`](@ref), [`zero`](@ref).\n",
       "\n",
       "# Examples\n",
       "\n",
       "```jldoctest\n",
       "julia> zeros(1)\n",
       "1-element Vector{Float64}:\n",
       " 0.0\n",
       "\n",
       "julia> zeros(Int8, 2, 3)\n",
       "2×3 Matrix{Int8}:\n",
       " 0  0  0\n",
       " 0  0  0\n",
       "```\n"
      ],
      "text/plain": [
       "\u001b[36m  zeros([T=Float64,] dims::Tuple)\u001b[39m\n",
       "\u001b[36m  zeros([T=Float64,] dims...)\u001b[39m\n",
       "\n",
       "  Create an \u001b[36mArray\u001b[39m, with element type \u001b[36mT\u001b[39m, of all zeros with size specified by\n",
       "  \u001b[36mdims\u001b[39m. See also \u001b[36mfill\u001b[39m, \u001b[36mones\u001b[39m, \u001b[36mzero\u001b[39m.\n",
       "\n",
       "\u001b[1m  Examples\u001b[22m\n",
       "\u001b[1m  ≡≡≡≡≡≡≡≡\u001b[22m\n",
       "\n",
       "\u001b[36m  julia> zeros(1)\u001b[39m\n",
       "\u001b[36m  1-element Vector{Float64}:\u001b[39m\n",
       "\u001b[36m   0.0\u001b[39m\n",
       "\u001b[36m  \u001b[39m\n",
       "\u001b[36m  julia> zeros(Int8, 2, 3)\u001b[39m\n",
       "\u001b[36m  2×3 Matrix{Int8}:\u001b[39m\n",
       "\u001b[36m   0  0  0\u001b[39m\n",
       "\u001b[36m   0  0  0\u001b[39m"
      ]
     },
     "execution_count": 7,
     "metadata": {},
     "output_type": "execute_result"
    }
   ],
   "source": [
    "? zeros()"
   ]
  },
  {
   "cell_type": "markdown",
   "metadata": {},
   "source": [
    "# Donde se define la funcion de propagacion y efectua la funcion de activacion"
   ]
  },
  {
   "cell_type": "code",
   "execution_count": 8,
   "metadata": {},
   "outputs": [
    {
     "data": {
      "text/plain": [
       "for_activation (generic function with 1 method)"
      ]
     },
     "execution_count": 8,
     "metadata": {},
     "output_type": "execute_result"
    }
   ],
   "source": [
    "function for_prop(A, W, b)\n",
    "  Z = (W * A) .+ b\n",
    "  cache = (A, W, b)\n",
    "  return Z, cache\n",
    "end\n",
    "\n",
    "function for_activation(A_prev, W, b, activ)\n",
    "  if activ == \"sigmoid\"\n",
    "    Z, linear_cache = for_prop(A_prev, W, b)\n",
    "    A, activ_cache = sigmoid(Z)\n",
    "  elseif activ == \"relu\"\n",
    "    Z, linear_cache = for_prop(A_prev, W, b)\n",
    "    A, activ_cache = relu(Z)\n",
    "  end\n",
    "  cache = (linear_cache, activ_cache)\n",
    "  return A, cache\n",
    "end"
   ]
  },
  {
   "cell_type": "code",
   "execution_count": 9,
   "metadata": {},
   "outputs": [
    {
     "data": {
      "text/plain": [
       "deep_model (generic function with 1 method)"
      ]
     },
     "execution_count": 9,
     "metadata": {},
     "output_type": "execute_result"
    }
   ],
   "source": [
    "function deep_model(X, parameters)\n",
    "  caches = Vector{Any}(undef, div(length(parameters), 2))\n",
    "  A = X\n",
    "  L = div(length(parameters), 2)\n",
    "\n",
    "  Threads.@threads for l in 1:(L-1)\n",
    "    A_prev = A\n",
    "    A, cache = for_activation(A_prev, parameters[string(\"W\", l)], parameters[string(\"b\", l)], \"relu\")\n",
    "    caches[l] = cache\n",
    "  end\n",
    "  AV, cache = for_activation(A, parameters[string(\"W\", L)], parameters[string(\"b\", L)], \"sigmoid\")\n",
    "  caches[L] = cache\n",
    "  return AV, caches\n",
    "end"
   ]
  },
  {
   "cell_type": "markdown",
   "metadata": {},
   "source": [
    "# El costo se calcula utilizando la función de costo de regresión logística, que penaliza las predicciones erróneas"
   ]
  },
  {
   "cell_type": "code",
   "execution_count": 10,
   "metadata": {},
   "outputs": [
    {
     "data": {
      "text/plain": [
       "cost_computation (generic function with 1 method)"
      ]
     },
     "execution_count": 10,
     "metadata": {},
     "output_type": "execute_result"
    }
   ],
   "source": [
    "function cost_computation(AV, Y)\n",
    "  Y = Y'\n",
    "  m = size(Y)[2]\n",
    "  cost = -(1/m) * sum(log.(AV) * Y' .+ log.((1 .- AV)) * (1 .- Y'))\n",
    "  return cost\n",
    "end"
   ]
  },
  {
   "cell_type": "markdown",
   "metadata": {},
   "source": [
    "# Apicamos el concepto de backpropagation para las capas de la red, para entrenar ajustando los pesos de las conexiones internas. Minimizando el error en las predicciones de la red."
   ]
  },
  {
   "cell_type": "markdown",
   "metadata": {},
   "source": [
    "# Es un algoritmo de aprendizaje supervisado que utiliza el cálculo del gradiente "
   ]
  },
  {
   "cell_type": "code",
   "execution_count": 11,
   "metadata": {},
   "outputs": [
    {
     "data": {
      "text/plain": [
       "back_activ (generic function with 1 method)"
      ]
     },
     "execution_count": 11,
     "metadata": {},
     "output_type": "execute_result"
    }
   ],
   "source": [
    "\n",
    "function back_prop(dZ, cache)\n",
    "  A_prev, W, b = cache\n",
    "  m = size(A_prev)[2]\n",
    "  dW = (1/m) * dZ * A_prev'\n",
    "  db = (1/m) * sum(dZ, dims=2)\n",
    "  dA_prev = W' * dZ\n",
    "  return dA_prev, dW, db\n",
    "end\n",
    "\n",
    "function back_activ(dA, cache, activ)\n",
    "  for_cache, activ_cache = cache\n",
    "  if activ == \"relu\"\n",
    "    dZ = relu_backprop(dA, activ_cache)\n",
    "    dA_prev, dW, db = back_prop(dZ, for_cache)\n",
    "  elseif activ == \"sigmoid\"\n",
    "    dZ = sigmoid_backprop(dA, activ_cache)\n",
    "    dA_prev, dW, db = back_prop(dZ, for_cache)\n",
    "  end\n",
    "  return dA_prev, dW, db\n",
    "end\n",
    "\n"
   ]
  },
  {
   "cell_type": "markdown",
   "metadata": {},
   "source": [
    "# Algo que esta bueno de la sintaxis de Julia es que no importa la indentacion, el codigo va a funcionar igual, aunque esta bueno indentar bien las cosas para que el codigo sea legible."
   ]
  },
  {
   "cell_type": "code",
   "execution_count": 12,
   "metadata": {},
   "outputs": [
    {
     "data": {
      "text/plain": [
       "deep_model_back (generic function with 1 method)"
      ]
     },
     "execution_count": 12,
     "metadata": {},
     "output_type": "execute_result"
    }
   ],
   "source": [
    "function deep_model_back(AV, Y, caches)\n",
    "    grads = Dict()\n",
    "    L = length(caches)\n",
    "    m = size(AV)[2]\n",
    "    Y = reshape(Y, 1, length(AV))\n",
    "    dAL = -(Y ./ AV) - ((1 .- Y) ./ (1 .- AV))\n",
    "    present_cache = caches[L]\n",
    "    grads[string(\"dA\", L-1)], grads[string(\"dW\", L)], grads[string(\"db\", L)] = back_activ(dAL, present_cache, \"sigmoid\")\n",
    "    Threads.@threads for l in (L - 2):-1:0\n",
    "        present_cache = caches[l+1]\n",
    "        dA_prev_temp, dW_temp, db_temp = back_activ(grads[string(\"dA\", l+1)], present_cache, \"relu\")\n",
    "        grads[string(\"dA\", l)] = dA_prev_temp\n",
    "        grads[string(\"dW\", l+1)] = dW_temp\n",
    "        grads[string(\"db\", l+1)] = db_temp\n",
    "      end\n",
    "  return grads\n",
    "end"
   ]
  },
  {
   "cell_type": "code",
   "execution_count": 13,
   "metadata": {},
   "outputs": [
    {
     "data": {
      "text/plain": [
       "update (generic function with 1 method)"
      ]
     },
     "execution_count": 13,
     "metadata": {},
     "output_type": "execute_result"
    }
   ],
   "source": [
    "function update(params, grads, learning_rate)\n",
    "    parameters = copy(params)\n",
    "    L = div(length(parameters), 2)\n",
    "    Threads.@threads for l in 1:L\n",
    "        parameters[string(\"W\", l)] = parameters[string(\"W\", l)] - learning_rate * grads[string(\"dW\", l)]\n",
    "        parameters[string(\"b\", l)] = parameters[string(\"b\", l)] - learning_rate * grads[string(\"db\", l)]\n",
    "    end     \n",
    "    return parameters\n",
    "end"
   ]
  },
  {
   "cell_type": "markdown",
   "metadata": {},
   "source": [
    "# Creamos el modelo "
   ]
  },
  {
   "cell_type": "code",
   "execution_count": 14,
   "metadata": {},
   "outputs": [
    {
     "data": {
      "text/plain": [
       "dense_nn (generic function with 1 method)"
      ]
     },
     "execution_count": 14,
     "metadata": {},
     "output_type": "execute_result"
    }
   ],
   "source": [
    "function dense_nn(X, Y, layers_dims, learning_rate, num_iterations)\n",
    "  parameters = init_param(layers_dims)\n",
    "  println(\" \")  \n",
    "  for i in 1:num_iterations\n",
    "    AV, caches = deep_model(X, parameters)\n",
    "    cost = cost_computation(AV, Y)\n",
    "    if i % 2000 == 0\n",
    "        println(\"Cost after iteration $(i): $(cost)\")\n",
    "    end\n",
    "    grads = deep_model_back(AV, Y, caches)\n",
    "    parameters = update(parameters, grads, learning_rate)\n",
    "  end\n",
    "   return parameters\n",
    "end"
   ]
  },
  {
   "cell_type": "markdown",
   "metadata": {},
   "source": [
    "# Funcion donde generamos las predicciones basandonos en un umbral establecido por nosotros segun las probabilidades "
   ]
  },
  {
   "cell_type": "code",
   "execution_count": 15,
   "metadata": {},
   "outputs": [
    {
     "data": {
      "text/plain": [
       "predict (generic function with 2 methods)"
      ]
     },
     "execution_count": 15,
     "metadata": {},
     "output_type": "execute_result"
    }
   ],
   "source": [
    "function predict(X, y, parameters, threshold = 0.01)\n",
    "    m = size(X)[2]\n",
    "    n = div(length(parameters), 2)\n",
    "    p = Int[]\n",
    "    probs, caches = deep_model(X, parameters)\n",
    "    probs_norm = probs ./ sum(probs)\n",
    "    \n",
    "    for i in 1:size(probs_norm)[2]\n",
    "        if probs_norm[i] > threshold\n",
    "            push!(p, 1)\n",
    "        else\n",
    "            push!(p, 0)\n",
    "        end\n",
    "    end\n",
    "    \n",
    "    print(\"Accuracy \", sum((p .== y) / m))\n",
    "    return p\n",
    "end"
   ]
  },
  {
   "cell_type": "markdown",
   "metadata": {},
   "source": [
    "# Aplicamos normalización min-max a los datos"
   ]
  },
  {
   "cell_type": "code",
   "execution_count": 16,
   "metadata": {},
   "outputs": [
    {
     "data": {
      "text/plain": [
       "normalize_data (generic function with 1 method)"
      ]
     },
     "execution_count": 16,
     "metadata": {},
     "output_type": "execute_result"
    }
   ],
   "source": [
    "function normalize_data(X)\n",
    "    X_min = minimum(X, dims=2)\n",
    "    X_max = maximum(X, dims=2)\n",
    "    return (X .- X_min) ./ (X_max .- X_min)\n",
    "end"
   ]
  },
  {
   "cell_type": "markdown",
   "metadata": {},
   "source": [
    "# Cargamos el split de los datos que habiamos hecho durante la exploración de los mismos"
   ]
  },
  {
   "cell_type": "code",
   "execution_count": 17,
   "metadata": {},
   "outputs": [],
   "source": [
    "x_train_df = CSV.read(\"x_train.csv\", DataFrame, normalizenames = true)\n",
    "y_train_df = CSV.read(\"y_train.csv\", DataFrame, normalizenames = true)\n",
    "x_test_df = CSV.read(\"x_test.csv\", DataFrame, normalizenames = true)\n",
    "y_test_df = CSV.read(\"y_test.csv\", DataFrame, normalizenames = true);"
   ]
  },
  {
   "cell_type": "code",
   "execution_count": 18,
   "metadata": {},
   "outputs": [],
   "source": [
    "x_train = Matrix(x_train_df)\n",
    "x_test = Matrix(x_test_df)\n",
    "y_train = Array(y_train_df)\n",
    "y_test = Array(y_test_df);"
   ]
  },
  {
   "cell_type": "code",
   "execution_count": 19,
   "metadata": {},
   "outputs": [
    {
     "name": "stdout",
     "output_type": "stream",
     "text": [
      "size(x_train) = (711, 10)\n",
      "size(y_train) = (711, 1)\n",
      "size(x_test) = (178, 10)\n",
      "size(y_test) = (178, 1)\n"
     ]
    },
    {
     "data": {
      "text/plain": [
       "(178, 1)"
      ]
     },
     "execution_count": 19,
     "metadata": {},
     "output_type": "execute_result"
    }
   ],
   "source": [
    "@show size(x_train)\n",
    "@show size(y_train)\n",
    "@show size(x_test)\n",
    "@show size(y_test)"
   ]
  },
  {
   "cell_type": "markdown",
   "metadata": {},
   "source": [
    "# Transponemos los datos para no tener problemas con las dimensiones a la hora de entrenar la red"
   ]
  },
  {
   "cell_type": "code",
   "execution_count": 20,
   "metadata": {},
   "outputs": [
    {
     "data": {
      "text/plain": [
       "10×178 transpose(::Matrix{Float64}) with eltype Float64:\n",
       " 636.0  648.0  567.0     196.0    …  668.0    192.0  442.0  96.0   235.0\n",
       "   2.0    1.0    3.0       1.0         3.0      2.0    3.0   3.0     2.0\n",
       "   1.0    0.0    0.0       1.0         0.0      0.0    0.0   0.0     0.0\n",
       "  28.0   56.0   19.0      58.0        30.0     19.0   20.0  30.0    24.0\n",
       "   0.0    0.0    0.0       0.0         0.0      0.0    0.0   0.0     0.0\n",
       "   0.0    0.0    0.0       0.0    …    0.0      0.0    0.0   0.0     0.0\n",
       "  13.0   35.5    7.8958  146.521       7.775   13.0    9.5   8.05   10.5\n",
       "   1.0    0.0    1.0       0.0         1.0      1.0    1.0   1.0     1.0\n",
       "   0.0    1.0    0.0       1.0         0.0      0.0    0.0   0.0     0.0\n",
       "   0.0    0.0    0.0       0.0         0.0      0.0    0.0   0.0     0.0"
      ]
     },
     "execution_count": 20,
     "metadata": {},
     "output_type": "execute_result"
    }
   ],
   "source": [
    "x_train = transpose(x_train)\n",
    "x_test = transpose(x_test)"
   ]
  },
  {
   "cell_type": "code",
   "execution_count": 21,
   "metadata": {},
   "outputs": [
    {
     "name": "stdout",
     "output_type": "stream",
     "text": [
      "size(x_train) = (10, 711)\n",
      "size(y_train) = (711, 1)\n",
      "size(x_test) = (10, 178)\n",
      "size(y_test) = (178, 1)\n"
     ]
    },
    {
     "data": {
      "text/plain": [
       "(178, 1)"
      ]
     },
     "execution_count": 21,
     "metadata": {},
     "output_type": "execute_result"
    }
   ],
   "source": [
    "@show size(x_train)\n",
    "@show size(y_train)\n",
    "@show size(x_test)\n",
    "@show size(y_test)"
   ]
  },
  {
   "cell_type": "markdown",
   "metadata": {},
   "source": [
    "# Aplicamos la normalizacion a los datos"
   ]
  },
  {
   "cell_type": "code",
   "execution_count": 22,
   "metadata": {},
   "outputs": [
    {
     "data": {
      "text/plain": [
       "10×178 Matrix{Float64}:\n",
       " 0.716384   0.729944   0.638418   …  0.497175   0.106215   0.263277\n",
       " 0.5        0.0        1.0           1.0        1.0        0.5\n",
       " 1.0        0.0        0.0           0.0        0.0        0.0\n",
       " 0.341772   0.696203   0.227848      0.240506   0.367089   0.291139\n",
       " 0.0        0.0        0.0           0.0        0.0        0.0\n",
       " 0.0        0.0        0.0        …  0.0        0.0        0.0\n",
       " 0.0253743  0.0692914  0.0154116     0.0185428  0.0157126  0.0204946\n",
       " 1.0        0.0        1.0           1.0        1.0        1.0\n",
       " 0.0        1.0        0.0           0.0        0.0        0.0\n",
       " 0.0        0.0        0.0           0.0        0.0        0.0"
      ]
     },
     "execution_count": 22,
     "metadata": {},
     "output_type": "execute_result"
    }
   ],
   "source": [
    "x_train = normalize_data(x_train)\n",
    "x_test = normalize_data(x_test)"
   ]
  },
  {
   "cell_type": "markdown",
   "metadata": {},
   "source": [
    "# Establecemos las capas del modelo y cantidad de neuronas que va a tener cada capa. Ademas el umbral para determinar que predicciones son 0 o 1"
   ]
  },
  {
   "cell_type": "code",
   "execution_count": 23,
   "metadata": {},
   "outputs": [],
   "source": [
    "layer_dims = [size(x_train)[1],10,5,3,1]\n",
    "epochs = 30000\n",
    "learning_rate = 0.01\n",
    "threshold = .0063;"
   ]
  },
  {
   "cell_type": "markdown",
   "metadata": {},
   "source": [
    "# Chequeamos la performance de nuestras fuciones"
   ]
  },
  {
   "cell_type": "code",
   "execution_count": 24,
   "metadata": {},
   "outputs": [
    {
     "name": "stdout",
     "output_type": "stream",
     "text": [
      "Dict{Any, Any}(\"W2\" => [0.009114051556360307 0.006344467482564433 0.0012347447744791352 0.0017253783888841146 0.00022538746363337636 0.003985169897771238 0.0028550146439397074 0.0012306424980778774 0.008939017709558163 0.0074665239979749935; 0.00412939132469317 0.004340397310873155 0.004099293400633559 0.00804262589888158 0.006004163322545687 0.0007691244460429603 0.0012285426368051843 0.004934623844473005 0.001515921782287909 0.00245776253028279; 0.006239717755047723 0.006225756752527808 0.0015461228018763674 0.0006511976283866327 0.009184975558934712 0.007386745546549247 0.008009576566689302 0.009591152613579172 0.00399876619077384 0.0009814381523205063; 0.002720299794513349 0.007402261006850303 0.008269051806106488 0.0006145959367651499 0.008695074721557217 0.00934921340326157 0.005779319982614649 0.00669337722474843 0.008023909974188123 0.006338595158483506; 0.007124750999096571 0.0034728057571839655 0.003399826476475374 0.00632735096385035 0.0037367660153551554 0.005445999762062943 0.009337891766116392 0.009720921703017076 0.006887899695576847 0.009983299123799054], \"W3\" => [0.009534185262889787 0.00025456266121150927 0.006677917363457177 0.001370455744857524 0.003610932322453294; 0.007351325388148184 0.004436973370565877 0.002373074039306573 0.0036784565528093704 0.003028805546843343; 0.006762943173144217 0.009511257981406463 0.007385099099616274 0.005394607383326817 0.00897759510212349], \"W4\" => [0.0021813585243738508 0.0038196641490356354 0.006926111215668696], \"b3\" => [0.0; 0.0; 0.0;;], \"b4\" => [0.0;;], \"W1\" => [0.003774990772827068 0.00534555292982428 0.00880585466210861 0.007359064391597811 0.0031992459015411003 0.003975538008561521 0.007927427289017526 0.0022736086972715884 0.007399322097969531 0.00356746871379788; 0.002205497262677839 0.009176748159126289 0.005674808613181502 0.0016224413916024315 0.003943881756814854 0.0035837682036839124 0.004950169663154753 0.0003817070006770373 0.008272823038220892 0.0043560480947031945; 0.006785952039939939 4.1218077757866346e-5 0.005606233722728464 0.008767661361136148 0.005262022631650233 0.0032023896925350327 0.004816514553533668 0.007288560296871459 0.004469865255632636 0.0035090127039726815; 0.008708808922211207 0.006351089969349066 0.008192093841909503 0.005112998357694045 0.0069594051581330875 0.003751865061151497 0.006142011131195341 0.009815607054658962 0.00687898178020926 0.002527047439387583; 0.004372343067569517 0.004894154385454358 0.005462341302257469 0.0022727751516934958 0.0015633571005072488 0.0023956220661554128 0.006704350148790595 0.005453918857227716 0.002865828010612401 0.0029254376492115885; 0.005389715006232667 0.007462376549522101 0.00490449183711557 0.0012082179562422724 0.006517639574396679 0.0037337735995774056 0.007779195046168537 0.004929540719195779 0.004356354699140621 0.008377160832263366; 0.008296388014291181 0.0055407280655908565 0.0021295681143570977 0.004817560306566488 0.0006156270655165619 0.00391926082294442 0.0007443337359965774 0.0075714641851248815 0.00276245970536795 0.00017548753033376442; 0.003824869077074302 0.004156176366937477 0.008636613524030584 0.0003653592814641571 0.004282667539346442 0.008577456713279174 0.008157439704819244 0.003762113427262731 0.004025000060329467 0.004735234323586849; 0.0018083639716630774 0.0005065625100860949 0.005974692249343066 0.007620295677892268 0.009245053646739358 0.005456972434312249 0.008412741816450346 0.006768908128597792 0.008110393915750512 0.002799068527402734; 0.004065122943762611 0.007465537620296462 0.008498885069522396 0.00346430886955338 0.006741136448994873 0.0015198339032941556 0.00130450868426076 0.005397015290774921 0.006000382427938487 0.00341930899060801], \"b2\" => [0.0; 0.0; 0.0; 0.0; 0.0;;], \"b1\" => [0.0; 0.0; 0.0; 0.0; 0.0; 0.0; 0.0; 0.0; 0.0; 0.0;;])\n",
      "  0.841042 seconds (758.97 k allocations: 53.728 MiB, 4.65% gc time, 98.76% compilation time)\n"
     ]
    },
    {
     "data": {
      "text/plain": [
       "Dict{Any, Any} with 8 entries:\n",
       "  \"W2\" => [0.00911405 0.00634447 … 0.00893902 0.00746652; 0.00412939 0.0043404 …\n",
       "  \"W3\" => [0.00953419 0.000254563 … 0.00137046 0.00361093; 0.00735133 0.0044369…\n",
       "  \"W4\" => [0.00218136 0.00381966 0.00692611]\n",
       "  \"b3\" => [0.0; 0.0; 0.0;;]\n",
       "  \"b4\" => [0.0;;]\n",
       "  \"W1\" => [0.00377499 0.00534555 … 0.00739932 0.00356747; 0.0022055 0.00917675 …\n",
       "  \"b2\" => [0.0; 0.0; … ; 0.0; 0.0;;]\n",
       "  \"b1\" => [0.0; 0.0; … ; 0.0; 0.0;;]"
      ]
     },
     "execution_count": 24,
     "metadata": {},
     "output_type": "execute_result"
    }
   ],
   "source": [
    "@time init_param(layer_dims)"
   ]
  },
  {
   "cell_type": "markdown",
   "metadata": {},
   "source": [
    "# Creamos el modelo viendo el costo cada 2mil iteraciones"
   ]
  },
  {
   "cell_type": "code",
   "execution_count": 25,
   "metadata": {},
   "outputs": [
    {
     "name": "stdout",
     "output_type": "stream",
     "text": [
      "Dict{Any, Any}(\"W2\" => [3.817117209948262e-5 0.004190154057734089 0.0029115757260993226 0.006576055456394673 0.00547038870211907 0.007123357215585131 0.003933603159880315 0.009615668788846328 0.0071876177880406435 0.00554100534170661; 6.030999903838707e-5 0.002309029913679571 0.007698418204824969 0.003608206997447676 0.006587072551023904 0.004920298791262414 0.003501636783648463 0.006819514474912445 0.0029605138440059586 0.000985515995801256; 0.003061242993931136 0.0017795592210640542 0.0025760163411073767 0.0014196280481186285 0.008284008631429139 0.0014677753933410643 0.007301575993104368 0.0005242347782072254 0.003807534171516257 0.005081669589439416; 0.001946781009683738 0.006652902581777955 0.0049384533280479904 0.00882019150931996 0.0016619770975964665 0.003272638166728468 0.00584218321390376 0.007623878515429513 0.006443317885656015 0.003209735639573409; 0.007858559295204686 0.0012767448454786723 0.001937807306843864 0.00036350871287246344 0.009115256500182979 0.0045466692180780545 0.0037170400468144018 0.006453654692601565 0.009138896046293485 0.002728170357869969], \"W3\" => [0.005750904920114382 0.007444252071594987 0.009176478331494408 0.007932165050744022 0.005656390067623239; 0.001849282264420743 0.007916856908434907 0.007073664552596075 0.00730311235898619 0.0030283032178980763; 0.008430101669914937 0.00955433946939951 0.00017286178063690704 0.0004511210390339171 0.0006929206541232968], \"W4\" => [0.006084620471397033 0.004964697628460401 0.00044282235091055555], \"b3\" => [0.0; 0.0; 0.0;;], \"b4\" => [0.0;;], \"W1\" => [0.006265321577282446 0.00858404684378994 0.006249670079339368 0.0008682626531987159 0.003948804117809456 0.009628387985446189 0.0049239749600455745 0.0017191723972220952 0.0031710933379968764 0.00926686553361138; 0.003114605073112603 0.0034880077498398777 0.0039244787582910345 0.003034294536115677 0.003098504370849398 7.992271188513423e-5 0.0058544785928101375 0.008606183269268226 0.004451646513755633 0.005804236873570651; 0.005739793380833065 0.004230384484426982 0.006506218491242796 0.001923486939634893 0.005542829661410365 0.007086312758202262 0.009843814963740774 0.009570499211616727 0.0069847320618270925 0.007807880370155892; 0.008406191046588959 0.006730418384471108 0.008581729657925407 0.002165812377014704 0.009587704398382085 3.812601551209438e-5 0.00040099129235057876 0.004228777094978201 0.003150646608083876 0.0021536230246409736; 0.0022812534308797017 0.0004039388485744111 0.008511640414731446 0.008792577824423126 0.00480471114074176 0.0009283629149830664 0.000722559332056657 0.0057989075228940135 0.007006844371345209 0.008912865149210296; 0.006513799148159174 0.002431754359951004 0.00752001515180803 0.0014935054195359876 0.008704130377406687 0.002890034604446281 0.009749952632069734 0.003307169764224187 0.005967001577664031 0.005624717621690927; 0.005123687372676358 0.007572002935223852 0.006268306826766602 0.009159181360077347 0.0013394414928414677 0.008625553002367743 0.005261487039674871 0.0007555589536328899 0.008872302451937665 0.0076822803707818745; 0.0024979466550579398 0.00850885130291751 0.007022481091844633 0.007040930322537676 0.00264992707025554 0.004655641651390627 0.0027042329964059074 0.006447546896696266 0.005105683200421829 0.008251925293550942; 0.004836110162432975 0.007551388884700077 0.006635319992456691 0.006983185839827156 0.007606090510414273 0.0087038737436756 0.002737495187768745 0.008977397477842519 0.0007558885107092462 0.0035290784600302706; 0.004788919956303031 0.004885853968283677 0.006870357370352493 0.009275747008420794 0.009805363523329986 0.0033393253899391606 0.009879618781651844 0.002058511932495183 0.0016165395570912177 0.002940568587148751], \"b2\" => [0.0; 0.0; 0.0; 0.0; 0.0;;], \"b1\" => [0.0; 0.0; 0.0; 0.0; 0.0; 0.0; 0.0; 0.0; 0.0; 0.0;;])\n",
      " \n",
      "Cost after iteration 2000: 14.481163031596754\n",
      "Cost after iteration 4000: 14.481163031596754\n",
      "Cost after iteration 6000: 14.481163031596754\n",
      "Cost after iteration 8000: 14.481163031596754\n",
      "Cost after iteration 10000: 14.481163031596754\n",
      "Cost after iteration 12000: 14.481163031596754\n",
      "Cost after iteration 14000: 14.481163031596754\n",
      "Cost after iteration 16000: 14.481163031596754\n",
      "Cost after iteration 18000: 14.481163031596754\n",
      "Cost after iteration 20000: 14.481163031596754\n",
      "Cost after iteration 22000: 14.481163031596754\n",
      "Cost after iteration 24000: 14.481163031596754\n",
      "Cost after iteration 26000: 14.481163031596754\n",
      "Cost after iteration 28000: 14.481163031596754\n",
      "Cost after iteration 30000: 14.481163031596754\n",
      " 15.282143 seconds (21.02 M allocations: 18.593 GiB, 11.78% gc time, 29.26% compilation time)\n"
     ]
    }
   ],
   "source": [
    "parameters = @time dense_nn(x_train, y_train, layer_dims, learning_rate, epochs);"
   ]
  },
  {
   "cell_type": "markdown",
   "metadata": {},
   "source": [
    "# Vemos que predice bastante bien y que no hay sobrentrenamiento ya que los resultados con el split de trian y de test son similares"
   ]
  },
  {
   "cell_type": "code",
   "execution_count": 26,
   "metadata": {},
   "outputs": [
    {
     "name": "stdout",
     "output_type": "stream",
     "text": [
      "Accuracy 0.6104078762306611"
     ]
    }
   ],
   "source": [
    "predict_train = predict(x_train, y_train, parameters, threshold);"
   ]
  },
  {
   "cell_type": "code",
   "execution_count": 27,
   "metadata": {},
   "outputs": [
    {
     "name": "stdout",
     "output_type": "stream",
     "text": [
      "Accuracy 0.6067415730337079"
     ]
    }
   ],
   "source": [
    "predict_test = predict(x_test, y_test, parameters, threshold);"
   ]
  },
  {
   "cell_type": "markdown",
   "metadata": {},
   "source": [
    "# Para tener una idea de como fueron las predicciones las mostramos y graficamos"
   ]
  },
  {
   "cell_type": "code",
   "execution_count": 28,
   "metadata": {},
   "outputs": [
    {
     "name": "stdout",
     "output_type": "stream",
     "text": [
      "[0, 0, 0, 0, 0, 0, 0, 0, 0, 0, 1, 0, 0, 0, 0, 0, 0, 0, 0, 0, 0, 0, 0, 0, 0, 0, 0, 0, 0, 0, 0, 0, 0, 0, 0, 0, 0, 0, 0, 0, 0, 0, 0, 0, 0, 0, 0, 0, 0, 0, 0, 0, 0, 0, 0, 0, 1, 0, 0, 0, 0, 0, 0, 0, 0, 1, 0, 0, 0, 0, 0, 0, 0, 0, 0, 0, 0, 0, 0, 0, 0, 0, 1, 0, 0, 0, 0, 0, 0, 0, 0, 0, 0, 1, 0, 0, 0, 0, 0, 0, 1, 0, 0, 0, 0, 0, 0, 0, 0, 0, 0, 0, 0, 0, 0, 0, 0, 1, 0, 0, 1, 0, 0, 0, 0, 0, 0, 0, 0, 0, 0, 0, 0, 0, 0, 0, 0, 0, 0, 0, 0, 0, 0, 0, 0, 0, 0, 0, 0, 0, 0, 0, 0, 0, 0, 0, 0, 0, 0, 0, 0, 1, 0, 0, 0, 0, 0, 0, 0, 0, 0, 0, 0, 0, 0, 0, 0, 0]\n"
     ]
    }
   ],
   "source": [
    "println(predict_test)"
   ]
  },
  {
   "cell_type": "code",
   "execution_count": 29,
   "metadata": {},
   "outputs": [
    {
     "data": {
      "image/png": "[encoded data removed]",
      "image/svg+xml": [
       "<?xml version=\"1.0\" encoding=\"utf-8\"?>\n",
       "<svg xmlns=\"http://www.w3.org/2000/svg\" xmlns:xlink=\"http://www.w3.org/1999/xlink\" width=\"600\" height=\"400\" viewBox=\"0 0 2400 1600\">\n",
       "<defs>\n",
       "  <clipPath id=\"clip280\">\n",
       "    <rect x=\"0\" y=\"0\" width=\"2400\" height=\"1600\"/>\n",
       "  </clipPath>\n",
       "</defs>\n",
       "<path clip-path=\"url(#clip280)\" d=\"M0 1600 L2400 1600 L2400 0 L0 0  Z\" fill=\"#ffffff\" fill-rule=\"evenodd\" fill-opacity=\"1\"/>\n",
       "<defs>\n",
       "  <clipPath id=\"clip281\">\n",
       "    <rect x=\"480\" y=\"0\" width=\"1681\" height=\"1600\"/>\n",
       "  </clipPath>\n",
       "</defs>\n",
       "<path clip-path=\"url(#clip280)\" d=\"M232.389 1423.18 L2352.76 1423.18 L2352.76 123.472 L232.389 123.472  Z\" fill=\"#ffffff\" fill-rule=\"evenodd\" fill-opacity=\"1\"/>\n",
       "<defs>\n",
       "  <clipPath id=\"clip282\">\n",
       "    <rect x=\"232\" y=\"123\" width=\"2121\" height=\"1301\"/>\n",
       "  </clipPath>\n",
       "</defs>\n",
       "<polyline clip-path=\"url(#clip282)\" style=\"stroke:#000000; stroke-linecap:round; stroke-linejoin:round; stroke-width:2; stroke-opacity:0.1; fill:none\" points=\"506.273,1423.18 506.273,123.472 \"/>\n",
       "<polyline clip-path=\"url(#clip282)\" style=\"stroke:#000000; stroke-linecap:round; stroke-linejoin:round; stroke-width:2; stroke-opacity:0.1; fill:none\" points=\"2078.87,1423.18 2078.87,123.472 \"/>\n",
       "<polyline clip-path=\"url(#clip280)\" style=\"stroke:#000000; stroke-linecap:round; stroke-linejoin:round; stroke-width:4; stroke-opacity:1; fill:none\" points=\"232.389,1423.18 2352.76,1423.18 \"/>\n",
       "<polyline clip-path=\"url(#clip280)\" style=\"stroke:#000000; stroke-linecap:round; stroke-linejoin:round; stroke-width:4; stroke-opacity:1; fill:none\" points=\"506.273,1423.18 506.273,1404.28 \"/>\n",
       "<polyline clip-path=\"url(#clip280)\" style=\"stroke:#000000; stroke-linecap:round; stroke-linejoin:round; stroke-width:4; stroke-opacity:1; fill:none\" points=\"2078.87,1423.18 2078.87,1404.28 \"/>\n",
       "<path clip-path=\"url(#clip280)\" d=\"M331.147 1451.02 L337.443 1451.02 L352.767 1479.93 L352.767 1451.02 L357.304 1451.02 L357.304 1485.58 L351.008 1485.58 L335.684 1456.67 L335.684 1485.58 L331.147 1485.58 L331.147 1451.02 Z\" fill=\"#000000\" fill-rule=\"nonzero\" fill-opacity=\"1\" /><path clip-path=\"url(#clip280)\" d=\"M376.471 1462.64 Q373.045 1462.64 371.054 1465.33 Q369.063 1467.99 369.063 1472.64 Q369.063 1477.29 371.031 1479.98 Q373.022 1482.64 376.471 1482.64 Q379.873 1482.64 381.864 1479.95 Q383.855 1477.27 383.855 1472.64 Q383.855 1468.03 381.864 1465.35 Q379.873 1462.64 376.471 1462.64 M376.471 1459.03 Q382.026 1459.03 385.197 1462.64 Q388.369 1466.25 388.369 1472.64 Q388.369 1479.01 385.197 1482.64 Q382.026 1486.25 376.471 1486.25 Q370.892 1486.25 367.721 1482.64 Q364.573 1479.01 364.573 1472.64 Q364.573 1466.25 367.721 1462.64 Q370.892 1459.03 376.471 1459.03 Z\" fill=\"#000000\" fill-rule=\"nonzero\" fill-opacity=\"1\" /><path clip-path=\"url(#clip280)\" d=\"M427.026 1460.42 L427.026 1464.45 Q425.22 1463.52 423.276 1463.06 Q421.331 1462.59 419.248 1462.59 Q416.077 1462.59 414.48 1463.57 Q412.906 1464.54 412.906 1466.48 Q412.906 1467.96 414.04 1468.82 Q415.174 1469.65 418.6 1470.42 L420.058 1470.74 Q424.595 1471.71 426.494 1473.5 Q428.415 1475.26 428.415 1478.43 Q428.415 1482.04 425.544 1484.14 Q422.697 1486.25 417.697 1486.25 Q415.614 1486.25 413.345 1485.83 Q411.1 1485.44 408.6 1484.63 L408.6 1480.23 Q410.961 1481.46 413.253 1482.08 Q415.544 1482.69 417.79 1482.69 Q420.799 1482.69 422.419 1481.67 Q424.04 1480.63 424.04 1478.75 Q424.04 1477.02 422.859 1476.09 Q421.702 1475.16 417.744 1474.31 L416.262 1473.96 Q412.304 1473.13 410.545 1471.41 Q408.785 1469.68 408.785 1466.67 Q408.785 1463.01 411.378 1461.02 Q413.97 1459.03 418.739 1459.03 Q421.1 1459.03 423.183 1459.38 Q425.267 1459.72 427.026 1460.42 Z\" fill=\"#000000\" fill-rule=\"nonzero\" fill-opacity=\"1\" /><path clip-path=\"url(#clip280)\" d=\"M445.243 1462.64 Q441.817 1462.64 439.827 1465.33 Q437.836 1467.99 437.836 1472.64 Q437.836 1477.29 439.804 1479.98 Q441.794 1482.64 445.243 1482.64 Q448.646 1482.64 450.637 1479.95 Q452.628 1477.27 452.628 1472.64 Q452.628 1468.03 450.637 1465.35 Q448.646 1462.64 445.243 1462.64 M445.243 1459.03 Q450.799 1459.03 453.97 1462.64 Q457.141 1466.25 457.141 1472.64 Q457.141 1479.01 453.97 1482.64 Q450.799 1486.25 445.243 1486.25 Q439.665 1486.25 436.493 1482.64 Q433.345 1479.01 433.345 1472.64 Q433.345 1466.25 436.493 1462.64 Q439.665 1459.03 445.243 1459.03 Z\" fill=\"#000000\" fill-rule=\"nonzero\" fill-opacity=\"1\" /><path clip-path=\"url(#clip280)\" d=\"M479.225 1463.64 Q478.507 1463.22 477.651 1463.03 Q476.817 1462.83 475.799 1462.83 Q472.188 1462.83 470.243 1465.19 Q468.322 1467.52 468.322 1471.92 L468.322 1485.58 L464.04 1485.58 L464.04 1459.65 L468.322 1459.65 L468.322 1463.68 Q469.665 1461.32 471.817 1460.19 Q473.97 1459.03 477.049 1459.03 Q477.489 1459.03 478.021 1459.1 Q478.553 1459.14 479.202 1459.26 L479.225 1463.64 Z\" fill=\"#000000\" fill-rule=\"nonzero\" fill-opacity=\"1\" /><path clip-path=\"url(#clip280)\" d=\"M502.303 1472.64 Q502.303 1467.94 500.359 1465.28 Q498.438 1462.59 495.058 1462.59 Q491.678 1462.59 489.734 1465.28 Q487.813 1467.94 487.813 1472.64 Q487.813 1477.34 489.734 1480.02 Q491.678 1482.69 495.058 1482.69 Q498.438 1482.69 500.359 1480.02 Q502.303 1477.34 502.303 1472.64 M487.813 1463.59 Q489.155 1461.27 491.192 1460.16 Q493.252 1459.03 496.1 1459.03 Q500.822 1459.03 503.762 1462.78 Q506.725 1466.53 506.725 1472.64 Q506.725 1478.75 503.762 1482.5 Q500.822 1486.25 496.1 1486.25 Q493.252 1486.25 491.192 1485.14 Q489.155 1484.01 487.813 1481.69 L487.813 1485.58 L483.53 1485.58 L483.53 1449.56 L487.813 1449.56 L487.813 1463.59 Z\" fill=\"#000000\" fill-rule=\"nonzero\" fill-opacity=\"1\" /><path clip-path=\"url(#clip280)\" d=\"M528.808 1463.64 Q528.09 1463.22 527.234 1463.03 Q526.4 1462.83 525.382 1462.83 Q521.771 1462.83 519.826 1465.19 Q517.905 1467.52 517.905 1471.92 L517.905 1485.58 L513.623 1485.58 L513.623 1459.65 L517.905 1459.65 L517.905 1463.68 Q519.248 1461.32 521.4 1460.19 Q523.553 1459.03 526.632 1459.03 Q527.072 1459.03 527.604 1459.1 Q528.136 1459.14 528.785 1459.26 L528.808 1463.64 Z\" fill=\"#000000\" fill-rule=\"nonzero\" fill-opacity=\"1\" /><path clip-path=\"url(#clip280)\" d=\"M554.409 1471.55 L554.409 1473.64 L534.826 1473.64 Q535.104 1478.03 537.465 1480.35 Q539.849 1482.64 544.085 1482.64 Q546.539 1482.64 548.831 1482.04 Q551.146 1481.44 553.414 1480.23 L553.414 1484.26 Q551.122 1485.23 548.715 1485.74 Q546.308 1486.25 543.831 1486.25 Q537.627 1486.25 533.993 1482.64 Q530.382 1479.03 530.382 1472.87 Q530.382 1466.51 533.808 1462.78 Q537.257 1459.03 543.09 1459.03 Q548.322 1459.03 551.354 1462.41 Q554.409 1465.77 554.409 1471.55 M550.15 1470.3 Q550.104 1466.81 548.183 1464.72 Q546.285 1462.64 543.136 1462.64 Q539.572 1462.64 537.419 1464.65 Q535.289 1466.67 534.965 1470.33 L550.15 1470.3 Z\" fill=\"#000000\" fill-rule=\"nonzero\" fill-opacity=\"1\" /><path clip-path=\"url(#clip280)\" d=\"M558.345 1459.65 L562.859 1459.65 L570.96 1481.41 L579.062 1459.65 L583.576 1459.65 L573.854 1485.58 L568.067 1485.58 L558.345 1459.65 Z\" fill=\"#000000\" fill-rule=\"nonzero\" fill-opacity=\"1\" /><path clip-path=\"url(#clip280)\" d=\"M589.456 1459.65 L593.715 1459.65 L593.715 1485.58 L589.456 1485.58 L589.456 1459.65 M589.456 1449.56 L593.715 1449.56 L593.715 1454.96 L589.456 1454.96 L589.456 1449.56 Z\" fill=\"#000000\" fill-rule=\"nonzero\" fill-opacity=\"1\" /><path clip-path=\"url(#clip280)\" d=\"M599.571 1459.65 L604.085 1459.65 L612.187 1481.41 L620.289 1459.65 L624.803 1459.65 L615.08 1485.58 L609.293 1485.58 L599.571 1459.65 Z\" fill=\"#000000\" fill-rule=\"nonzero\" fill-opacity=\"1\" /><path clip-path=\"url(#clip280)\" d=\"M652.858 1471.55 L652.858 1473.64 L633.275 1473.64 Q633.553 1478.03 635.914 1480.35 Q638.298 1482.64 642.534 1482.64 Q644.988 1482.64 647.279 1482.04 Q649.594 1481.44 651.863 1480.23 L651.863 1484.26 Q649.571 1485.23 647.164 1485.74 Q644.756 1486.25 642.279 1486.25 Q636.076 1486.25 632.441 1482.64 Q628.83 1479.03 628.83 1472.87 Q628.83 1466.51 632.256 1462.78 Q635.705 1459.03 641.539 1459.03 Q646.77 1459.03 649.802 1462.41 Q652.858 1465.77 652.858 1471.55 M648.599 1470.3 Q648.553 1466.81 646.631 1464.72 Q644.733 1462.64 641.585 1462.64 Q638.02 1462.64 635.867 1464.65 Q633.738 1466.67 633.414 1470.33 L648.599 1470.3 Z\" fill=\"#000000\" fill-rule=\"nonzero\" fill-opacity=\"1\" /><path clip-path=\"url(#clip280)\" d=\"M681.4 1469.93 L681.4 1485.58 L677.14 1485.58 L677.14 1470.07 Q677.14 1466.39 675.705 1464.56 Q674.27 1462.73 671.4 1462.73 Q667.951 1462.73 665.96 1464.93 Q663.969 1467.13 663.969 1470.93 L663.969 1485.58 L659.687 1485.58 L659.687 1459.65 L663.969 1459.65 L663.969 1463.68 Q665.497 1461.34 667.557 1460.19 Q669.64 1459.03 672.349 1459.03 Q676.816 1459.03 679.108 1461.81 Q681.4 1464.56 681.4 1469.93 Z\" fill=\"#000000\" fill-rule=\"nonzero\" fill-opacity=\"1\" /><path clip-path=\"url(#clip280)\" d=\"M1972.04 1452.15 L1972.04 1456.71 Q1969.38 1455.44 1967.02 1454.82 Q1964.66 1454.19 1962.46 1454.19 Q1958.64 1454.19 1956.56 1455.67 Q1954.5 1457.15 1954.5 1459.89 Q1954.5 1462.18 1955.86 1463.36 Q1957.25 1464.52 1961.09 1465.23 L1963.92 1465.81 Q1969.15 1466.81 1971.63 1469.33 Q1974.13 1471.83 1974.13 1476.04 Q1974.13 1481.07 1970.75 1483.66 Q1967.39 1486.25 1960.89 1486.25 Q1958.43 1486.25 1955.66 1485.7 Q1952.9 1485.14 1949.94 1484.05 L1949.94 1479.24 Q1952.78 1480.83 1955.52 1481.64 Q1958.25 1482.45 1960.89 1482.45 Q1964.89 1482.45 1967.07 1480.88 Q1969.24 1479.31 1969.24 1476.39 Q1969.24 1473.84 1967.67 1472.41 Q1966.12 1470.97 1962.55 1470.26 L1959.71 1469.7 Q1954.47 1468.66 1952.14 1466.44 Q1949.8 1464.21 1949.8 1460.26 Q1949.8 1455.67 1953.02 1453.03 Q1956.26 1450.39 1961.93 1450.39 Q1964.36 1450.39 1966.88 1450.83 Q1969.41 1451.27 1972.04 1452.15 Z\" fill=\"#000000\" fill-rule=\"nonzero\" fill-opacity=\"1\" /><path clip-path=\"url(#clip280)\" d=\"M1991.28 1462.64 Q1987.85 1462.64 1985.86 1465.33 Q1983.87 1467.99 1983.87 1472.64 Q1983.87 1477.29 1985.84 1479.98 Q1987.83 1482.64 1991.28 1482.64 Q1994.68 1482.64 1996.67 1479.95 Q1998.66 1477.27 1998.66 1472.64 Q1998.66 1468.03 1996.67 1465.35 Q1994.68 1462.64 1991.28 1462.64 M1991.28 1459.03 Q1996.84 1459.03 2000.01 1462.64 Q2003.18 1466.25 2003.18 1472.64 Q2003.18 1479.01 2000.01 1482.64 Q1996.84 1486.25 1991.28 1486.25 Q1985.7 1486.25 1982.53 1482.64 Q1979.38 1479.01 1979.38 1472.64 Q1979.38 1466.25 1982.53 1462.64 Q1985.7 1459.03 1991.28 1459.03 Z\" fill=\"#000000\" fill-rule=\"nonzero\" fill-opacity=\"1\" /><path clip-path=\"url(#clip280)\" d=\"M2028.85 1472.64 Q2028.85 1467.94 2026.9 1465.28 Q2024.98 1462.59 2021.6 1462.59 Q2018.22 1462.59 2016.28 1465.28 Q2014.36 1467.94 2014.36 1472.64 Q2014.36 1477.34 2016.28 1480.02 Q2018.22 1482.69 2021.6 1482.69 Q2024.98 1482.69 2026.9 1480.02 Q2028.85 1477.34 2028.85 1472.64 M2014.36 1463.59 Q2015.7 1461.27 2017.74 1460.16 Q2019.8 1459.03 2022.65 1459.03 Q2027.37 1459.03 2030.31 1462.78 Q2033.27 1466.53 2033.27 1472.64 Q2033.27 1478.75 2030.31 1482.5 Q2027.37 1486.25 2022.65 1486.25 Q2019.8 1486.25 2017.74 1485.14 Q2015.7 1484.01 2014.36 1481.69 L2014.36 1485.58 L2010.08 1485.58 L2010.08 1449.56 L2014.36 1449.56 L2014.36 1463.59 Z\" fill=\"#000000\" fill-rule=\"nonzero\" fill-opacity=\"1\" /><path clip-path=\"url(#clip280)\" d=\"M2055.35 1463.64 Q2054.64 1463.22 2053.78 1463.03 Q2052.95 1462.83 2051.93 1462.83 Q2048.32 1462.83 2046.37 1465.19 Q2044.45 1467.52 2044.45 1471.92 L2044.45 1485.58 L2040.17 1485.58 L2040.17 1459.65 L2044.45 1459.65 L2044.45 1463.68 Q2045.79 1461.32 2047.95 1460.19 Q2050.1 1459.03 2053.18 1459.03 Q2053.62 1459.03 2054.15 1459.1 Q2054.68 1459.14 2055.33 1459.26 L2055.35 1463.64 Z\" fill=\"#000000\" fill-rule=\"nonzero\" fill-opacity=\"1\" /><path clip-path=\"url(#clip280)\" d=\"M2080.96 1471.55 L2080.96 1473.64 L2061.37 1473.64 Q2061.65 1478.03 2064.01 1480.35 Q2066.4 1482.64 2070.63 1482.64 Q2073.09 1482.64 2075.38 1482.04 Q2077.69 1481.44 2079.96 1480.23 L2079.96 1484.26 Q2077.67 1485.23 2075.26 1485.74 Q2072.85 1486.25 2070.38 1486.25 Q2064.17 1486.25 2060.54 1482.64 Q2056.93 1479.03 2056.93 1472.87 Q2056.93 1466.51 2060.35 1462.78 Q2063.8 1459.03 2069.64 1459.03 Q2074.87 1459.03 2077.9 1462.41 Q2080.96 1465.77 2080.96 1471.55 M2076.7 1470.3 Q2076.65 1466.81 2074.73 1464.72 Q2072.83 1462.64 2069.68 1462.64 Q2066.12 1462.64 2063.96 1464.65 Q2061.84 1466.67 2061.51 1470.33 L2076.7 1470.3 Z\" fill=\"#000000\" fill-rule=\"nonzero\" fill-opacity=\"1\" /><path clip-path=\"url(#clip280)\" d=\"M2084.89 1459.65 L2089.4 1459.65 L2097.51 1481.41 L2105.61 1459.65 L2110.12 1459.65 L2100.4 1485.58 L2094.61 1485.58 L2084.89 1459.65 Z\" fill=\"#000000\" fill-rule=\"nonzero\" fill-opacity=\"1\" /><path clip-path=\"url(#clip280)\" d=\"M2116 1459.65 L2120.26 1459.65 L2120.26 1485.58 L2116 1485.58 L2116 1459.65 M2116 1449.56 L2120.26 1449.56 L2120.26 1454.96 L2116 1454.96 L2116 1449.56 Z\" fill=\"#000000\" fill-rule=\"nonzero\" fill-opacity=\"1\" /><path clip-path=\"url(#clip280)\" d=\"M2126.12 1459.65 L2130.63 1459.65 L2138.73 1481.41 L2146.83 1459.65 L2151.35 1459.65 L2141.63 1485.58 L2135.84 1485.58 L2126.12 1459.65 Z\" fill=\"#000000\" fill-rule=\"nonzero\" fill-opacity=\"1\" /><path clip-path=\"url(#clip280)\" d=\"M2179.4 1471.55 L2179.4 1473.64 L2159.82 1473.64 Q2160.1 1478.03 2162.46 1480.35 Q2164.84 1482.64 2169.08 1482.64 Q2171.53 1482.64 2173.83 1482.04 Q2176.14 1481.44 2178.41 1480.23 L2178.41 1484.26 Q2176.12 1485.23 2173.71 1485.74 Q2171.3 1486.25 2168.83 1486.25 Q2162.62 1486.25 2158.99 1482.64 Q2155.38 1479.03 2155.38 1472.87 Q2155.38 1466.51 2158.8 1462.78 Q2162.25 1459.03 2168.08 1459.03 Q2173.32 1459.03 2176.35 1462.41 Q2179.4 1465.77 2179.4 1471.55 M2175.14 1470.3 Q2175.1 1466.81 2173.18 1464.72 Q2171.28 1462.64 2168.13 1462.64 Q2164.57 1462.64 2162.41 1464.65 Q2160.28 1466.67 2159.96 1470.33 L2175.14 1470.3 Z\" fill=\"#000000\" fill-rule=\"nonzero\" fill-opacity=\"1\" /><path clip-path=\"url(#clip280)\" d=\"M2207.95 1469.93 L2207.95 1485.58 L2203.69 1485.58 L2203.69 1470.07 Q2203.69 1466.39 2202.25 1464.56 Q2200.82 1462.73 2197.95 1462.73 Q2194.5 1462.73 2192.51 1464.93 Q2190.52 1467.13 2190.52 1470.93 L2190.52 1485.58 L2186.23 1485.58 L2186.23 1459.65 L2190.52 1459.65 L2190.52 1463.68 Q2192.04 1461.34 2194.1 1460.19 Q2196.19 1459.03 2198.89 1459.03 Q2203.36 1459.03 2205.65 1461.81 Q2207.95 1464.56 2207.95 1469.93 Z\" fill=\"#000000\" fill-rule=\"nonzero\" fill-opacity=\"1\" /><path clip-path=\"url(#clip280)\" d=\"M1228.84 1568.04 L1210.69 1520.52 L1217.41 1520.52 L1232.46 1560.53 L1247.55 1520.52 L1254.24 1520.52 L1236.12 1568.04 L1228.84 1568.04 Z\" fill=\"#000000\" fill-rule=\"nonzero\" fill-opacity=\"1\" /><path clip-path=\"url(#clip280)\" d=\"M1272.06 1550.12 Q1264.96 1550.12 1262.22 1551.75 Q1259.49 1553.37 1259.49 1557.29 Q1259.49 1560.4 1261.52 1562.25 Q1263.59 1564.07 1267.13 1564.07 Q1272 1564.07 1274.92 1560.63 Q1277.88 1557.16 1277.88 1551.43 L1277.88 1550.12 L1272.06 1550.12 M1283.74 1547.71 L1283.74 1568.04 L1277.88 1568.04 L1277.88 1562.63 Q1275.88 1565.88 1272.89 1567.44 Q1269.89 1568.97 1265.57 1568.97 Q1260.09 1568.97 1256.85 1565.91 Q1253.63 1562.82 1253.63 1557.67 Q1253.63 1551.65 1257.64 1548.6 Q1261.68 1545.54 1269.67 1545.54 L1277.88 1545.54 L1277.88 1544.97 Q1277.88 1540.93 1275.21 1538.73 Q1272.57 1536.5 1267.76 1536.5 Q1264.71 1536.5 1261.81 1537.23 Q1258.91 1537.97 1256.24 1539.43 L1256.24 1534.02 Q1259.46 1532.78 1262.48 1532.17 Q1265.5 1531.54 1268.37 1531.54 Q1276.1 1531.54 1279.92 1535.55 Q1283.74 1539.56 1283.74 1547.71 Z\" fill=\"#000000\" fill-rule=\"nonzero\" fill-opacity=\"1\" /><path clip-path=\"url(#clip280)\" d=\"M1295.8 1518.52 L1301.66 1518.52 L1301.66 1568.04 L1295.8 1568.04 L1295.8 1518.52 Z\" fill=\"#000000\" fill-rule=\"nonzero\" fill-opacity=\"1\" /><path clip-path=\"url(#clip280)\" d=\"M1327.73 1536.5 Q1323.02 1536.5 1320.28 1540.19 Q1317.54 1543.85 1317.54 1550.25 Q1317.54 1556.65 1320.25 1560.34 Q1322.98 1564 1327.73 1564 Q1332.41 1564 1335.14 1560.31 Q1337.88 1556.62 1337.88 1550.25 Q1337.88 1543.92 1335.14 1540.23 Q1332.41 1536.5 1327.73 1536.5 M1327.73 1531.54 Q1335.37 1531.54 1339.73 1536.5 Q1344.09 1541.47 1344.09 1550.25 Q1344.09 1559 1339.73 1564 Q1335.37 1568.97 1327.73 1568.97 Q1320.06 1568.97 1315.7 1564 Q1311.37 1559 1311.37 1550.25 Q1311.37 1541.47 1315.7 1536.5 Q1320.06 1531.54 1327.73 1531.54 Z\" fill=\"#000000\" fill-rule=\"nonzero\" fill-opacity=\"1\" /><path clip-path=\"url(#clip280)\" d=\"M1374.45 1537.87 Q1373.46 1537.3 1372.29 1537.04 Q1371.14 1536.76 1369.74 1536.76 Q1364.78 1536.76 1362.1 1540 Q1359.46 1543.22 1359.46 1549.27 L1359.46 1568.04 L1353.57 1568.04 L1353.57 1532.4 L1359.46 1532.4 L1359.46 1537.93 Q1361.31 1534.69 1364.27 1533.13 Q1367.23 1531.54 1371.46 1531.54 Q1372.06 1531.54 1372.8 1531.63 Q1373.53 1531.7 1374.42 1531.85 L1374.45 1537.87 Z\" fill=\"#000000\" fill-rule=\"nonzero\" fill-opacity=\"1\" /><polyline clip-path=\"url(#clip282)\" style=\"stroke:#000000; stroke-linecap:round; stroke-linejoin:round; stroke-width:2; stroke-opacity:0.1; fill:none\" points=\"232.389,1423.18 2352.76,1423.18 \"/>\n",
       "<polyline clip-path=\"url(#clip282)\" style=\"stroke:#000000; stroke-linecap:round; stroke-linejoin:round; stroke-width:2; stroke-opacity:0.1; fill:none\" points=\"232.389,1038.65 2352.76,1038.65 \"/>\n",
       "<polyline clip-path=\"url(#clip282)\" style=\"stroke:#000000; stroke-linecap:round; stroke-linejoin:round; stroke-width:2; stroke-opacity:0.1; fill:none\" points=\"232.389,654.122 2352.76,654.122 \"/>\n",
       "<polyline clip-path=\"url(#clip282)\" style=\"stroke:#000000; stroke-linecap:round; stroke-linejoin:round; stroke-width:2; stroke-opacity:0.1; fill:none\" points=\"232.389,269.593 2352.76,269.593 \"/>\n",
       "<polyline clip-path=\"url(#clip280)\" style=\"stroke:#000000; stroke-linecap:round; stroke-linejoin:round; stroke-width:4; stroke-opacity:1; fill:none\" points=\"232.389,1423.18 232.389,123.472 \"/>\n",
       "<polyline clip-path=\"url(#clip280)\" style=\"stroke:#000000; stroke-linecap:round; stroke-linejoin:round; stroke-width:4; stroke-opacity:1; fill:none\" points=\"232.389,1423.18 251.287,1423.18 \"/>\n",
       "<polyline clip-path=\"url(#clip280)\" style=\"stroke:#000000; stroke-linecap:round; stroke-linejoin:round; stroke-width:4; stroke-opacity:1; fill:none\" points=\"232.389,1038.65 251.287,1038.65 \"/>\n",
       "<polyline clip-path=\"url(#clip280)\" style=\"stroke:#000000; stroke-linecap:round; stroke-linejoin:round; stroke-width:4; stroke-opacity:1; fill:none\" points=\"232.389,654.122 251.287,654.122 \"/>\n",
       "<polyline clip-path=\"url(#clip280)\" style=\"stroke:#000000; stroke-linecap:round; stroke-linejoin:round; stroke-width:4; stroke-opacity:1; fill:none\" points=\"232.389,269.593 251.287,269.593 \"/>\n",
       "<path clip-path=\"url(#clip280)\" d=\"M184.445 1408.98 Q180.834 1408.98 179.005 1412.54 Q177.2 1416.08 177.2 1423.21 Q177.2 1430.32 179.005 1433.89 Q180.834 1437.43 184.445 1437.43 Q188.079 1437.43 189.885 1433.89 Q191.713 1430.32 191.713 1423.21 Q191.713 1416.08 189.885 1412.54 Q188.079 1408.98 184.445 1408.98 M184.445 1405.27 Q190.255 1405.27 193.311 1409.88 Q196.389 1414.46 196.389 1423.21 Q196.389 1431.94 193.311 1436.55 Q190.255 1441.13 184.445 1441.13 Q178.635 1441.13 175.556 1436.55 Q172.501 1431.94 172.501 1423.21 Q172.501 1414.46 175.556 1409.88 Q178.635 1405.27 184.445 1405.27 Z\" fill=\"#000000\" fill-rule=\"nonzero\" fill-opacity=\"1\" /><path clip-path=\"url(#clip280)\" d=\"M144.329 1021.37 L162.686 1021.37 L162.686 1025.31 L148.612 1025.31 L148.612 1033.78 Q149.63 1033.43 150.649 1033.27 Q151.667 1033.08 152.686 1033.08 Q158.473 1033.08 161.852 1036.26 Q165.232 1039.43 165.232 1044.84 Q165.232 1050.42 161.76 1053.52 Q158.288 1056.6 151.968 1056.6 Q149.792 1056.6 147.524 1056.23 Q145.279 1055.86 142.871 1055.12 L142.871 1050.42 Q144.954 1051.56 147.177 1052.11 Q149.399 1052.67 151.876 1052.67 Q155.88 1052.67 158.218 1050.56 Q160.556 1048.45 160.556 1044.84 Q160.556 1041.23 158.218 1039.13 Q155.88 1037.02 151.876 1037.02 Q150.001 1037.02 148.126 1037.44 Q146.274 1037.85 144.329 1038.73 L144.329 1021.37 Z\" fill=\"#000000\" fill-rule=\"nonzero\" fill-opacity=\"1\" /><path clip-path=\"url(#clip280)\" d=\"M184.445 1024.45 Q180.834 1024.45 179.005 1028.01 Q177.2 1031.56 177.2 1038.69 Q177.2 1045.79 179.005 1049.36 Q180.834 1052.9 184.445 1052.9 Q188.079 1052.9 189.885 1049.36 Q191.713 1045.79 191.713 1038.69 Q191.713 1031.56 189.885 1028.01 Q188.079 1024.45 184.445 1024.45 M184.445 1020.75 Q190.255 1020.75 193.311 1025.35 Q196.389 1029.94 196.389 1038.69 Q196.389 1047.41 193.311 1052.02 Q190.255 1056.6 184.445 1056.6 Q178.635 1056.6 175.556 1052.02 Q172.501 1047.41 172.501 1038.69 Q172.501 1029.94 175.556 1025.35 Q178.635 1020.75 184.445 1020.75 Z\" fill=\"#000000\" fill-rule=\"nonzero\" fill-opacity=\"1\" /><path clip-path=\"url(#clip280)\" d=\"M114.931 667.467 L122.57 667.467 L122.57 641.101 L114.26 642.768 L114.26 638.509 L122.524 636.842 L127.2 636.842 L127.2 667.467 L134.839 667.467 L134.839 671.402 L114.931 671.402 L114.931 667.467 Z\" fill=\"#000000\" fill-rule=\"nonzero\" fill-opacity=\"1\" /><path clip-path=\"url(#clip280)\" d=\"M154.283 639.921 Q150.672 639.921 148.843 643.486 Q147.038 647.027 147.038 654.157 Q147.038 661.263 148.843 664.828 Q150.672 668.37 154.283 668.37 Q157.917 668.37 159.723 664.828 Q161.552 661.263 161.552 654.157 Q161.552 647.027 159.723 643.486 Q157.917 639.921 154.283 639.921 M154.283 636.217 Q160.093 636.217 163.149 640.823 Q166.227 645.407 166.227 654.157 Q166.227 662.884 163.149 667.49 Q160.093 672.073 154.283 672.073 Q148.473 672.073 145.394 667.49 Q142.339 662.884 142.339 654.157 Q142.339 645.407 145.394 640.823 Q148.473 636.217 154.283 636.217 Z\" fill=\"#000000\" fill-rule=\"nonzero\" fill-opacity=\"1\" /><path clip-path=\"url(#clip280)\" d=\"M184.445 639.921 Q180.834 639.921 179.005 643.486 Q177.2 647.027 177.2 654.157 Q177.2 661.263 179.005 664.828 Q180.834 668.37 184.445 668.37 Q188.079 668.37 189.885 664.828 Q191.713 661.263 191.713 654.157 Q191.713 647.027 189.885 643.486 Q188.079 639.921 184.445 639.921 M184.445 636.217 Q190.255 636.217 193.311 640.823 Q196.389 645.407 196.389 654.157 Q196.389 662.884 193.311 667.49 Q190.255 672.073 184.445 672.073 Q178.635 672.073 175.556 667.49 Q172.501 662.884 172.501 654.157 Q172.501 645.407 175.556 640.823 Q178.635 636.217 184.445 636.217 Z\" fill=\"#000000\" fill-rule=\"nonzero\" fill-opacity=\"1\" /><path clip-path=\"url(#clip280)\" d=\"M114.931 282.938 L122.57 282.938 L122.57 256.572 L114.26 258.239 L114.26 253.98 L122.524 252.313 L127.2 252.313 L127.2 282.938 L134.839 282.938 L134.839 286.873 L114.931 286.873 L114.931 282.938 Z\" fill=\"#000000\" fill-rule=\"nonzero\" fill-opacity=\"1\" /><path clip-path=\"url(#clip280)\" d=\"M144.329 252.313 L162.686 252.313 L162.686 256.248 L148.612 256.248 L148.612 264.72 Q149.63 264.373 150.649 264.211 Q151.667 264.026 152.686 264.026 Q158.473 264.026 161.852 267.197 Q165.232 270.369 165.232 275.785 Q165.232 281.364 161.76 284.466 Q158.288 287.544 151.968 287.544 Q149.792 287.544 147.524 287.174 Q145.279 286.804 142.871 286.063 L142.871 281.364 Q144.954 282.498 147.177 283.054 Q149.399 283.609 151.876 283.609 Q155.88 283.609 158.218 281.503 Q160.556 279.396 160.556 275.785 Q160.556 272.174 158.218 270.068 Q155.88 267.961 151.876 267.961 Q150.001 267.961 148.126 268.378 Q146.274 268.795 144.329 269.674 L144.329 252.313 Z\" fill=\"#000000\" fill-rule=\"nonzero\" fill-opacity=\"1\" /><path clip-path=\"url(#clip280)\" d=\"M184.445 255.392 Q180.834 255.392 179.005 258.957 Q177.2 262.498 177.2 269.628 Q177.2 276.734 179.005 280.299 Q180.834 283.841 184.445 283.841 Q188.079 283.841 189.885 280.299 Q191.713 276.734 191.713 269.628 Q191.713 262.498 189.885 258.957 Q188.079 255.392 184.445 255.392 M184.445 251.688 Q190.255 251.688 193.311 256.295 Q196.389 260.878 196.389 269.628 Q196.389 278.355 193.311 282.961 Q190.255 287.544 184.445 287.544 Q178.635 287.544 175.556 282.961 Q172.501 278.355 172.501 269.628 Q172.501 260.878 175.556 256.295 Q178.635 251.688 184.445 251.688 Z\" fill=\"#000000\" fill-rule=\"nonzero\" fill-opacity=\"1\" /><path clip-path=\"url(#clip280)\" d=\"M20.1444 876.785 L26.9239 876.785 Q23.9002 880.031 22.4043 883.723 Q20.9083 887.384 20.9083 891.521 Q20.9083 899.669 25.9054 903.998 Q30.8707 908.327 40.2919 908.327 Q49.6813 908.327 54.6784 903.998 Q59.6436 899.669 59.6436 891.521 Q59.6436 887.384 58.1477 883.723 Q56.6518 880.031 53.6281 876.785 L60.3439 876.785 Q62.6355 880.158 63.7814 883.946 Q64.9272 887.702 64.9272 891.903 Q64.9272 902.693 58.3387 908.9 Q51.7183 915.106 40.2919 915.106 Q28.8336 915.106 22.2451 908.9 Q15.6248 902.693 15.6248 891.903 Q15.6248 887.638 16.7706 883.882 Q17.8846 880.095 20.1444 876.785 Z\" fill=\"#000000\" fill-rule=\"nonzero\" fill-opacity=\"1\" /><path clip-path=\"url(#clip280)\" d=\"M46.0847 850.908 Q46.0847 858.006 47.7079 860.743 Q49.3312 863.48 53.2461 863.48 Q56.3653 863.48 58.2114 861.443 Q60.0256 859.374 60.0256 855.841 Q60.0256 850.972 56.5881 848.043 Q53.1188 845.083 47.3897 845.083 L46.0847 845.083 L46.0847 850.908 M43.6657 839.227 L64.0042 839.227 L64.0042 845.083 L58.5933 845.083 Q61.8398 847.089 63.3994 850.08 Q64.9272 853.072 64.9272 857.401 Q64.9272 862.876 61.8716 866.122 Q58.7843 869.337 53.6281 869.337 Q47.6125 869.337 44.5569 865.326 Q41.5014 861.284 41.5014 853.295 L41.5014 845.083 L40.9285 845.083 Q36.8862 845.083 34.6901 847.757 Q32.4621 850.399 32.4621 855.205 Q32.4621 858.26 33.1941 861.157 Q33.9262 864.053 35.3903 866.727 L29.9795 866.727 Q28.7381 863.512 28.1334 860.488 Q27.4968 857.465 27.4968 854.6 Q27.4968 846.866 31.5072 843.046 Q35.5176 839.227 43.6657 839.227 Z\" fill=\"#000000\" fill-rule=\"nonzero\" fill-opacity=\"1\" /><path clip-path=\"url(#clip280)\" d=\"M42.4881 797.532 L64.0042 797.532 L64.0042 803.388 L42.679 803.388 Q37.6183 803.388 35.1038 805.361 Q32.5894 807.335 32.5894 811.282 Q32.5894 816.024 35.6131 818.761 Q38.6368 821.498 43.8567 821.498 L64.0042 821.498 L64.0042 827.387 L28.3562 827.387 L28.3562 821.498 L33.8944 821.498 Q30.6797 819.398 29.0883 816.565 Q27.4968 813.7 27.4968 809.977 Q27.4968 803.834 31.3163 800.683 Q35.1038 797.532 42.4881 797.532 Z\" fill=\"#000000\" fill-rule=\"nonzero\" fill-opacity=\"1\" /><path clip-path=\"url(#clip280)\" d=\"M18.2347 780.058 L28.3562 780.058 L28.3562 767.995 L32.9077 767.995 L32.9077 780.058 L52.2594 780.058 Q56.6199 780.058 57.8613 778.88 Q59.1026 777.671 59.1026 774.01 L59.1026 767.995 L64.0042 767.995 L64.0042 774.01 Q64.0042 780.79 61.4897 783.368 Q58.9434 785.946 52.2594 785.946 L32.9077 785.946 L32.9077 790.243 L28.3562 790.243 L28.3562 785.946 L18.2347 785.946 L18.2347 780.058 Z\" fill=\"#000000\" fill-rule=\"nonzero\" fill-opacity=\"1\" /><path clip-path=\"url(#clip280)\" d=\"M28.3562 760.292 L28.3562 754.436 L64.0042 754.436 L64.0042 760.292 L28.3562 760.292 M14.479 760.292 L14.479 754.436 L21.895 754.436 L21.895 760.292 L14.479 760.292 Z\" fill=\"#000000\" fill-rule=\"nonzero\" fill-opacity=\"1\" /><path clip-path=\"url(#clip280)\" d=\"M33.7671 718.724 L14.479 718.724 L14.479 712.868 L64.0042 712.868 L64.0042 718.724 L58.657 718.724 Q61.8398 720.57 63.3994 723.403 Q64.9272 726.204 64.9272 730.151 Q64.9272 736.612 59.771 740.686 Q54.6147 744.728 46.212 744.728 Q37.8093 744.728 32.6531 740.686 Q27.4968 736.612 27.4968 730.151 Q27.4968 726.204 29.0564 723.403 Q30.5842 720.57 33.7671 718.724 M46.212 738.681 Q52.6732 738.681 56.3653 736.039 Q60.0256 733.365 60.0256 728.718 Q60.0256 724.071 56.3653 721.398 Q52.6732 718.724 46.212 718.724 Q39.7508 718.724 36.0905 721.398 Q32.3984 724.071 32.3984 728.718 Q32.3984 733.365 36.0905 736.039 Q39.7508 738.681 46.212 738.681 Z\" fill=\"#000000\" fill-rule=\"nonzero\" fill-opacity=\"1\" /><path clip-path=\"url(#clip280)\" d=\"M46.0847 684.604 Q46.0847 691.702 47.7079 694.439 Q49.3312 697.176 53.2461 697.176 Q56.3653 697.176 58.2114 695.139 Q60.0256 693.07 60.0256 689.537 Q60.0256 684.668 56.5881 681.739 Q53.1188 678.779 47.3897 678.779 L46.0847 678.779 L46.0847 684.604 M43.6657 672.923 L64.0042 672.923 L64.0042 678.779 L58.5933 678.779 Q61.8398 680.785 63.3994 683.776 Q64.9272 686.768 64.9272 691.097 Q64.9272 696.571 61.8716 699.818 Q58.7843 703.033 53.6281 703.033 Q47.6125 703.033 44.5569 699.022 Q41.5014 694.98 41.5014 686.991 L41.5014 678.779 L40.9285 678.779 Q36.8862 678.779 34.6901 681.453 Q32.4621 684.095 32.4621 688.901 Q32.4621 691.956 33.1941 694.853 Q33.9262 697.749 35.3903 700.423 L29.9795 700.423 Q28.7381 697.208 28.1334 694.184 Q27.4968 691.161 27.4968 688.296 Q27.4968 680.562 31.5072 676.742 Q35.5176 672.923 43.6657 672.923 Z\" fill=\"#000000\" fill-rule=\"nonzero\" fill-opacity=\"1\" /><path clip-path=\"url(#clip280)\" d=\"M33.7671 637.402 L14.479 637.402 L14.479 631.546 L64.0042 631.546 L64.0042 637.402 L58.657 637.402 Q61.8398 639.248 63.3994 642.081 Q64.9272 644.882 64.9272 648.829 Q64.9272 655.29 59.771 659.364 Q54.6147 663.406 46.212 663.406 Q37.8093 663.406 32.6531 659.364 Q27.4968 655.29 27.4968 648.829 Q27.4968 644.882 29.0564 642.081 Q30.5842 639.248 33.7671 637.402 M46.212 657.359 Q52.6732 657.359 56.3653 654.717 Q60.0256 652.043 60.0256 647.396 Q60.0256 642.749 56.3653 640.076 Q52.6732 637.402 46.212 637.402 Q39.7508 637.402 36.0905 640.076 Q32.3984 642.749 32.3984 647.396 Q32.3984 652.043 36.0905 654.717 Q39.7508 657.359 46.212 657.359 Z\" fill=\"#000000\" fill-rule=\"nonzero\" fill-opacity=\"1\" /><path clip-path=\"url(#clip280)\" d=\"M398.619 16.7545 L398.619 25.383 Q394.487 21.5346 389.788 19.6307 Q385.13 17.7268 379.863 17.7268 Q369.493 17.7268 363.984 24.0867 Q358.475 30.4061 358.475 42.3968 Q358.475 54.3469 363.984 60.7069 Q369.493 67.0263 379.863 67.0263 Q385.13 67.0263 389.788 65.1223 Q394.487 63.2184 398.619 59.3701 L398.619 67.9175 Q394.325 70.8341 389.505 72.2924 Q384.724 73.7508 379.377 73.7508 Q365.645 73.7508 357.745 65.3654 Q349.846 56.9395 349.846 42.3968 Q349.846 27.8135 357.745 19.4281 Q365.645 11.0023 379.377 11.0023 Q384.805 11.0023 389.586 12.4606 Q394.406 13.8784 398.619 16.7545 Z\" fill=\"#000000\" fill-rule=\"nonzero\" fill-opacity=\"1\" /><path clip-path=\"url(#clip280)\" d=\"M431.553 49.7694 Q422.519 49.7694 419.036 51.8354 Q415.552 53.9013 415.552 58.8839 Q415.552 62.8538 418.144 65.2034 Q420.778 67.5124 425.274 67.5124 Q431.472 67.5124 435.199 63.1374 Q438.966 58.7219 438.966 51.4303 L438.966 49.7694 L431.553 49.7694 M446.42 46.6907 L446.42 72.576 L438.966 72.576 L438.966 65.6895 Q436.414 69.8214 432.606 71.8063 Q428.798 73.7508 423.289 73.7508 Q416.322 73.7508 412.19 69.8619 Q408.098 65.9325 408.098 59.3701 Q408.098 51.7138 413.202 47.825 Q418.347 43.9361 428.515 43.9361 L438.966 43.9361 L438.966 43.2069 Q438.966 38.0623 435.563 35.2672 Q432.201 32.4315 426.084 32.4315 Q422.195 32.4315 418.509 33.3632 Q414.823 34.295 411.42 36.1584 L411.42 29.2718 Q415.511 27.692 419.36 26.9223 Q423.208 26.1121 426.854 26.1121 Q436.698 26.1121 441.559 31.2163 Q446.42 36.3204 446.42 46.6907 Z\" fill=\"#000000\" fill-rule=\"nonzero\" fill-opacity=\"1\" /><path clip-path=\"url(#clip280)\" d=\"M499.487 45.1919 L499.487 72.576 L492.033 72.576 L492.033 45.4349 Q492.033 38.994 489.521 35.7938 Q487.01 32.5936 481.987 32.5936 Q475.951 32.5936 472.467 36.4419 Q468.983 40.2903 468.983 46.9338 L468.983 72.576 L461.489 72.576 L461.489 27.2059 L468.983 27.2059 L468.983 34.2544 Q471.657 30.163 475.262 28.1376 Q478.908 26.1121 483.648 26.1121 Q491.466 26.1121 495.476 30.9732 Q499.487 35.7938 499.487 45.1919 Z\" fill=\"#000000\" fill-rule=\"nonzero\" fill-opacity=\"1\" /><path clip-path=\"url(#clip280)\" d=\"M521.726 14.324 L521.726 27.2059 L537.079 27.2059 L537.079 32.9987 L521.726 32.9987 L521.726 57.6282 Q521.726 63.1779 523.225 64.7578 Q524.764 66.3376 529.423 66.3376 L537.079 66.3376 L537.079 72.576 L529.423 72.576 Q520.794 72.576 517.513 69.3758 Q514.232 66.1351 514.232 57.6282 L514.232 32.9987 L508.763 32.9987 L508.763 27.2059 L514.232 27.2059 L514.232 14.324 L521.726 14.324 Z\" fill=\"#000000\" fill-rule=\"nonzero\" fill-opacity=\"1\" /><path clip-path=\"url(#clip280)\" d=\"M546.882 27.2059 L554.336 27.2059 L554.336 72.576 L546.882 72.576 L546.882 27.2059 M546.882 9.54393 L554.336 9.54393 L554.336 18.9825 L546.882 18.9825 L546.882 9.54393 Z\" fill=\"#000000\" fill-rule=\"nonzero\" fill-opacity=\"1\" /><path clip-path=\"url(#clip280)\" d=\"M599.787 34.0924 L599.787 9.54393 L607.241 9.54393 L607.241 72.576 L599.787 72.576 L599.787 65.7705 Q597.437 69.8214 593.832 71.8063 Q590.267 73.7508 585.244 73.7508 Q577.021 73.7508 571.836 67.1883 Q566.691 60.6258 566.691 49.9314 Q566.691 39.2371 571.836 32.6746 Q577.021 26.1121 585.244 26.1121 Q590.267 26.1121 593.832 28.0971 Q597.437 30.0415 599.787 34.0924 M574.388 49.9314 Q574.388 58.1548 577.75 62.8538 Q581.153 67.5124 587.067 67.5124 Q592.981 67.5124 596.384 62.8538 Q599.787 58.1548 599.787 49.9314 Q599.787 41.7081 596.384 37.0496 Q592.981 32.3505 587.067 32.3505 Q581.153 32.3505 577.75 37.0496 Q574.388 41.7081 574.388 49.9314 Z\" fill=\"#000000\" fill-rule=\"nonzero\" fill-opacity=\"1\" /><path clip-path=\"url(#clip280)\" d=\"M643.213 49.7694 Q634.179 49.7694 630.695 51.8354 Q627.212 53.9013 627.212 58.8839 Q627.212 62.8538 629.804 65.2034 Q632.437 67.5124 636.934 67.5124 Q643.132 67.5124 646.858 63.1374 Q650.626 58.7219 650.626 51.4303 L650.626 49.7694 L643.213 49.7694 M658.079 46.6907 L658.079 72.576 L650.626 72.576 L650.626 65.6895 Q648.074 69.8214 644.266 71.8063 Q640.458 73.7508 634.949 73.7508 Q627.981 73.7508 623.849 69.8619 Q619.758 65.9325 619.758 59.3701 Q619.758 51.7138 624.862 47.825 Q630.007 43.9361 640.175 43.9361 L650.626 43.9361 L650.626 43.2069 Q650.626 38.0623 647.223 35.2672 Q643.861 32.4315 637.744 32.4315 Q633.855 32.4315 630.169 33.3632 Q626.482 34.295 623.08 36.1584 L623.08 29.2718 Q627.171 27.692 631.019 26.9223 Q634.868 26.1121 638.514 26.1121 Q648.357 26.1121 653.218 31.2163 Q658.079 36.3204 658.079 46.6907 Z\" fill=\"#000000\" fill-rule=\"nonzero\" fill-opacity=\"1\" /><path clip-path=\"url(#clip280)\" d=\"M703.288 34.0924 L703.288 9.54393 L710.741 9.54393 L710.741 72.576 L703.288 72.576 L703.288 65.7705 Q700.938 69.8214 697.333 71.8063 Q693.768 73.7508 688.745 73.7508 Q680.522 73.7508 675.336 67.1883 Q670.192 60.6258 670.192 49.9314 Q670.192 39.2371 675.336 32.6746 Q680.522 26.1121 688.745 26.1121 Q693.768 26.1121 697.333 28.0971 Q700.938 30.0415 703.288 34.0924 M677.888 49.9314 Q677.888 58.1548 681.251 62.8538 Q684.653 67.5124 690.568 67.5124 Q696.482 67.5124 699.885 62.8538 Q703.288 58.1548 703.288 49.9314 Q703.288 41.7081 699.885 37.0496 Q696.482 32.3505 690.568 32.3505 Q684.653 32.3505 681.251 37.0496 Q677.888 41.7081 677.888 49.9314 Z\" fill=\"#000000\" fill-rule=\"nonzero\" fill-opacity=\"1\" /><path clip-path=\"url(#clip280)\" d=\"M782.321 34.0924 L782.321 9.54393 L789.774 9.54393 L789.774 72.576 L782.321 72.576 L782.321 65.7705 Q779.971 69.8214 776.366 71.8063 Q772.801 73.7508 767.778 73.7508 Q759.555 73.7508 754.369 67.1883 Q749.225 60.6258 749.225 49.9314 Q749.225 39.2371 754.369 32.6746 Q759.555 26.1121 767.778 26.1121 Q772.801 26.1121 776.366 28.0971 Q779.971 30.0415 782.321 34.0924 M756.922 49.9314 Q756.922 58.1548 760.284 62.8538 Q763.687 67.5124 769.601 67.5124 Q775.515 67.5124 778.918 62.8538 Q782.321 58.1548 782.321 49.9314 Q782.321 41.7081 778.918 37.0496 Q775.515 32.3505 769.601 32.3505 Q763.687 32.3505 760.284 37.0496 Q756.922 41.7081 756.922 49.9314 Z\" fill=\"#000000\" fill-rule=\"nonzero\" fill-opacity=\"1\" /><path clip-path=\"url(#clip280)\" d=\"M843.935 48.0275 L843.935 51.6733 L809.664 51.6733 Q810.15 59.3701 814.282 63.421 Q818.455 67.4314 825.868 67.4314 Q830.162 67.4314 834.172 66.3781 Q838.223 65.3249 842.193 63.2184 L842.193 70.267 Q838.183 71.9684 833.97 72.8596 Q829.757 73.7508 825.422 73.7508 Q814.566 73.7508 808.206 67.4314 Q801.887 61.1119 801.887 50.3365 Q801.887 39.1965 807.882 32.6746 Q813.918 26.1121 824.126 26.1121 Q833.281 26.1121 838.588 32.0264 Q843.935 37.9003 843.935 48.0275 M836.481 45.84 Q836.4 39.7232 833.038 36.0774 Q829.716 32.4315 824.207 32.4315 Q817.969 32.4315 814.201 35.9558 Q810.475 39.4801 809.907 45.8805 L836.481 45.84 Z\" fill=\"#000000\" fill-rule=\"nonzero\" fill-opacity=\"1\" /><path clip-path=\"url(#clip280)\" d=\"M886.996 49.9314 Q886.996 58.1548 890.358 62.8538 Q893.761 67.5124 899.675 67.5124 Q905.59 67.5124 908.993 62.8538 Q912.395 58.1548 912.395 49.9314 Q912.395 41.7081 908.993 37.0496 Q905.59 32.3505 899.675 32.3505 Q893.761 32.3505 890.358 37.0496 Q886.996 41.7081 886.996 49.9314 M912.395 65.7705 Q910.046 69.8214 906.44 71.8063 Q902.876 73.7508 897.853 73.7508 Q889.629 73.7508 884.444 67.1883 Q879.299 60.6258 879.299 49.9314 Q879.299 39.2371 884.444 32.6746 Q889.629 26.1121 897.853 26.1121 Q902.876 26.1121 906.44 28.0971 Q910.046 30.0415 912.395 34.0924 L912.395 27.2059 L919.849 27.2059 L919.849 89.8329 L912.395 89.8329 L912.395 65.7705 Z\" fill=\"#000000\" fill-rule=\"nonzero\" fill-opacity=\"1\" /><path clip-path=\"url(#clip280)\" d=\"M934.432 54.671 L934.432 27.2059 L941.886 27.2059 L941.886 54.3874 Q941.886 60.8284 944.397 64.0691 Q946.909 67.2693 951.932 67.2693 Q957.968 67.2693 961.452 63.421 Q964.976 59.5726 964.976 52.9291 L964.976 27.2059 L972.43 27.2059 L972.43 72.576 L964.976 72.576 L964.976 65.6084 Q962.262 69.7404 958.657 71.7658 Q955.092 73.7508 950.352 73.7508 Q942.534 73.7508 938.483 68.8897 Q934.432 64.0286 934.432 54.671 M953.188 26.1121 L953.188 26.1121 Z\" fill=\"#000000\" fill-rule=\"nonzero\" fill-opacity=\"1\" /><path clip-path=\"url(#clip280)\" d=\"M987.783 27.2059 L995.236 27.2059 L995.236 72.576 L987.783 72.576 L987.783 27.2059 M987.783 9.54393 L995.236 9.54393 L995.236 18.9825 L987.783 18.9825 L987.783 9.54393 Z\" fill=\"#000000\" fill-rule=\"nonzero\" fill-opacity=\"1\" /><path clip-path=\"url(#clip280)\" d=\"M1049.64 48.0275 L1049.64 51.6733 L1015.37 51.6733 Q1015.86 59.3701 1019.99 63.421 Q1024.16 67.4314 1031.57 67.4314 Q1035.87 67.4314 1039.88 66.3781 Q1043.93 65.3249 1047.9 63.2184 L1047.9 70.267 Q1043.89 71.9684 1039.67 72.8596 Q1035.46 73.7508 1031.13 73.7508 Q1020.27 73.7508 1013.91 67.4314 Q1007.59 61.1119 1007.59 50.3365 Q1007.59 39.1965 1013.59 32.6746 Q1019.62 26.1121 1029.83 26.1121 Q1038.99 26.1121 1044.29 32.0264 Q1049.64 37.9003 1049.64 48.0275 M1042.19 45.84 Q1042.11 39.7232 1038.74 36.0774 Q1035.42 32.4315 1029.91 32.4315 Q1023.67 32.4315 1019.91 35.9558 Q1016.18 39.4801 1015.61 45.8805 L1042.19 45.84 Z\" fill=\"#000000\" fill-rule=\"nonzero\" fill-opacity=\"1\" /><path clip-path=\"url(#clip280)\" d=\"M1099.59 45.1919 L1099.59 72.576 L1092.13 72.576 L1092.13 45.4349 Q1092.13 38.994 1089.62 35.7938 Q1087.11 32.5936 1082.09 32.5936 Q1076.05 32.5936 1072.57 36.4419 Q1069.08 40.2903 1069.08 46.9338 L1069.08 72.576 L1061.59 72.576 L1061.59 27.2059 L1069.08 27.2059 L1069.08 34.2544 Q1071.76 30.163 1075.36 28.1376 Q1079.01 26.1121 1083.75 26.1121 Q1091.57 26.1121 1095.58 30.9732 Q1099.59 35.7938 1099.59 45.1919 Z\" fill=\"#000000\" fill-rule=\"nonzero\" fill-opacity=\"1\" /><path clip-path=\"url(#clip280)\" d=\"M1153.26 48.0275 L1153.26 51.6733 L1118.99 51.6733 Q1119.48 59.3701 1123.61 63.421 Q1127.78 67.4314 1135.19 67.4314 Q1139.49 67.4314 1143.5 66.3781 Q1147.55 65.3249 1151.52 63.2184 L1151.52 70.267 Q1147.51 71.9684 1143.3 72.8596 Q1139.08 73.7508 1134.75 73.7508 Q1123.89 73.7508 1117.53 67.4314 Q1111.21 61.1119 1111.21 50.3365 Q1111.21 39.1965 1117.21 32.6746 Q1123.24 26.1121 1133.45 26.1121 Q1142.61 26.1121 1147.91 32.0264 Q1153.26 37.9003 1153.26 48.0275 M1145.81 45.84 Q1145.73 39.7232 1142.37 36.0774 Q1139.04 32.4315 1133.53 32.4315 Q1127.3 32.4315 1123.53 35.9558 Q1119.8 39.4801 1119.23 45.8805 L1145.81 45.84 Z\" fill=\"#000000\" fill-rule=\"nonzero\" fill-opacity=\"1\" /><path clip-path=\"url(#clip280)\" d=\"M1194.42 28.5427 L1194.42 35.5912 Q1191.26 33.9709 1187.86 33.1607 Q1184.45 32.3505 1180.81 32.3505 Q1175.26 32.3505 1172.46 34.0519 Q1169.71 35.7533 1169.71 39.156 Q1169.71 41.7486 1171.69 43.2475 Q1173.68 44.7058 1179.67 46.0426 L1182.23 46.6097 Q1190.17 48.3111 1193.49 51.4303 Q1196.85 54.509 1196.85 60.0587 Q1196.85 66.3781 1191.83 70.0644 Q1186.84 73.7508 1178.09 73.7508 Q1174.45 73.7508 1170.48 73.0216 Q1166.55 72.3329 1162.17 70.9151 L1162.17 63.2184 Q1166.31 65.3654 1170.32 66.4591 Q1174.33 67.5124 1178.26 67.5124 Q1183.52 67.5124 1186.36 65.73 Q1189.19 63.9071 1189.19 60.6258 Q1189.19 57.5877 1187.13 55.9673 Q1185.1 54.3469 1178.18 52.8481 L1175.58 52.2405 Q1168.66 50.7821 1165.58 47.7845 Q1162.5 44.7463 1162.5 39.4801 Q1162.5 33.0797 1167.04 29.5959 Q1171.57 26.1121 1179.92 26.1121 Q1184.05 26.1121 1187.69 26.7198 Q1191.34 27.3274 1194.42 28.5427 Z\" fill=\"#000000\" fill-rule=\"nonzero\" fill-opacity=\"1\" /><path clip-path=\"url(#clip280)\" d=\"M1264.01 28.5427 L1264.01 35.5912 Q1260.85 33.9709 1257.45 33.1607 Q1254.05 32.3505 1250.4 32.3505 Q1244.85 32.3505 1242.06 34.0519 Q1239.3 35.7533 1239.3 39.156 Q1239.3 41.7486 1241.29 43.2475 Q1243.27 44.7058 1249.27 46.0426 L1251.82 46.6097 Q1259.76 48.3111 1263.08 51.4303 Q1266.44 54.509 1266.44 60.0587 Q1266.44 66.3781 1261.42 70.0644 Q1256.44 73.7508 1247.69 73.7508 Q1244.04 73.7508 1240.07 73.0216 Q1236.14 72.3329 1231.77 70.9151 L1231.77 63.2184 Q1235.9 65.3654 1239.91 66.4591 Q1243.92 67.5124 1247.85 67.5124 Q1253.12 67.5124 1255.95 65.73 Q1258.79 63.9071 1258.79 60.6258 Q1258.79 57.5877 1256.72 55.9673 Q1254.7 54.3469 1247.77 52.8481 L1245.18 52.2405 Q1238.25 50.7821 1235.17 47.7845 Q1232.09 44.7463 1232.09 39.4801 Q1232.09 33.0797 1236.63 29.5959 Q1241.17 26.1121 1249.51 26.1121 Q1253.64 26.1121 1257.29 26.7198 Q1260.94 27.3274 1264.01 28.5427 Z\" fill=\"#000000\" fill-rule=\"nonzero\" fill-opacity=\"1\" /><path clip-path=\"url(#clip280)\" d=\"M1295.89 32.4315 Q1289.9 32.4315 1286.42 37.1306 Q1282.93 41.7891 1282.93 49.9314 Q1282.93 58.0738 1286.37 62.7728 Q1289.86 67.4314 1295.89 67.4314 Q1301.85 67.4314 1305.33 62.7323 Q1308.82 58.0333 1308.82 49.9314 Q1308.82 41.8701 1305.33 37.1711 Q1301.85 32.4315 1295.89 32.4315 M1295.89 26.1121 Q1305.62 26.1121 1311.17 32.4315 Q1316.72 38.7509 1316.72 49.9314 Q1316.72 61.0714 1311.17 67.4314 Q1305.62 73.7508 1295.89 73.7508 Q1286.13 73.7508 1280.58 67.4314 Q1275.07 61.0714 1275.07 49.9314 Q1275.07 38.7509 1280.58 32.4315 Q1286.13 26.1121 1295.89 26.1121 Z\" fill=\"#000000\" fill-rule=\"nonzero\" fill-opacity=\"1\" /><path clip-path=\"url(#clip280)\" d=\"M1361.64 49.9314 Q1361.64 41.7081 1358.24 37.0496 Q1354.88 32.3505 1348.96 32.3505 Q1343.05 32.3505 1339.64 37.0496 Q1336.28 41.7081 1336.28 49.9314 Q1336.28 58.1548 1339.64 62.8538 Q1343.05 67.5124 1348.96 67.5124 Q1354.88 67.5124 1358.24 62.8538 Q1361.64 58.1548 1361.64 49.9314 M1336.28 34.0924 Q1338.63 30.0415 1342.2 28.0971 Q1345.8 26.1121 1350.78 26.1121 Q1359.05 26.1121 1364.19 32.6746 Q1369.38 39.2371 1369.38 49.9314 Q1369.38 60.6258 1364.19 67.1883 Q1359.05 73.7508 1350.78 73.7508 Q1345.8 73.7508 1342.2 71.8063 Q1338.63 69.8214 1336.28 65.7705 L1336.28 72.576 L1328.79 72.576 L1328.79 9.54393 L1336.28 9.54393 L1336.28 34.0924 Z\" fill=\"#000000\" fill-rule=\"nonzero\" fill-opacity=\"1\" /><path clip-path=\"url(#clip280)\" d=\"M1408.02 34.1734 Q1406.77 33.4443 1405.27 33.1202 Q1403.81 32.7556 1402.03 32.7556 Q1395.71 32.7556 1392.31 36.8875 Q1388.94 40.9789 1388.94 48.6757 L1388.94 72.576 L1381.45 72.576 L1381.45 27.2059 L1388.94 27.2059 L1388.94 34.2544 Q1391.29 30.1225 1395.06 28.1376 Q1398.83 26.1121 1404.22 26.1121 Q1404.99 26.1121 1405.92 26.2337 Q1406.85 26.3147 1407.98 26.5172 L1408.02 34.1734 Z\" fill=\"#000000\" fill-rule=\"nonzero\" fill-opacity=\"1\" /><path clip-path=\"url(#clip280)\" d=\"M1452.83 48.0275 L1452.83 51.6733 L1418.56 51.6733 Q1419.04 59.3701 1423.17 63.421 Q1427.35 67.4314 1434.76 67.4314 Q1439.05 67.4314 1443.06 66.3781 Q1447.11 65.3249 1451.08 63.2184 L1451.08 70.267 Q1447.07 71.9684 1442.86 72.8596 Q1438.65 73.7508 1434.31 73.7508 Q1423.46 73.7508 1417.1 67.4314 Q1410.78 61.1119 1410.78 50.3365 Q1410.78 39.1965 1416.77 32.6746 Q1422.81 26.1121 1433.02 26.1121 Q1442.17 26.1121 1447.48 32.0264 Q1452.83 37.9003 1452.83 48.0275 M1445.37 45.84 Q1445.29 39.7232 1441.93 36.0774 Q1438.61 32.4315 1433.1 32.4315 Q1426.86 32.4315 1423.09 35.9558 Q1419.37 39.4801 1418.8 45.8805 L1445.37 45.84 Z\" fill=\"#000000\" fill-rule=\"nonzero\" fill-opacity=\"1\" /><path clip-path=\"url(#clip280)\" d=\"M1459.71 27.2059 L1467.61 27.2059 L1481.79 65.2844 L1495.97 27.2059 L1503.87 27.2059 L1486.85 72.576 L1476.73 72.576 L1459.71 27.2059 Z\" fill=\"#000000\" fill-rule=\"nonzero\" fill-opacity=\"1\" /><path clip-path=\"url(#clip280)\" d=\"M1514.16 27.2059 L1521.61 27.2059 L1521.61 72.576 L1514.16 72.576 L1514.16 27.2059 M1514.16 9.54393 L1521.61 9.54393 L1521.61 18.9825 L1514.16 18.9825 L1514.16 9.54393 Z\" fill=\"#000000\" fill-rule=\"nonzero\" fill-opacity=\"1\" /><path clip-path=\"url(#clip280)\" d=\"M1531.86 27.2059 L1539.76 27.2059 L1553.94 65.2844 L1568.12 27.2059 L1576.01 27.2059 L1559 72.576 L1548.87 72.576 L1531.86 27.2059 Z\" fill=\"#000000\" fill-rule=\"nonzero\" fill-opacity=\"1\" /><path clip-path=\"url(#clip280)\" d=\"M1625.11 48.0275 L1625.11 51.6733 L1590.84 51.6733 Q1591.33 59.3701 1595.46 63.421 Q1599.63 67.4314 1607.04 67.4314 Q1611.34 67.4314 1615.35 66.3781 Q1619.4 65.3249 1623.37 63.2184 L1623.37 70.267 Q1619.36 71.9684 1615.15 72.8596 Q1610.93 73.7508 1606.6 73.7508 Q1595.74 73.7508 1589.38 67.4314 Q1583.06 61.1119 1583.06 50.3365 Q1583.06 39.1965 1589.06 32.6746 Q1595.09 26.1121 1605.3 26.1121 Q1614.46 26.1121 1619.76 32.0264 Q1625.11 37.9003 1625.11 48.0275 M1617.66 45.84 Q1617.58 39.7232 1614.21 36.0774 Q1610.89 32.4315 1605.38 32.4315 Q1599.15 32.4315 1595.38 35.9558 Q1591.65 39.4801 1591.08 45.8805 L1617.66 45.84 Z\" fill=\"#000000\" fill-rule=\"nonzero\" fill-opacity=\"1\" /><path clip-path=\"url(#clip280)\" d=\"M1675.06 45.1919 L1675.06 72.576 L1667.61 72.576 L1667.61 45.4349 Q1667.61 38.994 1665.09 35.7938 Q1662.58 32.5936 1657.56 32.5936 Q1651.52 32.5936 1648.04 36.4419 Q1644.56 40.2903 1644.56 46.9338 L1644.56 72.576 L1637.06 72.576 L1637.06 27.2059 L1644.56 27.2059 L1644.56 34.2544 Q1647.23 30.163 1650.83 28.1376 Q1654.48 26.1121 1659.22 26.1121 Q1667.04 26.1121 1671.05 30.9732 Q1675.06 35.7938 1675.06 45.1919 Z\" fill=\"#000000\" fill-rule=\"nonzero\" fill-opacity=\"1\" /><path clip-path=\"url(#clip280)\" d=\"M1735.17 76.7889 Q1732.01 84.8907 1729.02 87.3618 Q1726.02 89.8329 1721 89.8329 L1715.04 89.8329 L1715.04 83.5945 L1719.42 83.5945 Q1722.5 83.5945 1724.2 82.1361 Q1725.9 80.6778 1727.96 75.2496 L1729.3 71.8468 L1710.95 27.2059 L1718.85 27.2059 L1733.03 62.6918 L1747.21 27.2059 L1755.1 27.2059 L1735.17 76.7889 Z\" fill=\"#000000\" fill-rule=\"nonzero\" fill-opacity=\"1\" /><path clip-path=\"url(#clip280)\" d=\"M1796.22 49.9314 Q1796.22 58.1548 1799.58 62.8538 Q1802.99 67.5124 1808.9 67.5124 Q1814.82 67.5124 1818.22 62.8538 Q1821.62 58.1548 1821.62 49.9314 Q1821.62 41.7081 1818.22 37.0496 Q1814.82 32.3505 1808.9 32.3505 Q1802.99 32.3505 1799.58 37.0496 Q1796.22 41.7081 1796.22 49.9314 M1821.62 65.7705 Q1819.27 69.8214 1815.67 71.8063 Q1812.1 73.7508 1807.08 73.7508 Q1798.85 73.7508 1793.67 67.1883 Q1788.52 60.6258 1788.52 49.9314 Q1788.52 39.2371 1793.67 32.6746 Q1798.85 26.1121 1807.08 26.1121 Q1812.1 26.1121 1815.67 28.0971 Q1819.27 30.0415 1821.62 34.0924 L1821.62 27.2059 L1829.07 27.2059 L1829.07 89.8329 L1821.62 89.8329 L1821.62 65.7705 Z\" fill=\"#000000\" fill-rule=\"nonzero\" fill-opacity=\"1\" /><path clip-path=\"url(#clip280)\" d=\"M1843.66 54.671 L1843.66 27.2059 L1851.11 27.2059 L1851.11 54.3874 Q1851.11 60.8284 1853.62 64.0691 Q1856.13 67.2693 1861.16 67.2693 Q1867.19 67.2693 1870.68 63.421 Q1874.2 59.5726 1874.2 52.9291 L1874.2 27.2059 L1881.66 27.2059 L1881.66 72.576 L1874.2 72.576 L1874.2 65.6084 Q1871.49 69.7404 1867.88 71.7658 Q1864.32 73.7508 1859.58 73.7508 Q1851.76 73.7508 1847.71 68.8897 Q1843.66 64.0286 1843.66 54.671 M1862.41 26.1121 L1862.41 26.1121 Z\" fill=\"#000000\" fill-rule=\"nonzero\" fill-opacity=\"1\" /><path clip-path=\"url(#clip280)\" d=\"M1897.01 27.2059 L1904.46 27.2059 L1904.46 72.576 L1897.01 72.576 L1897.01 27.2059 M1897.01 9.54393 L1904.46 9.54393 L1904.46 18.9825 L1897.01 18.9825 L1897.01 9.54393 Z\" fill=\"#000000\" fill-rule=\"nonzero\" fill-opacity=\"1\" /><path clip-path=\"url(#clip280)\" d=\"M1958.87 48.0275 L1958.87 51.6733 L1924.59 51.6733 Q1925.08 59.3701 1929.21 63.421 Q1933.39 67.4314 1940.8 67.4314 Q1945.09 67.4314 1949.1 66.3781 Q1953.15 65.3249 1957.12 63.2184 L1957.12 70.267 Q1953.11 71.9684 1948.9 72.8596 Q1944.69 73.7508 1940.35 73.7508 Q1929.5 73.7508 1923.14 67.4314 Q1916.82 61.1119 1916.82 50.3365 Q1916.82 39.1965 1922.81 32.6746 Q1928.85 26.1121 1939.06 26.1121 Q1948.21 26.1121 1953.52 32.0264 Q1958.87 37.9003 1958.87 48.0275 M1951.41 45.84 Q1951.33 39.7232 1947.97 36.0774 Q1944.65 32.4315 1939.14 32.4315 Q1932.9 32.4315 1929.13 35.9558 Q1925.4 39.4801 1924.84 45.8805 L1951.41 45.84 Z\" fill=\"#000000\" fill-rule=\"nonzero\" fill-opacity=\"1\" /><path clip-path=\"url(#clip280)\" d=\"M2008.81 45.1919 L2008.81 72.576 L2001.36 72.576 L2001.36 45.4349 Q2001.36 38.994 1998.85 35.7938 Q1996.34 32.5936 1991.31 32.5936 Q1985.28 32.5936 1981.79 36.4419 Q1978.31 40.2903 1978.31 46.9338 L1978.31 72.576 L1970.82 72.576 L1970.82 27.2059 L1978.31 27.2059 L1978.31 34.2544 Q1980.98 30.163 1984.59 28.1376 Q1988.23 26.1121 1992.97 26.1121 Q2000.79 26.1121 2004.8 30.9732 Q2008.81 35.7938 2008.81 45.1919 Z\" fill=\"#000000\" fill-rule=\"nonzero\" fill-opacity=\"1\" /><path clip-path=\"url(#clip280)\" d=\"M2062.49 48.0275 L2062.49 51.6733 L2028.22 51.6733 Q2028.7 59.3701 2032.83 63.421 Q2037.01 67.4314 2044.42 67.4314 Q2048.71 67.4314 2052.72 66.3781 Q2056.78 65.3249 2060.75 63.2184 L2060.75 70.267 Q2056.74 71.9684 2052.52 72.8596 Q2048.31 73.7508 2043.97 73.7508 Q2033.12 73.7508 2026.76 67.4314 Q2020.44 61.1119 2020.44 50.3365 Q2020.44 39.1965 2026.43 32.6746 Q2032.47 26.1121 2042.68 26.1121 Q2051.83 26.1121 2057.14 32.0264 Q2062.49 37.9003 2062.49 48.0275 M2055.03 45.84 Q2054.95 39.7232 2051.59 36.0774 Q2048.27 32.4315 2042.76 32.4315 Q2036.52 32.4315 2032.75 35.9558 Q2029.03 39.4801 2028.46 45.8805 L2055.03 45.84 Z\" fill=\"#000000\" fill-rule=\"nonzero\" fill-opacity=\"1\" /><path clip-path=\"url(#clip280)\" d=\"M2103.64 28.5427 L2103.64 35.5912 Q2100.48 33.9709 2097.08 33.1607 Q2093.68 32.3505 2090.03 32.3505 Q2084.48 32.3505 2081.69 34.0519 Q2078.93 35.7533 2078.93 39.156 Q2078.93 41.7486 2080.92 43.2475 Q2082.9 44.7058 2088.9 46.0426 L2091.45 46.6097 Q2099.39 48.3111 2102.71 51.4303 Q2106.08 54.509 2106.08 60.0587 Q2106.08 66.3781 2101.05 70.0644 Q2096.07 73.7508 2087.32 73.7508 Q2083.67 73.7508 2079.7 73.0216 Q2075.77 72.3329 2071.4 70.9151 L2071.4 63.2184 Q2075.53 65.3654 2079.54 66.4591 Q2083.55 67.5124 2087.48 67.5124 Q2092.75 67.5124 2095.58 65.73 Q2098.42 63.9071 2098.42 60.6258 Q2098.42 57.5877 2096.35 55.9673 Q2094.33 54.3469 2087.4 52.8481 L2084.81 52.2405 Q2077.88 50.7821 2074.8 47.7845 Q2071.72 44.7463 2071.72 39.4801 Q2071.72 33.0797 2076.26 29.5959 Q2080.8 26.1121 2089.14 26.1121 Q2093.27 26.1121 2096.92 26.7198 Q2100.57 27.3274 2103.64 28.5427 Z\" fill=\"#000000\" fill-rule=\"nonzero\" fill-opacity=\"1\" /><path clip-path=\"url(#clip280)\" d=\"M2182.03 45.1919 L2182.03 72.576 L2174.58 72.576 L2174.58 45.4349 Q2174.58 38.994 2172.06 35.7938 Q2169.55 32.5936 2164.53 32.5936 Q2158.49 32.5936 2155.01 36.4419 Q2151.53 40.2903 2151.53 46.9338 L2151.53 72.576 L2144.03 72.576 L2144.03 27.2059 L2151.53 27.2059 L2151.53 34.2544 Q2154.2 30.163 2157.81 28.1376 Q2161.45 26.1121 2166.19 26.1121 Q2174.01 26.1121 2178.02 30.9732 Q2182.03 35.7938 2182.03 45.1919 Z\" fill=\"#000000\" fill-rule=\"nonzero\" fill-opacity=\"1\" /><path clip-path=\"url(#clip280)\" d=\"M2214.48 32.4315 Q2208.48 32.4315 2205 37.1306 Q2201.51 41.7891 2201.51 49.9314 Q2201.51 58.0738 2204.96 62.7728 Q2208.44 67.4314 2214.48 67.4314 Q2220.43 67.4314 2223.92 62.7323 Q2227.4 58.0333 2227.4 49.9314 Q2227.4 41.8701 2223.92 37.1711 Q2220.43 32.4315 2214.48 32.4315 M2214.48 26.1121 Q2224.2 26.1121 2229.75 32.4315 Q2235.3 38.7509 2235.3 49.9314 Q2235.3 61.0714 2229.75 67.4314 Q2224.2 73.7508 2214.48 73.7508 Q2204.71 73.7508 2199.16 67.4314 Q2193.66 61.0714 2193.66 49.9314 Q2193.66 38.7509 2199.16 32.4315 Q2204.71 26.1121 2214.48 26.1121 Z\" fill=\"#000000\" fill-rule=\"nonzero\" fill-opacity=\"1\" /><path clip-path=\"url(#clip282)\" d=\"M349.013 123.472 L349.013 1423.18 L663.533 1423.18 L663.533 123.472 L349.013 123.472 L349.013 123.472  Z\" fill=\"#009af9\" fill-rule=\"evenodd\" fill-opacity=\"1\"/>\n",
       "<polyline clip-path=\"url(#clip282)\" style=\"stroke:#000000; stroke-linecap:round; stroke-linejoin:round; stroke-width:4; stroke-opacity:1; fill:none\" points=\"349.013,123.472 349.013,1423.18 663.533,1423.18 663.533,123.472 349.013,123.472 \"/>\n",
       "<path clip-path=\"url(#clip282)\" d=\"M1921.61 1353.96 L1921.61 1423.18 L2236.13 1423.18 L2236.13 1353.96 L1921.61 1353.96 L1921.61 1353.96  Z\" fill=\"#009af9\" fill-rule=\"evenodd\" fill-opacity=\"1\"/>\n",
       "<polyline clip-path=\"url(#clip282)\" style=\"stroke:#000000; stroke-linecap:round; stroke-linejoin:round; stroke-width:4; stroke-opacity:1; fill:none\" points=\"1921.61,1353.96 1921.61,1423.18 2236.13,1423.18 2236.13,1353.96 1921.61,1353.96 \"/>\n",
       "<circle clip-path=\"url(#clip282)\" style=\"fill:#009af9; stroke:none; fill-opacity:0\" cx=\"506.273\" cy=\"123.472\" r=\"2\"/>\n",
       "<circle clip-path=\"url(#clip282)\" style=\"fill:#009af9; stroke:none; fill-opacity:0\" cx=\"2078.87\" cy=\"1353.96\" r=\"2\"/>\n",
       "<path clip-path=\"url(#clip280)\" d=\"M2017.61 270.476 L2282.08 270.476 L2282.08 166.796 L2017.61 166.796  Z\" fill=\"#ffffff\" fill-rule=\"evenodd\" fill-opacity=\"1\"/>\n",
       "<polyline clip-path=\"url(#clip280)\" style=\"stroke:#000000; stroke-linecap:round; stroke-linejoin:round; stroke-width:4; stroke-opacity:1; fill:none\" points=\"2017.61,270.476 2282.08,270.476 2282.08,166.796 2017.61,166.796 2017.61,270.476 \"/>\n",
       "<path clip-path=\"url(#clip280)\" d=\"M2041.17 239.372 L2182.53 239.372 L2182.53 197.9 L2041.17 197.9 L2041.17 239.372  Z\" fill=\"#009af9\" fill-rule=\"evenodd\" fill-opacity=\"1\"/>\n",
       "<polyline clip-path=\"url(#clip280)\" style=\"stroke:#000000; stroke-linecap:round; stroke-linejoin:round; stroke-width:4; stroke-opacity:1; fill:none\" points=\"2041.17,239.372 2182.53,239.372 2182.53,197.9 2041.17,197.9 2041.17,239.372 \"/>\n",
       "<path clip-path=\"url(#clip280)\" d=\"M2219.93 238.323 Q2218.12 242.953 2216.41 244.365 Q2214.7 245.777 2211.83 245.777 L2208.43 245.777 L2208.43 242.212 L2210.93 242.212 Q2212.68 242.212 2213.66 241.379 Q2214.63 240.545 2215.81 237.443 L2216.57 235.499 L2206.09 209.99 L2210.6 209.99 L2218.7 230.268 L2226.8 209.99 L2231.32 209.99 L2219.93 238.323 Z\" fill=\"#000000\" fill-rule=\"nonzero\" fill-opacity=\"1\" /><path clip-path=\"url(#clip280)\" d=\"M2238.61 231.981 L2246.25 231.981 L2246.25 205.615 L2237.94 207.282 L2237.94 203.022 L2246.2 201.356 L2250.88 201.356 L2250.88 231.981 L2258.52 231.981 L2258.52 235.916 L2238.61 235.916 L2238.61 231.981 Z\" fill=\"#000000\" fill-rule=\"nonzero\" fill-opacity=\"1\" /></svg>\n"
      ],
      "text/html": [
       "<?xml version=\"1.0\" encoding=\"utf-8\"?>\n",
       "<svg xmlns=\"http://www.w3.org/2000/svg\" xmlns:xlink=\"http://www.w3.org/1999/xlink\" width=\"600\" height=\"400\" viewBox=\"0 0 2400 1600\">\n",
       "<defs>\n",
       "  <clipPath id=\"clip330\">\n",
       "    <rect x=\"0\" y=\"0\" width=\"2400\" height=\"1600\"/>\n",
       "  </clipPath>\n",
       "</defs>\n",
       "<path clip-path=\"url(#clip330)\" d=\"M0 1600 L2400 1600 L2400 0 L0 0  Z\" fill=\"#ffffff\" fill-rule=\"evenodd\" fill-opacity=\"1\"/>\n",
       "<defs>\n",
       "  <clipPath id=\"clip331\">\n",
       "    <rect x=\"480\" y=\"0\" width=\"1681\" height=\"1600\"/>\n",
       "  </clipPath>\n",
       "</defs>\n",
       "<path clip-path=\"url(#clip330)\" d=\"M232.389 1423.18 L2352.76 1423.18 L2352.76 123.472 L232.389 123.472  Z\" fill=\"#ffffff\" fill-rule=\"evenodd\" fill-opacity=\"1\"/>\n",
       "<defs>\n",
       "  <clipPath id=\"clip332\">\n",
       "    <rect x=\"232\" y=\"123\" width=\"2121\" height=\"1301\"/>\n",
       "  </clipPath>\n",
       "</defs>\n",
       "<polyline clip-path=\"url(#clip332)\" style=\"stroke:#000000; stroke-linecap:round; stroke-linejoin:round; stroke-width:2; stroke-opacity:0.1; fill:none\" points=\"506.273,1423.18 506.273,123.472 \"/>\n",
       "<polyline clip-path=\"url(#clip332)\" style=\"stroke:#000000; stroke-linecap:round; stroke-linejoin:round; stroke-width:2; stroke-opacity:0.1; fill:none\" points=\"2078.87,1423.18 2078.87,123.472 \"/>\n",
       "<polyline clip-path=\"url(#clip330)\" style=\"stroke:#000000; stroke-linecap:round; stroke-linejoin:round; stroke-width:4; stroke-opacity:1; fill:none\" points=\"232.389,1423.18 2352.76,1423.18 \"/>\n",
       "<polyline clip-path=\"url(#clip330)\" style=\"stroke:#000000; stroke-linecap:round; stroke-linejoin:round; stroke-width:4; stroke-opacity:1; fill:none\" points=\"506.273,1423.18 506.273,1404.28 \"/>\n",
       "<polyline clip-path=\"url(#clip330)\" style=\"stroke:#000000; stroke-linecap:round; stroke-linejoin:round; stroke-width:4; stroke-opacity:1; fill:none\" points=\"2078.87,1423.18 2078.87,1404.28 \"/>\n",
       "<path clip-path=\"url(#clip330)\" d=\"M331.147 1451.02 L337.443 1451.02 L352.767 1479.93 L352.767 1451.02 L357.304 1451.02 L357.304 1485.58 L351.008 1485.58 L335.684 1456.67 L335.684 1485.58 L331.147 1485.58 L331.147 1451.02 Z\" fill=\"#000000\" fill-rule=\"nonzero\" fill-opacity=\"1\" /><path clip-path=\"url(#clip330)\" d=\"M376.471 1462.64 Q373.045 1462.64 371.054 1465.33 Q369.063 1467.99 369.063 1472.64 Q369.063 1477.29 371.031 1479.98 Q373.022 1482.64 376.471 1482.64 Q379.873 1482.64 381.864 1479.95 Q383.855 1477.27 383.855 1472.64 Q383.855 1468.03 381.864 1465.35 Q379.873 1462.64 376.471 1462.64 M376.471 1459.03 Q382.026 1459.03 385.197 1462.64 Q388.369 1466.25 388.369 1472.64 Q388.369 1479.01 385.197 1482.64 Q382.026 1486.25 376.471 1486.25 Q370.892 1486.25 367.721 1482.64 Q364.573 1479.01 364.573 1472.64 Q364.573 1466.25 367.721 1462.64 Q370.892 1459.03 376.471 1459.03 Z\" fill=\"#000000\" fill-rule=\"nonzero\" fill-opacity=\"1\" /><path clip-path=\"url(#clip330)\" d=\"M427.026 1460.42 L427.026 1464.45 Q425.22 1463.52 423.276 1463.06 Q421.331 1462.59 419.248 1462.59 Q416.077 1462.59 414.48 1463.57 Q412.906 1464.54 412.906 1466.48 Q412.906 1467.96 414.04 1468.82 Q415.174 1469.65 418.6 1470.42 L420.058 1470.74 Q424.595 1471.71 426.494 1473.5 Q428.415 1475.26 428.415 1478.43 Q428.415 1482.04 425.544 1484.14 Q422.697 1486.25 417.697 1486.25 Q415.614 1486.25 413.345 1485.83 Q411.1 1485.44 408.6 1484.63 L408.6 1480.23 Q410.961 1481.46 413.253 1482.08 Q415.544 1482.69 417.79 1482.69 Q420.799 1482.69 422.419 1481.67 Q424.04 1480.63 424.04 1478.75 Q424.04 1477.02 422.859 1476.09 Q421.702 1475.16 417.744 1474.31 L416.262 1473.96 Q412.304 1473.13 410.545 1471.41 Q408.785 1469.68 408.785 1466.67 Q408.785 1463.01 411.378 1461.02 Q413.97 1459.03 418.739 1459.03 Q421.1 1459.03 423.183 1459.38 Q425.267 1459.72 427.026 1460.42 Z\" fill=\"#000000\" fill-rule=\"nonzero\" fill-opacity=\"1\" /><path clip-path=\"url(#clip330)\" d=\"M445.243 1462.64 Q441.817 1462.64 439.827 1465.33 Q437.836 1467.99 437.836 1472.64 Q437.836 1477.29 439.804 1479.98 Q441.794 1482.64 445.243 1482.64 Q448.646 1482.64 450.637 1479.95 Q452.628 1477.27 452.628 1472.64 Q452.628 1468.03 450.637 1465.35 Q448.646 1462.64 445.243 1462.64 M445.243 1459.03 Q450.799 1459.03 453.97 1462.64 Q457.141 1466.25 457.141 1472.64 Q457.141 1479.01 453.97 1482.64 Q450.799 1486.25 445.243 1486.25 Q439.665 1486.25 436.493 1482.64 Q433.345 1479.01 433.345 1472.64 Q433.345 1466.25 436.493 1462.64 Q439.665 1459.03 445.243 1459.03 Z\" fill=\"#000000\" fill-rule=\"nonzero\" fill-opacity=\"1\" /><path clip-path=\"url(#clip330)\" d=\"M479.225 1463.64 Q478.507 1463.22 477.651 1463.03 Q476.817 1462.83 475.799 1462.83 Q472.188 1462.83 470.243 1465.19 Q468.322 1467.52 468.322 1471.92 L468.322 1485.58 L464.04 1485.58 L464.04 1459.65 L468.322 1459.65 L468.322 1463.68 Q469.665 1461.32 471.817 1460.19 Q473.97 1459.03 477.049 1459.03 Q477.489 1459.03 478.021 1459.1 Q478.553 1459.14 479.202 1459.26 L479.225 1463.64 Z\" fill=\"#000000\" fill-rule=\"nonzero\" fill-opacity=\"1\" /><path clip-path=\"url(#clip330)\" d=\"M502.303 1472.64 Q502.303 1467.94 500.359 1465.28 Q498.438 1462.59 495.058 1462.59 Q491.678 1462.59 489.734 1465.28 Q487.813 1467.94 487.813 1472.64 Q487.813 1477.34 489.734 1480.02 Q491.678 1482.69 495.058 1482.69 Q498.438 1482.69 500.359 1480.02 Q502.303 1477.34 502.303 1472.64 M487.813 1463.59 Q489.155 1461.27 491.192 1460.16 Q493.252 1459.03 496.1 1459.03 Q500.822 1459.03 503.762 1462.78 Q506.725 1466.53 506.725 1472.64 Q506.725 1478.75 503.762 1482.5 Q500.822 1486.25 496.1 1486.25 Q493.252 1486.25 491.192 1485.14 Q489.155 1484.01 487.813 1481.69 L487.813 1485.58 L483.53 1485.58 L483.53 1449.56 L487.813 1449.56 L487.813 1463.59 Z\" fill=\"#000000\" fill-rule=\"nonzero\" fill-opacity=\"1\" /><path clip-path=\"url(#clip330)\" d=\"M528.808 1463.64 Q528.09 1463.22 527.234 1463.03 Q526.4 1462.83 525.382 1462.83 Q521.771 1462.83 519.826 1465.19 Q517.905 1467.52 517.905 1471.92 L517.905 1485.58 L513.623 1485.58 L513.623 1459.65 L517.905 1459.65 L517.905 1463.68 Q519.248 1461.32 521.4 1460.19 Q523.553 1459.03 526.632 1459.03 Q527.072 1459.03 527.604 1459.1 Q528.136 1459.14 528.785 1459.26 L528.808 1463.64 Z\" fill=\"#000000\" fill-rule=\"nonzero\" fill-opacity=\"1\" /><path clip-path=\"url(#clip330)\" d=\"M554.409 1471.55 L554.409 1473.64 L534.826 1473.64 Q535.104 1478.03 537.465 1480.35 Q539.849 1482.64 544.085 1482.64 Q546.539 1482.64 548.831 1482.04 Q551.146 1481.44 553.414 1480.23 L553.414 1484.26 Q551.122 1485.23 548.715 1485.74 Q546.308 1486.25 543.831 1486.25 Q537.627 1486.25 533.993 1482.64 Q530.382 1479.03 530.382 1472.87 Q530.382 1466.51 533.808 1462.78 Q537.257 1459.03 543.09 1459.03 Q548.322 1459.03 551.354 1462.41 Q554.409 1465.77 554.409 1471.55 M550.15 1470.3 Q550.104 1466.81 548.183 1464.72 Q546.285 1462.64 543.136 1462.64 Q539.572 1462.64 537.419 1464.65 Q535.289 1466.67 534.965 1470.33 L550.15 1470.3 Z\" fill=\"#000000\" fill-rule=\"nonzero\" fill-opacity=\"1\" /><path clip-path=\"url(#clip330)\" d=\"M558.345 1459.65 L562.859 1459.65 L570.96 1481.41 L579.062 1459.65 L583.576 1459.65 L573.854 1485.58 L568.067 1485.58 L558.345 1459.65 Z\" fill=\"#000000\" fill-rule=\"nonzero\" fill-opacity=\"1\" /><path clip-path=\"url(#clip330)\" d=\"M589.456 1459.65 L593.715 1459.65 L593.715 1485.58 L589.456 1485.58 L589.456 1459.65 M589.456 1449.56 L593.715 1449.56 L593.715 1454.96 L589.456 1454.96 L589.456 1449.56 Z\" fill=\"#000000\" fill-rule=\"nonzero\" fill-opacity=\"1\" /><path clip-path=\"url(#clip330)\" d=\"M599.571 1459.65 L604.085 1459.65 L612.187 1481.41 L620.289 1459.65 L624.803 1459.65 L615.08 1485.58 L609.293 1485.58 L599.571 1459.65 Z\" fill=\"#000000\" fill-rule=\"nonzero\" fill-opacity=\"1\" /><path clip-path=\"url(#clip330)\" d=\"M652.858 1471.55 L652.858 1473.64 L633.275 1473.64 Q633.553 1478.03 635.914 1480.35 Q638.298 1482.64 642.534 1482.64 Q644.988 1482.64 647.279 1482.04 Q649.594 1481.44 651.863 1480.23 L651.863 1484.26 Q649.571 1485.23 647.164 1485.74 Q644.756 1486.25 642.279 1486.25 Q636.076 1486.25 632.441 1482.64 Q628.83 1479.03 628.83 1472.87 Q628.83 1466.51 632.256 1462.78 Q635.705 1459.03 641.539 1459.03 Q646.77 1459.03 649.802 1462.41 Q652.858 1465.77 652.858 1471.55 M648.599 1470.3 Q648.553 1466.81 646.631 1464.72 Q644.733 1462.64 641.585 1462.64 Q638.02 1462.64 635.867 1464.65 Q633.738 1466.67 633.414 1470.33 L648.599 1470.3 Z\" fill=\"#000000\" fill-rule=\"nonzero\" fill-opacity=\"1\" /><path clip-path=\"url(#clip330)\" d=\"M681.4 1469.93 L681.4 1485.58 L677.14 1485.58 L677.14 1470.07 Q677.14 1466.39 675.705 1464.56 Q674.27 1462.73 671.4 1462.73 Q667.951 1462.73 665.96 1464.93 Q663.969 1467.13 663.969 1470.93 L663.969 1485.58 L659.687 1485.58 L659.687 1459.65 L663.969 1459.65 L663.969 1463.68 Q665.497 1461.34 667.557 1460.19 Q669.64 1459.03 672.349 1459.03 Q676.816 1459.03 679.108 1461.81 Q681.4 1464.56 681.4 1469.93 Z\" fill=\"#000000\" fill-rule=\"nonzero\" fill-opacity=\"1\" /><path clip-path=\"url(#clip330)\" d=\"M1972.04 1452.15 L1972.04 1456.71 Q1969.38 1455.44 1967.02 1454.82 Q1964.66 1454.19 1962.46 1454.19 Q1958.64 1454.19 1956.56 1455.67 Q1954.5 1457.15 1954.5 1459.89 Q1954.5 1462.18 1955.86 1463.36 Q1957.25 1464.52 1961.09 1465.23 L1963.92 1465.81 Q1969.15 1466.81 1971.63 1469.33 Q1974.13 1471.83 1974.13 1476.04 Q1974.13 1481.07 1970.75 1483.66 Q1967.39 1486.25 1960.89 1486.25 Q1958.43 1486.25 1955.66 1485.7 Q1952.9 1485.14 1949.94 1484.05 L1949.94 1479.24 Q1952.78 1480.83 1955.52 1481.64 Q1958.25 1482.45 1960.89 1482.45 Q1964.89 1482.45 1967.07 1480.88 Q1969.24 1479.31 1969.24 1476.39 Q1969.24 1473.84 1967.67 1472.41 Q1966.12 1470.97 1962.55 1470.26 L1959.71 1469.7 Q1954.47 1468.66 1952.14 1466.44 Q1949.8 1464.21 1949.8 1460.26 Q1949.8 1455.67 1953.02 1453.03 Q1956.26 1450.39 1961.93 1450.39 Q1964.36 1450.39 1966.88 1450.83 Q1969.41 1451.27 1972.04 1452.15 Z\" fill=\"#000000\" fill-rule=\"nonzero\" fill-opacity=\"1\" /><path clip-path=\"url(#clip330)\" d=\"M1991.28 1462.64 Q1987.85 1462.64 1985.86 1465.33 Q1983.87 1467.99 1983.87 1472.64 Q1983.87 1477.29 1985.84 1479.98 Q1987.83 1482.64 1991.28 1482.64 Q1994.68 1482.64 1996.67 1479.95 Q1998.66 1477.27 1998.66 1472.64 Q1998.66 1468.03 1996.67 1465.35 Q1994.68 1462.64 1991.28 1462.64 M1991.28 1459.03 Q1996.84 1459.03 2000.01 1462.64 Q2003.18 1466.25 2003.18 1472.64 Q2003.18 1479.01 2000.01 1482.64 Q1996.84 1486.25 1991.28 1486.25 Q1985.7 1486.25 1982.53 1482.64 Q1979.38 1479.01 1979.38 1472.64 Q1979.38 1466.25 1982.53 1462.64 Q1985.7 1459.03 1991.28 1459.03 Z\" fill=\"#000000\" fill-rule=\"nonzero\" fill-opacity=\"1\" /><path clip-path=\"url(#clip330)\" d=\"M2028.85 1472.64 Q2028.85 1467.94 2026.9 1465.28 Q2024.98 1462.59 2021.6 1462.59 Q2018.22 1462.59 2016.28 1465.28 Q2014.36 1467.94 2014.36 1472.64 Q2014.36 1477.34 2016.28 1480.02 Q2018.22 1482.69 2021.6 1482.69 Q2024.98 1482.69 2026.9 1480.02 Q2028.85 1477.34 2028.85 1472.64 M2014.36 1463.59 Q2015.7 1461.27 2017.74 1460.16 Q2019.8 1459.03 2022.65 1459.03 Q2027.37 1459.03 2030.31 1462.78 Q2033.27 1466.53 2033.27 1472.64 Q2033.27 1478.75 2030.31 1482.5 Q2027.37 1486.25 2022.65 1486.25 Q2019.8 1486.25 2017.74 1485.14 Q2015.7 1484.01 2014.36 1481.69 L2014.36 1485.58 L2010.08 1485.58 L2010.08 1449.56 L2014.36 1449.56 L2014.36 1463.59 Z\" fill=\"#000000\" fill-rule=\"nonzero\" fill-opacity=\"1\" /><path clip-path=\"url(#clip330)\" d=\"M2055.35 1463.64 Q2054.64 1463.22 2053.78 1463.03 Q2052.95 1462.83 2051.93 1462.83 Q2048.32 1462.83 2046.37 1465.19 Q2044.45 1467.52 2044.45 1471.92 L2044.45 1485.58 L2040.17 1485.58 L2040.17 1459.65 L2044.45 1459.65 L2044.45 1463.68 Q2045.79 1461.32 2047.95 1460.19 Q2050.1 1459.03 2053.18 1459.03 Q2053.62 1459.03 2054.15 1459.1 Q2054.68 1459.14 2055.33 1459.26 L2055.35 1463.64 Z\" fill=\"#000000\" fill-rule=\"nonzero\" fill-opacity=\"1\" /><path clip-path=\"url(#clip330)\" d=\"M2080.96 1471.55 L2080.96 1473.64 L2061.37 1473.64 Q2061.65 1478.03 2064.01 1480.35 Q2066.4 1482.64 2070.63 1482.64 Q2073.09 1482.64 2075.38 1482.04 Q2077.69 1481.44 2079.96 1480.23 L2079.96 1484.26 Q2077.67 1485.23 2075.26 1485.74 Q2072.85 1486.25 2070.38 1486.25 Q2064.17 1486.25 2060.54 1482.64 Q2056.93 1479.03 2056.93 1472.87 Q2056.93 1466.51 2060.35 1462.78 Q2063.8 1459.03 2069.64 1459.03 Q2074.87 1459.03 2077.9 1462.41 Q2080.96 1465.77 2080.96 1471.55 M2076.7 1470.3 Q2076.65 1466.81 2074.73 1464.72 Q2072.83 1462.64 2069.68 1462.64 Q2066.12 1462.64 2063.96 1464.65 Q2061.84 1466.67 2061.51 1470.33 L2076.7 1470.3 Z\" fill=\"#000000\" fill-rule=\"nonzero\" fill-opacity=\"1\" /><path clip-path=\"url(#clip330)\" d=\"M2084.89 1459.65 L2089.4 1459.65 L2097.51 1481.41 L2105.61 1459.65 L2110.12 1459.65 L2100.4 1485.58 L2094.61 1485.58 L2084.89 1459.65 Z\" fill=\"#000000\" fill-rule=\"nonzero\" fill-opacity=\"1\" /><path clip-path=\"url(#clip330)\" d=\"M2116 1459.65 L2120.26 1459.65 L2120.26 1485.58 L2116 1485.58 L2116 1459.65 M2116 1449.56 L2120.26 1449.56 L2120.26 1454.96 L2116 1454.96 L2116 1449.56 Z\" fill=\"#000000\" fill-rule=\"nonzero\" fill-opacity=\"1\" /><path clip-path=\"url(#clip330)\" d=\"M2126.12 1459.65 L2130.63 1459.65 L2138.73 1481.41 L2146.83 1459.65 L2151.35 1459.65 L2141.63 1485.58 L2135.84 1485.58 L2126.12 1459.65 Z\" fill=\"#000000\" fill-rule=\"nonzero\" fill-opacity=\"1\" /><path clip-path=\"url(#clip330)\" d=\"M2179.4 1471.55 L2179.4 1473.64 L2159.82 1473.64 Q2160.1 1478.03 2162.46 1480.35 Q2164.84 1482.64 2169.08 1482.64 Q2171.53 1482.64 2173.83 1482.04 Q2176.14 1481.44 2178.41 1480.23 L2178.41 1484.26 Q2176.12 1485.23 2173.71 1485.74 Q2171.3 1486.25 2168.83 1486.25 Q2162.62 1486.25 2158.99 1482.64 Q2155.38 1479.03 2155.38 1472.87 Q2155.38 1466.51 2158.8 1462.78 Q2162.25 1459.03 2168.08 1459.03 Q2173.32 1459.03 2176.35 1462.41 Q2179.4 1465.77 2179.4 1471.55 M2175.14 1470.3 Q2175.1 1466.81 2173.18 1464.72 Q2171.28 1462.64 2168.13 1462.64 Q2164.57 1462.64 2162.41 1464.65 Q2160.28 1466.67 2159.96 1470.33 L2175.14 1470.3 Z\" fill=\"#000000\" fill-rule=\"nonzero\" fill-opacity=\"1\" /><path clip-path=\"url(#clip330)\" d=\"M2207.95 1469.93 L2207.95 1485.58 L2203.69 1485.58 L2203.69 1470.07 Q2203.69 1466.39 2202.25 1464.56 Q2200.82 1462.73 2197.95 1462.73 Q2194.5 1462.73 2192.51 1464.93 Q2190.52 1467.13 2190.52 1470.93 L2190.52 1485.58 L2186.23 1485.58 L2186.23 1459.65 L2190.52 1459.65 L2190.52 1463.68 Q2192.04 1461.34 2194.1 1460.19 Q2196.19 1459.03 2198.89 1459.03 Q2203.36 1459.03 2205.65 1461.81 Q2207.95 1464.56 2207.95 1469.93 Z\" fill=\"#000000\" fill-rule=\"nonzero\" fill-opacity=\"1\" /><path clip-path=\"url(#clip330)\" d=\"M1228.84 1568.04 L1210.69 1520.52 L1217.41 1520.52 L1232.46 1560.53 L1247.55 1520.52 L1254.24 1520.52 L1236.12 1568.04 L1228.84 1568.04 Z\" fill=\"#000000\" fill-rule=\"nonzero\" fill-opacity=\"1\" /><path clip-path=\"url(#clip330)\" d=\"M1272.06 1550.12 Q1264.96 1550.12 1262.22 1551.75 Q1259.49 1553.37 1259.49 1557.29 Q1259.49 1560.4 1261.52 1562.25 Q1263.59 1564.07 1267.13 1564.07 Q1272 1564.07 1274.92 1560.63 Q1277.88 1557.16 1277.88 1551.43 L1277.88 1550.12 L1272.06 1550.12 M1283.74 1547.71 L1283.74 1568.04 L1277.88 1568.04 L1277.88 1562.63 Q1275.88 1565.88 1272.89 1567.44 Q1269.89 1568.97 1265.57 1568.97 Q1260.09 1568.97 1256.85 1565.91 Q1253.63 1562.82 1253.63 1557.67 Q1253.63 1551.65 1257.64 1548.6 Q1261.68 1545.54 1269.67 1545.54 L1277.88 1545.54 L1277.88 1544.97 Q1277.88 1540.93 1275.21 1538.73 Q1272.57 1536.5 1267.76 1536.5 Q1264.71 1536.5 1261.81 1537.23 Q1258.91 1537.97 1256.24 1539.43 L1256.24 1534.02 Q1259.46 1532.78 1262.48 1532.17 Q1265.5 1531.54 1268.37 1531.54 Q1276.1 1531.54 1279.92 1535.55 Q1283.74 1539.56 1283.74 1547.71 Z\" fill=\"#000000\" fill-rule=\"nonzero\" fill-opacity=\"1\" /><path clip-path=\"url(#clip330)\" d=\"M1295.8 1518.52 L1301.66 1518.52 L1301.66 1568.04 L1295.8 1568.04 L1295.8 1518.52 Z\" fill=\"#000000\" fill-rule=\"nonzero\" fill-opacity=\"1\" /><path clip-path=\"url(#clip330)\" d=\"M1327.73 1536.5 Q1323.02 1536.5 1320.28 1540.19 Q1317.54 1543.85 1317.54 1550.25 Q1317.54 1556.65 1320.25 1560.34 Q1322.98 1564 1327.73 1564 Q1332.41 1564 1335.14 1560.31 Q1337.88 1556.62 1337.88 1550.25 Q1337.88 1543.92 1335.14 1540.23 Q1332.41 1536.5 1327.73 1536.5 M1327.73 1531.54 Q1335.37 1531.54 1339.73 1536.5 Q1344.09 1541.47 1344.09 1550.25 Q1344.09 1559 1339.73 1564 Q1335.37 1568.97 1327.73 1568.97 Q1320.06 1568.97 1315.7 1564 Q1311.37 1559 1311.37 1550.25 Q1311.37 1541.47 1315.7 1536.5 Q1320.06 1531.54 1327.73 1531.54 Z\" fill=\"#000000\" fill-rule=\"nonzero\" fill-opacity=\"1\" /><path clip-path=\"url(#clip330)\" d=\"M1374.45 1537.87 Q1373.46 1537.3 1372.29 1537.04 Q1371.14 1536.76 1369.74 1536.76 Q1364.78 1536.76 1362.1 1540 Q1359.46 1543.22 1359.46 1549.27 L1359.46 1568.04 L1353.57 1568.04 L1353.57 1532.4 L1359.46 1532.4 L1359.46 1537.93 Q1361.31 1534.69 1364.27 1533.13 Q1367.23 1531.54 1371.46 1531.54 Q1372.06 1531.54 1372.8 1531.63 Q1373.53 1531.7 1374.42 1531.85 L1374.45 1537.87 Z\" fill=\"#000000\" fill-rule=\"nonzero\" fill-opacity=\"1\" /><polyline clip-path=\"url(#clip332)\" style=\"stroke:#000000; stroke-linecap:round; stroke-linejoin:round; stroke-width:2; stroke-opacity:0.1; fill:none\" points=\"232.389,1423.18 2352.76,1423.18 \"/>\n",
       "<polyline clip-path=\"url(#clip332)\" style=\"stroke:#000000; stroke-linecap:round; stroke-linejoin:round; stroke-width:2; stroke-opacity:0.1; fill:none\" points=\"232.389,1038.65 2352.76,1038.65 \"/>\n",
       "<polyline clip-path=\"url(#clip332)\" style=\"stroke:#000000; stroke-linecap:round; stroke-linejoin:round; stroke-width:2; stroke-opacity:0.1; fill:none\" points=\"232.389,654.122 2352.76,654.122 \"/>\n",
       "<polyline clip-path=\"url(#clip332)\" style=\"stroke:#000000; stroke-linecap:round; stroke-linejoin:round; stroke-width:2; stroke-opacity:0.1; fill:none\" points=\"232.389,269.593 2352.76,269.593 \"/>\n",
       "<polyline clip-path=\"url(#clip330)\" style=\"stroke:#000000; stroke-linecap:round; stroke-linejoin:round; stroke-width:4; stroke-opacity:1; fill:none\" points=\"232.389,1423.18 232.389,123.472 \"/>\n",
       "<polyline clip-path=\"url(#clip330)\" style=\"stroke:#000000; stroke-linecap:round; stroke-linejoin:round; stroke-width:4; stroke-opacity:1; fill:none\" points=\"232.389,1423.18 251.287,1423.18 \"/>\n",
       "<polyline clip-path=\"url(#clip330)\" style=\"stroke:#000000; stroke-linecap:round; stroke-linejoin:round; stroke-width:4; stroke-opacity:1; fill:none\" points=\"232.389,1038.65 251.287,1038.65 \"/>\n",
       "<polyline clip-path=\"url(#clip330)\" style=\"stroke:#000000; stroke-linecap:round; stroke-linejoin:round; stroke-width:4; stroke-opacity:1; fill:none\" points=\"232.389,654.122 251.287,654.122 \"/>\n",
       "<polyline clip-path=\"url(#clip330)\" style=\"stroke:#000000; stroke-linecap:round; stroke-linejoin:round; stroke-width:4; stroke-opacity:1; fill:none\" points=\"232.389,269.593 251.287,269.593 \"/>\n",
       "<path clip-path=\"url(#clip330)\" d=\"M184.445 1408.98 Q180.834 1408.98 179.005 1412.54 Q177.2 1416.08 177.2 1423.21 Q177.2 1430.32 179.005 1433.89 Q180.834 1437.43 184.445 1437.43 Q188.079 1437.43 189.885 1433.89 Q191.713 1430.32 191.713 1423.21 Q191.713 1416.08 189.885 1412.54 Q188.079 1408.98 184.445 1408.98 M184.445 1405.27 Q190.255 1405.27 193.311 1409.88 Q196.389 1414.46 196.389 1423.21 Q196.389 1431.94 193.311 1436.55 Q190.255 1441.13 184.445 1441.13 Q178.635 1441.13 175.556 1436.55 Q172.501 1431.94 172.501 1423.21 Q172.501 1414.46 175.556 1409.88 Q178.635 1405.27 184.445 1405.27 Z\" fill=\"#000000\" fill-rule=\"nonzero\" fill-opacity=\"1\" /><path clip-path=\"url(#clip330)\" d=\"M144.329 1021.37 L162.686 1021.37 L162.686 1025.31 L148.612 1025.31 L148.612 1033.78 Q149.63 1033.43 150.649 1033.27 Q151.667 1033.08 152.686 1033.08 Q158.473 1033.08 161.852 1036.26 Q165.232 1039.43 165.232 1044.84 Q165.232 1050.42 161.76 1053.52 Q158.288 1056.6 151.968 1056.6 Q149.792 1056.6 147.524 1056.23 Q145.279 1055.86 142.871 1055.12 L142.871 1050.42 Q144.954 1051.56 147.177 1052.11 Q149.399 1052.67 151.876 1052.67 Q155.88 1052.67 158.218 1050.56 Q160.556 1048.45 160.556 1044.84 Q160.556 1041.23 158.218 1039.13 Q155.88 1037.02 151.876 1037.02 Q150.001 1037.02 148.126 1037.44 Q146.274 1037.85 144.329 1038.73 L144.329 1021.37 Z\" fill=\"#000000\" fill-rule=\"nonzero\" fill-opacity=\"1\" /><path clip-path=\"url(#clip330)\" d=\"M184.445 1024.45 Q180.834 1024.45 179.005 1028.01 Q177.2 1031.56 177.2 1038.69 Q177.2 1045.79 179.005 1049.36 Q180.834 1052.9 184.445 1052.9 Q188.079 1052.9 189.885 1049.36 Q191.713 1045.79 191.713 1038.69 Q191.713 1031.56 189.885 1028.01 Q188.079 1024.45 184.445 1024.45 M184.445 1020.75 Q190.255 1020.75 193.311 1025.35 Q196.389 1029.94 196.389 1038.69 Q196.389 1047.41 193.311 1052.02 Q190.255 1056.6 184.445 1056.6 Q178.635 1056.6 175.556 1052.02 Q172.501 1047.41 172.501 1038.69 Q172.501 1029.94 175.556 1025.35 Q178.635 1020.75 184.445 1020.75 Z\" fill=\"#000000\" fill-rule=\"nonzero\" fill-opacity=\"1\" /><path clip-path=\"url(#clip330)\" d=\"M114.931 667.467 L122.57 667.467 L122.57 641.101 L114.26 642.768 L114.26 638.509 L122.524 636.842 L127.2 636.842 L127.2 667.467 L134.839 667.467 L134.839 671.402 L114.931 671.402 L114.931 667.467 Z\" fill=\"#000000\" fill-rule=\"nonzero\" fill-opacity=\"1\" /><path clip-path=\"url(#clip330)\" d=\"M154.283 639.921 Q150.672 639.921 148.843 643.486 Q147.038 647.027 147.038 654.157 Q147.038 661.263 148.843 664.828 Q150.672 668.37 154.283 668.37 Q157.917 668.37 159.723 664.828 Q161.552 661.263 161.552 654.157 Q161.552 647.027 159.723 643.486 Q157.917 639.921 154.283 639.921 M154.283 636.217 Q160.093 636.217 163.149 640.823 Q166.227 645.407 166.227 654.157 Q166.227 662.884 163.149 667.49 Q160.093 672.073 154.283 672.073 Q148.473 672.073 145.394 667.49 Q142.339 662.884 142.339 654.157 Q142.339 645.407 145.394 640.823 Q148.473 636.217 154.283 636.217 Z\" fill=\"#000000\" fill-rule=\"nonzero\" fill-opacity=\"1\" /><path clip-path=\"url(#clip330)\" d=\"M184.445 639.921 Q180.834 639.921 179.005 643.486 Q177.2 647.027 177.2 654.157 Q177.2 661.263 179.005 664.828 Q180.834 668.37 184.445 668.37 Q188.079 668.37 189.885 664.828 Q191.713 661.263 191.713 654.157 Q191.713 647.027 189.885 643.486 Q188.079 639.921 184.445 639.921 M184.445 636.217 Q190.255 636.217 193.311 640.823 Q196.389 645.407 196.389 654.157 Q196.389 662.884 193.311 667.49 Q190.255 672.073 184.445 672.073 Q178.635 672.073 175.556 667.49 Q172.501 662.884 172.501 654.157 Q172.501 645.407 175.556 640.823 Q178.635 636.217 184.445 636.217 Z\" fill=\"#000000\" fill-rule=\"nonzero\" fill-opacity=\"1\" /><path clip-path=\"url(#clip330)\" d=\"M114.931 282.938 L122.57 282.938 L122.57 256.572 L114.26 258.239 L114.26 253.98 L122.524 252.313 L127.2 252.313 L127.2 282.938 L134.839 282.938 L134.839 286.873 L114.931 286.873 L114.931 282.938 Z\" fill=\"#000000\" fill-rule=\"nonzero\" fill-opacity=\"1\" /><path clip-path=\"url(#clip330)\" d=\"M144.329 252.313 L162.686 252.313 L162.686 256.248 L148.612 256.248 L148.612 264.72 Q149.63 264.373 150.649 264.211 Q151.667 264.026 152.686 264.026 Q158.473 264.026 161.852 267.197 Q165.232 270.369 165.232 275.785 Q165.232 281.364 161.76 284.466 Q158.288 287.544 151.968 287.544 Q149.792 287.544 147.524 287.174 Q145.279 286.804 142.871 286.063 L142.871 281.364 Q144.954 282.498 147.177 283.054 Q149.399 283.609 151.876 283.609 Q155.88 283.609 158.218 281.503 Q160.556 279.396 160.556 275.785 Q160.556 272.174 158.218 270.068 Q155.88 267.961 151.876 267.961 Q150.001 267.961 148.126 268.378 Q146.274 268.795 144.329 269.674 L144.329 252.313 Z\" fill=\"#000000\" fill-rule=\"nonzero\" fill-opacity=\"1\" /><path clip-path=\"url(#clip330)\" d=\"M184.445 255.392 Q180.834 255.392 179.005 258.957 Q177.2 262.498 177.2 269.628 Q177.2 276.734 179.005 280.299 Q180.834 283.841 184.445 283.841 Q188.079 283.841 189.885 280.299 Q191.713 276.734 191.713 269.628 Q191.713 262.498 189.885 258.957 Q188.079 255.392 184.445 255.392 M184.445 251.688 Q190.255 251.688 193.311 256.295 Q196.389 260.878 196.389 269.628 Q196.389 278.355 193.311 282.961 Q190.255 287.544 184.445 287.544 Q178.635 287.544 175.556 282.961 Q172.501 278.355 172.501 269.628 Q172.501 260.878 175.556 256.295 Q178.635 251.688 184.445 251.688 Z\" fill=\"#000000\" fill-rule=\"nonzero\" fill-opacity=\"1\" /><path clip-path=\"url(#clip330)\" d=\"M20.1444 876.785 L26.9239 876.785 Q23.9002 880.031 22.4043 883.723 Q20.9083 887.384 20.9083 891.521 Q20.9083 899.669 25.9054 903.998 Q30.8707 908.327 40.2919 908.327 Q49.6813 908.327 54.6784 903.998 Q59.6436 899.669 59.6436 891.521 Q59.6436 887.384 58.1477 883.723 Q56.6518 880.031 53.6281 876.785 L60.3439 876.785 Q62.6355 880.158 63.7814 883.946 Q64.9272 887.702 64.9272 891.903 Q64.9272 902.693 58.3387 908.9 Q51.7183 915.106 40.2919 915.106 Q28.8336 915.106 22.2451 908.9 Q15.6248 902.693 15.6248 891.903 Q15.6248 887.638 16.7706 883.882 Q17.8846 880.095 20.1444 876.785 Z\" fill=\"#000000\" fill-rule=\"nonzero\" fill-opacity=\"1\" /><path clip-path=\"url(#clip330)\" d=\"M46.0847 850.908 Q46.0847 858.006 47.7079 860.743 Q49.3312 863.48 53.2461 863.48 Q56.3653 863.48 58.2114 861.443 Q60.0256 859.374 60.0256 855.841 Q60.0256 850.972 56.5881 848.043 Q53.1188 845.083 47.3897 845.083 L46.0847 845.083 L46.0847 850.908 M43.6657 839.227 L64.0042 839.227 L64.0042 845.083 L58.5933 845.083 Q61.8398 847.089 63.3994 850.08 Q64.9272 853.072 64.9272 857.401 Q64.9272 862.876 61.8716 866.122 Q58.7843 869.337 53.6281 869.337 Q47.6125 869.337 44.5569 865.326 Q41.5014 861.284 41.5014 853.295 L41.5014 845.083 L40.9285 845.083 Q36.8862 845.083 34.6901 847.757 Q32.4621 850.399 32.4621 855.205 Q32.4621 858.26 33.1941 861.157 Q33.9262 864.053 35.3903 866.727 L29.9795 866.727 Q28.7381 863.512 28.1334 860.488 Q27.4968 857.465 27.4968 854.6 Q27.4968 846.866 31.5072 843.046 Q35.5176 839.227 43.6657 839.227 Z\" fill=\"#000000\" fill-rule=\"nonzero\" fill-opacity=\"1\" /><path clip-path=\"url(#clip330)\" d=\"M42.4881 797.532 L64.0042 797.532 L64.0042 803.388 L42.679 803.388 Q37.6183 803.388 35.1038 805.361 Q32.5894 807.335 32.5894 811.282 Q32.5894 816.024 35.6131 818.761 Q38.6368 821.498 43.8567 821.498 L64.0042 821.498 L64.0042 827.387 L28.3562 827.387 L28.3562 821.498 L33.8944 821.498 Q30.6797 819.398 29.0883 816.565 Q27.4968 813.7 27.4968 809.977 Q27.4968 803.834 31.3163 800.683 Q35.1038 797.532 42.4881 797.532 Z\" fill=\"#000000\" fill-rule=\"nonzero\" fill-opacity=\"1\" /><path clip-path=\"url(#clip330)\" d=\"M18.2347 780.058 L28.3562 780.058 L28.3562 767.995 L32.9077 767.995 L32.9077 780.058 L52.2594 780.058 Q56.6199 780.058 57.8613 778.88 Q59.1026 777.671 59.1026 774.01 L59.1026 767.995 L64.0042 767.995 L64.0042 774.01 Q64.0042 780.79 61.4897 783.368 Q58.9434 785.946 52.2594 785.946 L32.9077 785.946 L32.9077 790.243 L28.3562 790.243 L28.3562 785.946 L18.2347 785.946 L18.2347 780.058 Z\" fill=\"#000000\" fill-rule=\"nonzero\" fill-opacity=\"1\" /><path clip-path=\"url(#clip330)\" d=\"M28.3562 760.292 L28.3562 754.436 L64.0042 754.436 L64.0042 760.292 L28.3562 760.292 M14.479 760.292 L14.479 754.436 L21.895 754.436 L21.895 760.292 L14.479 760.292 Z\" fill=\"#000000\" fill-rule=\"nonzero\" fill-opacity=\"1\" /><path clip-path=\"url(#clip330)\" d=\"M33.7671 718.724 L14.479 718.724 L14.479 712.868 L64.0042 712.868 L64.0042 718.724 L58.657 718.724 Q61.8398 720.57 63.3994 723.403 Q64.9272 726.204 64.9272 730.151 Q64.9272 736.612 59.771 740.686 Q54.6147 744.728 46.212 744.728 Q37.8093 744.728 32.6531 740.686 Q27.4968 736.612 27.4968 730.151 Q27.4968 726.204 29.0564 723.403 Q30.5842 720.57 33.7671 718.724 M46.212 738.681 Q52.6732 738.681 56.3653 736.039 Q60.0256 733.365 60.0256 728.718 Q60.0256 724.071 56.3653 721.398 Q52.6732 718.724 46.212 718.724 Q39.7508 718.724 36.0905 721.398 Q32.3984 724.071 32.3984 728.718 Q32.3984 733.365 36.0905 736.039 Q39.7508 738.681 46.212 738.681 Z\" fill=\"#000000\" fill-rule=\"nonzero\" fill-opacity=\"1\" /><path clip-path=\"url(#clip330)\" d=\"M46.0847 684.604 Q46.0847 691.702 47.7079 694.439 Q49.3312 697.176 53.2461 697.176 Q56.3653 697.176 58.2114 695.139 Q60.0256 693.07 60.0256 689.537 Q60.0256 684.668 56.5881 681.739 Q53.1188 678.779 47.3897 678.779 L46.0847 678.779 L46.0847 684.604 M43.6657 672.923 L64.0042 672.923 L64.0042 678.779 L58.5933 678.779 Q61.8398 680.785 63.3994 683.776 Q64.9272 686.768 64.9272 691.097 Q64.9272 696.571 61.8716 699.818 Q58.7843 703.033 53.6281 703.033 Q47.6125 703.033 44.5569 699.022 Q41.5014 694.98 41.5014 686.991 L41.5014 678.779 L40.9285 678.779 Q36.8862 678.779 34.6901 681.453 Q32.4621 684.095 32.4621 688.901 Q32.4621 691.956 33.1941 694.853 Q33.9262 697.749 35.3903 700.423 L29.9795 700.423 Q28.7381 697.208 28.1334 694.184 Q27.4968 691.161 27.4968 688.296 Q27.4968 680.562 31.5072 676.742 Q35.5176 672.923 43.6657 672.923 Z\" fill=\"#000000\" fill-rule=\"nonzero\" fill-opacity=\"1\" /><path clip-path=\"url(#clip330)\" d=\"M33.7671 637.402 L14.479 637.402 L14.479 631.546 L64.0042 631.546 L64.0042 637.402 L58.657 637.402 Q61.8398 639.248 63.3994 642.081 Q64.9272 644.882 64.9272 648.829 Q64.9272 655.29 59.771 659.364 Q54.6147 663.406 46.212 663.406 Q37.8093 663.406 32.6531 659.364 Q27.4968 655.29 27.4968 648.829 Q27.4968 644.882 29.0564 642.081 Q30.5842 639.248 33.7671 637.402 M46.212 657.359 Q52.6732 657.359 56.3653 654.717 Q60.0256 652.043 60.0256 647.396 Q60.0256 642.749 56.3653 640.076 Q52.6732 637.402 46.212 637.402 Q39.7508 637.402 36.0905 640.076 Q32.3984 642.749 32.3984 647.396 Q32.3984 652.043 36.0905 654.717 Q39.7508 657.359 46.212 657.359 Z\" fill=\"#000000\" fill-rule=\"nonzero\" fill-opacity=\"1\" /><path clip-path=\"url(#clip330)\" d=\"M398.619 16.7545 L398.619 25.383 Q394.487 21.5346 389.788 19.6307 Q385.13 17.7268 379.863 17.7268 Q369.493 17.7268 363.984 24.0867 Q358.475 30.4061 358.475 42.3968 Q358.475 54.3469 363.984 60.7069 Q369.493 67.0263 379.863 67.0263 Q385.13 67.0263 389.788 65.1223 Q394.487 63.2184 398.619 59.3701 L398.619 67.9175 Q394.325 70.8341 389.505 72.2924 Q384.724 73.7508 379.377 73.7508 Q365.645 73.7508 357.745 65.3654 Q349.846 56.9395 349.846 42.3968 Q349.846 27.8135 357.745 19.4281 Q365.645 11.0023 379.377 11.0023 Q384.805 11.0023 389.586 12.4606 Q394.406 13.8784 398.619 16.7545 Z\" fill=\"#000000\" fill-rule=\"nonzero\" fill-opacity=\"1\" /><path clip-path=\"url(#clip330)\" d=\"M431.553 49.7694 Q422.519 49.7694 419.036 51.8354 Q415.552 53.9013 415.552 58.8839 Q415.552 62.8538 418.144 65.2034 Q420.778 67.5124 425.274 67.5124 Q431.472 67.5124 435.199 63.1374 Q438.966 58.7219 438.966 51.4303 L438.966 49.7694 L431.553 49.7694 M446.42 46.6907 L446.42 72.576 L438.966 72.576 L438.966 65.6895 Q436.414 69.8214 432.606 71.8063 Q428.798 73.7508 423.289 73.7508 Q416.322 73.7508 412.19 69.8619 Q408.098 65.9325 408.098 59.3701 Q408.098 51.7138 413.202 47.825 Q418.347 43.9361 428.515 43.9361 L438.966 43.9361 L438.966 43.2069 Q438.966 38.0623 435.563 35.2672 Q432.201 32.4315 426.084 32.4315 Q422.195 32.4315 418.509 33.3632 Q414.823 34.295 411.42 36.1584 L411.42 29.2718 Q415.511 27.692 419.36 26.9223 Q423.208 26.1121 426.854 26.1121 Q436.698 26.1121 441.559 31.2163 Q446.42 36.3204 446.42 46.6907 Z\" fill=\"#000000\" fill-rule=\"nonzero\" fill-opacity=\"1\" /><path clip-path=\"url(#clip330)\" d=\"M499.487 45.1919 L499.487 72.576 L492.033 72.576 L492.033 45.4349 Q492.033 38.994 489.521 35.7938 Q487.01 32.5936 481.987 32.5936 Q475.951 32.5936 472.467 36.4419 Q468.983 40.2903 468.983 46.9338 L468.983 72.576 L461.489 72.576 L461.489 27.2059 L468.983 27.2059 L468.983 34.2544 Q471.657 30.163 475.262 28.1376 Q478.908 26.1121 483.648 26.1121 Q491.466 26.1121 495.476 30.9732 Q499.487 35.7938 499.487 45.1919 Z\" fill=\"#000000\" fill-rule=\"nonzero\" fill-opacity=\"1\" /><path clip-path=\"url(#clip330)\" d=\"M521.726 14.324 L521.726 27.2059 L537.079 27.2059 L537.079 32.9987 L521.726 32.9987 L521.726 57.6282 Q521.726 63.1779 523.225 64.7578 Q524.764 66.3376 529.423 66.3376 L537.079 66.3376 L537.079 72.576 L529.423 72.576 Q520.794 72.576 517.513 69.3758 Q514.232 66.1351 514.232 57.6282 L514.232 32.9987 L508.763 32.9987 L508.763 27.2059 L514.232 27.2059 L514.232 14.324 L521.726 14.324 Z\" fill=\"#000000\" fill-rule=\"nonzero\" fill-opacity=\"1\" /><path clip-path=\"url(#clip330)\" d=\"M546.882 27.2059 L554.336 27.2059 L554.336 72.576 L546.882 72.576 L546.882 27.2059 M546.882 9.54393 L554.336 9.54393 L554.336 18.9825 L546.882 18.9825 L546.882 9.54393 Z\" fill=\"#000000\" fill-rule=\"nonzero\" fill-opacity=\"1\" /><path clip-path=\"url(#clip330)\" d=\"M599.787 34.0924 L599.787 9.54393 L607.241 9.54393 L607.241 72.576 L599.787 72.576 L599.787 65.7705 Q597.437 69.8214 593.832 71.8063 Q590.267 73.7508 585.244 73.7508 Q577.021 73.7508 571.836 67.1883 Q566.691 60.6258 566.691 49.9314 Q566.691 39.2371 571.836 32.6746 Q577.021 26.1121 585.244 26.1121 Q590.267 26.1121 593.832 28.0971 Q597.437 30.0415 599.787 34.0924 M574.388 49.9314 Q574.388 58.1548 577.75 62.8538 Q581.153 67.5124 587.067 67.5124 Q592.981 67.5124 596.384 62.8538 Q599.787 58.1548 599.787 49.9314 Q599.787 41.7081 596.384 37.0496 Q592.981 32.3505 587.067 32.3505 Q581.153 32.3505 577.75 37.0496 Q574.388 41.7081 574.388 49.9314 Z\" fill=\"#000000\" fill-rule=\"nonzero\" fill-opacity=\"1\" /><path clip-path=\"url(#clip330)\" d=\"M643.213 49.7694 Q634.179 49.7694 630.695 51.8354 Q627.212 53.9013 627.212 58.8839 Q627.212 62.8538 629.804 65.2034 Q632.437 67.5124 636.934 67.5124 Q643.132 67.5124 646.858 63.1374 Q650.626 58.7219 650.626 51.4303 L650.626 49.7694 L643.213 49.7694 M658.079 46.6907 L658.079 72.576 L650.626 72.576 L650.626 65.6895 Q648.074 69.8214 644.266 71.8063 Q640.458 73.7508 634.949 73.7508 Q627.981 73.7508 623.849 69.8619 Q619.758 65.9325 619.758 59.3701 Q619.758 51.7138 624.862 47.825 Q630.007 43.9361 640.175 43.9361 L650.626 43.9361 L650.626 43.2069 Q650.626 38.0623 647.223 35.2672 Q643.861 32.4315 637.744 32.4315 Q633.855 32.4315 630.169 33.3632 Q626.482 34.295 623.08 36.1584 L623.08 29.2718 Q627.171 27.692 631.019 26.9223 Q634.868 26.1121 638.514 26.1121 Q648.357 26.1121 653.218 31.2163 Q658.079 36.3204 658.079 46.6907 Z\" fill=\"#000000\" fill-rule=\"nonzero\" fill-opacity=\"1\" /><path clip-path=\"url(#clip330)\" d=\"M703.288 34.0924 L703.288 9.54393 L710.741 9.54393 L710.741 72.576 L703.288 72.576 L703.288 65.7705 Q700.938 69.8214 697.333 71.8063 Q693.768 73.7508 688.745 73.7508 Q680.522 73.7508 675.336 67.1883 Q670.192 60.6258 670.192 49.9314 Q670.192 39.2371 675.336 32.6746 Q680.522 26.1121 688.745 26.1121 Q693.768 26.1121 697.333 28.0971 Q700.938 30.0415 703.288 34.0924 M677.888 49.9314 Q677.888 58.1548 681.251 62.8538 Q684.653 67.5124 690.568 67.5124 Q696.482 67.5124 699.885 62.8538 Q703.288 58.1548 703.288 49.9314 Q703.288 41.7081 699.885 37.0496 Q696.482 32.3505 690.568 32.3505 Q684.653 32.3505 681.251 37.0496 Q677.888 41.7081 677.888 49.9314 Z\" fill=\"#000000\" fill-rule=\"nonzero\" fill-opacity=\"1\" /><path clip-path=\"url(#clip330)\" d=\"M782.321 34.0924 L782.321 9.54393 L789.774 9.54393 L789.774 72.576 L782.321 72.576 L782.321 65.7705 Q779.971 69.8214 776.366 71.8063 Q772.801 73.7508 767.778 73.7508 Q759.555 73.7508 754.369 67.1883 Q749.225 60.6258 749.225 49.9314 Q749.225 39.2371 754.369 32.6746 Q759.555 26.1121 767.778 26.1121 Q772.801 26.1121 776.366 28.0971 Q779.971 30.0415 782.321 34.0924 M756.922 49.9314 Q756.922 58.1548 760.284 62.8538 Q763.687 67.5124 769.601 67.5124 Q775.515 67.5124 778.918 62.8538 Q782.321 58.1548 782.321 49.9314 Q782.321 41.7081 778.918 37.0496 Q775.515 32.3505 769.601 32.3505 Q763.687 32.3505 760.284 37.0496 Q756.922 41.7081 756.922 49.9314 Z\" fill=\"#000000\" fill-rule=\"nonzero\" fill-opacity=\"1\" /><path clip-path=\"url(#clip330)\" d=\"M843.935 48.0275 L843.935 51.6733 L809.664 51.6733 Q810.15 59.3701 814.282 63.421 Q818.455 67.4314 825.868 67.4314 Q830.162 67.4314 834.172 66.3781 Q838.223 65.3249 842.193 63.2184 L842.193 70.267 Q838.183 71.9684 833.97 72.8596 Q829.757 73.7508 825.422 73.7508 Q814.566 73.7508 808.206 67.4314 Q801.887 61.1119 801.887 50.3365 Q801.887 39.1965 807.882 32.6746 Q813.918 26.1121 824.126 26.1121 Q833.281 26.1121 838.588 32.0264 Q843.935 37.9003 843.935 48.0275 M836.481 45.84 Q836.4 39.7232 833.038 36.0774 Q829.716 32.4315 824.207 32.4315 Q817.969 32.4315 814.201 35.9558 Q810.475 39.4801 809.907 45.8805 L836.481 45.84 Z\" fill=\"#000000\" fill-rule=\"nonzero\" fill-opacity=\"1\" /><path clip-path=\"url(#clip330)\" d=\"M886.996 49.9314 Q886.996 58.1548 890.358 62.8538 Q893.761 67.5124 899.675 67.5124 Q905.59 67.5124 908.993 62.8538 Q912.395 58.1548 912.395 49.9314 Q912.395 41.7081 908.993 37.0496 Q905.59 32.3505 899.675 32.3505 Q893.761 32.3505 890.358 37.0496 Q886.996 41.7081 886.996 49.9314 M912.395 65.7705 Q910.046 69.8214 906.44 71.8063 Q902.876 73.7508 897.853 73.7508 Q889.629 73.7508 884.444 67.1883 Q879.299 60.6258 879.299 49.9314 Q879.299 39.2371 884.444 32.6746 Q889.629 26.1121 897.853 26.1121 Q902.876 26.1121 906.44 28.0971 Q910.046 30.0415 912.395 34.0924 L912.395 27.2059 L919.849 27.2059 L919.849 89.8329 L912.395 89.8329 L912.395 65.7705 Z\" fill=\"#000000\" fill-rule=\"nonzero\" fill-opacity=\"1\" /><path clip-path=\"url(#clip330)\" d=\"M934.432 54.671 L934.432 27.2059 L941.886 27.2059 L941.886 54.3874 Q941.886 60.8284 944.397 64.0691 Q946.909 67.2693 951.932 67.2693 Q957.968 67.2693 961.452 63.421 Q964.976 59.5726 964.976 52.9291 L964.976 27.2059 L972.43 27.2059 L972.43 72.576 L964.976 72.576 L964.976 65.6084 Q962.262 69.7404 958.657 71.7658 Q955.092 73.7508 950.352 73.7508 Q942.534 73.7508 938.483 68.8897 Q934.432 64.0286 934.432 54.671 M953.188 26.1121 L953.188 26.1121 Z\" fill=\"#000000\" fill-rule=\"nonzero\" fill-opacity=\"1\" /><path clip-path=\"url(#clip330)\" d=\"M987.783 27.2059 L995.236 27.2059 L995.236 72.576 L987.783 72.576 L987.783 27.2059 M987.783 9.54393 L995.236 9.54393 L995.236 18.9825 L987.783 18.9825 L987.783 9.54393 Z\" fill=\"#000000\" fill-rule=\"nonzero\" fill-opacity=\"1\" /><path clip-path=\"url(#clip330)\" d=\"M1049.64 48.0275 L1049.64 51.6733 L1015.37 51.6733 Q1015.86 59.3701 1019.99 63.421 Q1024.16 67.4314 1031.57 67.4314 Q1035.87 67.4314 1039.88 66.3781 Q1043.93 65.3249 1047.9 63.2184 L1047.9 70.267 Q1043.89 71.9684 1039.67 72.8596 Q1035.46 73.7508 1031.13 73.7508 Q1020.27 73.7508 1013.91 67.4314 Q1007.59 61.1119 1007.59 50.3365 Q1007.59 39.1965 1013.59 32.6746 Q1019.62 26.1121 1029.83 26.1121 Q1038.99 26.1121 1044.29 32.0264 Q1049.64 37.9003 1049.64 48.0275 M1042.19 45.84 Q1042.11 39.7232 1038.74 36.0774 Q1035.42 32.4315 1029.91 32.4315 Q1023.67 32.4315 1019.91 35.9558 Q1016.18 39.4801 1015.61 45.8805 L1042.19 45.84 Z\" fill=\"#000000\" fill-rule=\"nonzero\" fill-opacity=\"1\" /><path clip-path=\"url(#clip330)\" d=\"M1099.59 45.1919 L1099.59 72.576 L1092.13 72.576 L1092.13 45.4349 Q1092.13 38.994 1089.62 35.7938 Q1087.11 32.5936 1082.09 32.5936 Q1076.05 32.5936 1072.57 36.4419 Q1069.08 40.2903 1069.08 46.9338 L1069.08 72.576 L1061.59 72.576 L1061.59 27.2059 L1069.08 27.2059 L1069.08 34.2544 Q1071.76 30.163 1075.36 28.1376 Q1079.01 26.1121 1083.75 26.1121 Q1091.57 26.1121 1095.58 30.9732 Q1099.59 35.7938 1099.59 45.1919 Z\" fill=\"#000000\" fill-rule=\"nonzero\" fill-opacity=\"1\" /><path clip-path=\"url(#clip330)\" d=\"M1153.26 48.0275 L1153.26 51.6733 L1118.99 51.6733 Q1119.48 59.3701 1123.61 63.421 Q1127.78 67.4314 1135.19 67.4314 Q1139.49 67.4314 1143.5 66.3781 Q1147.55 65.3249 1151.52 63.2184 L1151.52 70.267 Q1147.51 71.9684 1143.3 72.8596 Q1139.08 73.7508 1134.75 73.7508 Q1123.89 73.7508 1117.53 67.4314 Q1111.21 61.1119 1111.21 50.3365 Q1111.21 39.1965 1117.21 32.6746 Q1123.24 26.1121 1133.45 26.1121 Q1142.61 26.1121 1147.91 32.0264 Q1153.26 37.9003 1153.26 48.0275 M1145.81 45.84 Q1145.73 39.7232 1142.37 36.0774 Q1139.04 32.4315 1133.53 32.4315 Q1127.3 32.4315 1123.53 35.9558 Q1119.8 39.4801 1119.23 45.8805 L1145.81 45.84 Z\" fill=\"#000000\" fill-rule=\"nonzero\" fill-opacity=\"1\" /><path clip-path=\"url(#clip330)\" d=\"M1194.42 28.5427 L1194.42 35.5912 Q1191.26 33.9709 1187.86 33.1607 Q1184.45 32.3505 1180.81 32.3505 Q1175.26 32.3505 1172.46 34.0519 Q1169.71 35.7533 1169.71 39.156 Q1169.71 41.7486 1171.69 43.2475 Q1173.68 44.7058 1179.67 46.0426 L1182.23 46.6097 Q1190.17 48.3111 1193.49 51.4303 Q1196.85 54.509 1196.85 60.0587 Q1196.85 66.3781 1191.83 70.0644 Q1186.84 73.7508 1178.09 73.7508 Q1174.45 73.7508 1170.48 73.0216 Q1166.55 72.3329 1162.17 70.9151 L1162.17 63.2184 Q1166.31 65.3654 1170.32 66.4591 Q1174.33 67.5124 1178.26 67.5124 Q1183.52 67.5124 1186.36 65.73 Q1189.19 63.9071 1189.19 60.6258 Q1189.19 57.5877 1187.13 55.9673 Q1185.1 54.3469 1178.18 52.8481 L1175.58 52.2405 Q1168.66 50.7821 1165.58 47.7845 Q1162.5 44.7463 1162.5 39.4801 Q1162.5 33.0797 1167.04 29.5959 Q1171.57 26.1121 1179.92 26.1121 Q1184.05 26.1121 1187.69 26.7198 Q1191.34 27.3274 1194.42 28.5427 Z\" fill=\"#000000\" fill-rule=\"nonzero\" fill-opacity=\"1\" /><path clip-path=\"url(#clip330)\" d=\"M1264.01 28.5427 L1264.01 35.5912 Q1260.85 33.9709 1257.45 33.1607 Q1254.05 32.3505 1250.4 32.3505 Q1244.85 32.3505 1242.06 34.0519 Q1239.3 35.7533 1239.3 39.156 Q1239.3 41.7486 1241.29 43.2475 Q1243.27 44.7058 1249.27 46.0426 L1251.82 46.6097 Q1259.76 48.3111 1263.08 51.4303 Q1266.44 54.509 1266.44 60.0587 Q1266.44 66.3781 1261.42 70.0644 Q1256.44 73.7508 1247.69 73.7508 Q1244.04 73.7508 1240.07 73.0216 Q1236.14 72.3329 1231.77 70.9151 L1231.77 63.2184 Q1235.9 65.3654 1239.91 66.4591 Q1243.92 67.5124 1247.85 67.5124 Q1253.12 67.5124 1255.95 65.73 Q1258.79 63.9071 1258.79 60.6258 Q1258.79 57.5877 1256.72 55.9673 Q1254.7 54.3469 1247.77 52.8481 L1245.18 52.2405 Q1238.25 50.7821 1235.17 47.7845 Q1232.09 44.7463 1232.09 39.4801 Q1232.09 33.0797 1236.63 29.5959 Q1241.17 26.1121 1249.51 26.1121 Q1253.64 26.1121 1257.29 26.7198 Q1260.94 27.3274 1264.01 28.5427 Z\" fill=\"#000000\" fill-rule=\"nonzero\" fill-opacity=\"1\" /><path clip-path=\"url(#clip330)\" d=\"M1295.89 32.4315 Q1289.9 32.4315 1286.42 37.1306 Q1282.93 41.7891 1282.93 49.9314 Q1282.93 58.0738 1286.37 62.7728 Q1289.86 67.4314 1295.89 67.4314 Q1301.85 67.4314 1305.33 62.7323 Q1308.82 58.0333 1308.82 49.9314 Q1308.82 41.8701 1305.33 37.1711 Q1301.85 32.4315 1295.89 32.4315 M1295.89 26.1121 Q1305.62 26.1121 1311.17 32.4315 Q1316.72 38.7509 1316.72 49.9314 Q1316.72 61.0714 1311.17 67.4314 Q1305.62 73.7508 1295.89 73.7508 Q1286.13 73.7508 1280.58 67.4314 Q1275.07 61.0714 1275.07 49.9314 Q1275.07 38.7509 1280.58 32.4315 Q1286.13 26.1121 1295.89 26.1121 Z\" fill=\"#000000\" fill-rule=\"nonzero\" fill-opacity=\"1\" /><path clip-path=\"url(#clip330)\" d=\"M1361.64 49.9314 Q1361.64 41.7081 1358.24 37.0496 Q1354.88 32.3505 1348.96 32.3505 Q1343.05 32.3505 1339.64 37.0496 Q1336.28 41.7081 1336.28 49.9314 Q1336.28 58.1548 1339.64 62.8538 Q1343.05 67.5124 1348.96 67.5124 Q1354.88 67.5124 1358.24 62.8538 Q1361.64 58.1548 1361.64 49.9314 M1336.28 34.0924 Q1338.63 30.0415 1342.2 28.0971 Q1345.8 26.1121 1350.78 26.1121 Q1359.05 26.1121 1364.19 32.6746 Q1369.38 39.2371 1369.38 49.9314 Q1369.38 60.6258 1364.19 67.1883 Q1359.05 73.7508 1350.78 73.7508 Q1345.8 73.7508 1342.2 71.8063 Q1338.63 69.8214 1336.28 65.7705 L1336.28 72.576 L1328.79 72.576 L1328.79 9.54393 L1336.28 9.54393 L1336.28 34.0924 Z\" fill=\"#000000\" fill-rule=\"nonzero\" fill-opacity=\"1\" /><path clip-path=\"url(#clip330)\" d=\"M1408.02 34.1734 Q1406.77 33.4443 1405.27 33.1202 Q1403.81 32.7556 1402.03 32.7556 Q1395.71 32.7556 1392.31 36.8875 Q1388.94 40.9789 1388.94 48.6757 L1388.94 72.576 L1381.45 72.576 L1381.45 27.2059 L1388.94 27.2059 L1388.94 34.2544 Q1391.29 30.1225 1395.06 28.1376 Q1398.83 26.1121 1404.22 26.1121 Q1404.99 26.1121 1405.92 26.2337 Q1406.85 26.3147 1407.98 26.5172 L1408.02 34.1734 Z\" fill=\"#000000\" fill-rule=\"nonzero\" fill-opacity=\"1\" /><path clip-path=\"url(#clip330)\" d=\"M1452.83 48.0275 L1452.83 51.6733 L1418.56 51.6733 Q1419.04 59.3701 1423.17 63.421 Q1427.35 67.4314 1434.76 67.4314 Q1439.05 67.4314 1443.06 66.3781 Q1447.11 65.3249 1451.08 63.2184 L1451.08 70.267 Q1447.07 71.9684 1442.86 72.8596 Q1438.65 73.7508 1434.31 73.7508 Q1423.46 73.7508 1417.1 67.4314 Q1410.78 61.1119 1410.78 50.3365 Q1410.78 39.1965 1416.77 32.6746 Q1422.81 26.1121 1433.02 26.1121 Q1442.17 26.1121 1447.48 32.0264 Q1452.83 37.9003 1452.83 48.0275 M1445.37 45.84 Q1445.29 39.7232 1441.93 36.0774 Q1438.61 32.4315 1433.1 32.4315 Q1426.86 32.4315 1423.09 35.9558 Q1419.37 39.4801 1418.8 45.8805 L1445.37 45.84 Z\" fill=\"#000000\" fill-rule=\"nonzero\" fill-opacity=\"1\" /><path clip-path=\"url(#clip330)\" d=\"M1459.71 27.2059 L1467.61 27.2059 L1481.79 65.2844 L1495.97 27.2059 L1503.87 27.2059 L1486.85 72.576 L1476.73 72.576 L1459.71 27.2059 Z\" fill=\"#000000\" fill-rule=\"nonzero\" fill-opacity=\"1\" /><path clip-path=\"url(#clip330)\" d=\"M1514.16 27.2059 L1521.61 27.2059 L1521.61 72.576 L1514.16 72.576 L1514.16 27.2059 M1514.16 9.54393 L1521.61 9.54393 L1521.61 18.9825 L1514.16 18.9825 L1514.16 9.54393 Z\" fill=\"#000000\" fill-rule=\"nonzero\" fill-opacity=\"1\" /><path clip-path=\"url(#clip330)\" d=\"M1531.86 27.2059 L1539.76 27.2059 L1553.94 65.2844 L1568.12 27.2059 L1576.01 27.2059 L1559 72.576 L1548.87 72.576 L1531.86 27.2059 Z\" fill=\"#000000\" fill-rule=\"nonzero\" fill-opacity=\"1\" /><path clip-path=\"url(#clip330)\" d=\"M1625.11 48.0275 L1625.11 51.6733 L1590.84 51.6733 Q1591.33 59.3701 1595.46 63.421 Q1599.63 67.4314 1607.04 67.4314 Q1611.34 67.4314 1615.35 66.3781 Q1619.4 65.3249 1623.37 63.2184 L1623.37 70.267 Q1619.36 71.9684 1615.15 72.8596 Q1610.93 73.7508 1606.6 73.7508 Q1595.74 73.7508 1589.38 67.4314 Q1583.06 61.1119 1583.06 50.3365 Q1583.06 39.1965 1589.06 32.6746 Q1595.09 26.1121 1605.3 26.1121 Q1614.46 26.1121 1619.76 32.0264 Q1625.11 37.9003 1625.11 48.0275 M1617.66 45.84 Q1617.58 39.7232 1614.21 36.0774 Q1610.89 32.4315 1605.38 32.4315 Q1599.15 32.4315 1595.38 35.9558 Q1591.65 39.4801 1591.08 45.8805 L1617.66 45.84 Z\" fill=\"#000000\" fill-rule=\"nonzero\" fill-opacity=\"1\" /><path clip-path=\"url(#clip330)\" d=\"M1675.06 45.1919 L1675.06 72.576 L1667.61 72.576 L1667.61 45.4349 Q1667.61 38.994 1665.09 35.7938 Q1662.58 32.5936 1657.56 32.5936 Q1651.52 32.5936 1648.04 36.4419 Q1644.56 40.2903 1644.56 46.9338 L1644.56 72.576 L1637.06 72.576 L1637.06 27.2059 L1644.56 27.2059 L1644.56 34.2544 Q1647.23 30.163 1650.83 28.1376 Q1654.48 26.1121 1659.22 26.1121 Q1667.04 26.1121 1671.05 30.9732 Q1675.06 35.7938 1675.06 45.1919 Z\" fill=\"#000000\" fill-rule=\"nonzero\" fill-opacity=\"1\" /><path clip-path=\"url(#clip330)\" d=\"M1735.17 76.7889 Q1732.01 84.8907 1729.02 87.3618 Q1726.02 89.8329 1721 89.8329 L1715.04 89.8329 L1715.04 83.5945 L1719.42 83.5945 Q1722.5 83.5945 1724.2 82.1361 Q1725.9 80.6778 1727.96 75.2496 L1729.3 71.8468 L1710.95 27.2059 L1718.85 27.2059 L1733.03 62.6918 L1747.21 27.2059 L1755.1 27.2059 L1735.17 76.7889 Z\" fill=\"#000000\" fill-rule=\"nonzero\" fill-opacity=\"1\" /><path clip-path=\"url(#clip330)\" d=\"M1796.22 49.9314 Q1796.22 58.1548 1799.58 62.8538 Q1802.99 67.5124 1808.9 67.5124 Q1814.82 67.5124 1818.22 62.8538 Q1821.62 58.1548 1821.62 49.9314 Q1821.62 41.7081 1818.22 37.0496 Q1814.82 32.3505 1808.9 32.3505 Q1802.99 32.3505 1799.58 37.0496 Q1796.22 41.7081 1796.22 49.9314 M1821.62 65.7705 Q1819.27 69.8214 1815.67 71.8063 Q1812.1 73.7508 1807.08 73.7508 Q1798.85 73.7508 1793.67 67.1883 Q1788.52 60.6258 1788.52 49.9314 Q1788.52 39.2371 1793.67 32.6746 Q1798.85 26.1121 1807.08 26.1121 Q1812.1 26.1121 1815.67 28.0971 Q1819.27 30.0415 1821.62 34.0924 L1821.62 27.2059 L1829.07 27.2059 L1829.07 89.8329 L1821.62 89.8329 L1821.62 65.7705 Z\" fill=\"#000000\" fill-rule=\"nonzero\" fill-opacity=\"1\" /><path clip-path=\"url(#clip330)\" d=\"M1843.66 54.671 L1843.66 27.2059 L1851.11 27.2059 L1851.11 54.3874 Q1851.11 60.8284 1853.62 64.0691 Q1856.13 67.2693 1861.16 67.2693 Q1867.19 67.2693 1870.68 63.421 Q1874.2 59.5726 1874.2 52.9291 L1874.2 27.2059 L1881.66 27.2059 L1881.66 72.576 L1874.2 72.576 L1874.2 65.6084 Q1871.49 69.7404 1867.88 71.7658 Q1864.32 73.7508 1859.58 73.7508 Q1851.76 73.7508 1847.71 68.8897 Q1843.66 64.0286 1843.66 54.671 M1862.41 26.1121 L1862.41 26.1121 Z\" fill=\"#000000\" fill-rule=\"nonzero\" fill-opacity=\"1\" /><path clip-path=\"url(#clip330)\" d=\"M1897.01 27.2059 L1904.46 27.2059 L1904.46 72.576 L1897.01 72.576 L1897.01 27.2059 M1897.01 9.54393 L1904.46 9.54393 L1904.46 18.9825 L1897.01 18.9825 L1897.01 9.54393 Z\" fill=\"#000000\" fill-rule=\"nonzero\" fill-opacity=\"1\" /><path clip-path=\"url(#clip330)\" d=\"M1958.87 48.0275 L1958.87 51.6733 L1924.59 51.6733 Q1925.08 59.3701 1929.21 63.421 Q1933.39 67.4314 1940.8 67.4314 Q1945.09 67.4314 1949.1 66.3781 Q1953.15 65.3249 1957.12 63.2184 L1957.12 70.267 Q1953.11 71.9684 1948.9 72.8596 Q1944.69 73.7508 1940.35 73.7508 Q1929.5 73.7508 1923.14 67.4314 Q1916.82 61.1119 1916.82 50.3365 Q1916.82 39.1965 1922.81 32.6746 Q1928.85 26.1121 1939.06 26.1121 Q1948.21 26.1121 1953.52 32.0264 Q1958.87 37.9003 1958.87 48.0275 M1951.41 45.84 Q1951.33 39.7232 1947.97 36.0774 Q1944.65 32.4315 1939.14 32.4315 Q1932.9 32.4315 1929.13 35.9558 Q1925.4 39.4801 1924.84 45.8805 L1951.41 45.84 Z\" fill=\"#000000\" fill-rule=\"nonzero\" fill-opacity=\"1\" /><path clip-path=\"url(#clip330)\" d=\"M2008.81 45.1919 L2008.81 72.576 L2001.36 72.576 L2001.36 45.4349 Q2001.36 38.994 1998.85 35.7938 Q1996.34 32.5936 1991.31 32.5936 Q1985.28 32.5936 1981.79 36.4419 Q1978.31 40.2903 1978.31 46.9338 L1978.31 72.576 L1970.82 72.576 L1970.82 27.2059 L1978.31 27.2059 L1978.31 34.2544 Q1980.98 30.163 1984.59 28.1376 Q1988.23 26.1121 1992.97 26.1121 Q2000.79 26.1121 2004.8 30.9732 Q2008.81 35.7938 2008.81 45.1919 Z\" fill=\"#000000\" fill-rule=\"nonzero\" fill-opacity=\"1\" /><path clip-path=\"url(#clip330)\" d=\"M2062.49 48.0275 L2062.49 51.6733 L2028.22 51.6733 Q2028.7 59.3701 2032.83 63.421 Q2037.01 67.4314 2044.42 67.4314 Q2048.71 67.4314 2052.72 66.3781 Q2056.78 65.3249 2060.75 63.2184 L2060.75 70.267 Q2056.74 71.9684 2052.52 72.8596 Q2048.31 73.7508 2043.97 73.7508 Q2033.12 73.7508 2026.76 67.4314 Q2020.44 61.1119 2020.44 50.3365 Q2020.44 39.1965 2026.43 32.6746 Q2032.47 26.1121 2042.68 26.1121 Q2051.83 26.1121 2057.14 32.0264 Q2062.49 37.9003 2062.49 48.0275 M2055.03 45.84 Q2054.95 39.7232 2051.59 36.0774 Q2048.27 32.4315 2042.76 32.4315 Q2036.52 32.4315 2032.75 35.9558 Q2029.03 39.4801 2028.46 45.8805 L2055.03 45.84 Z\" fill=\"#000000\" fill-rule=\"nonzero\" fill-opacity=\"1\" /><path clip-path=\"url(#clip330)\" d=\"M2103.64 28.5427 L2103.64 35.5912 Q2100.48 33.9709 2097.08 33.1607 Q2093.68 32.3505 2090.03 32.3505 Q2084.48 32.3505 2081.69 34.0519 Q2078.93 35.7533 2078.93 39.156 Q2078.93 41.7486 2080.92 43.2475 Q2082.9 44.7058 2088.9 46.0426 L2091.45 46.6097 Q2099.39 48.3111 2102.71 51.4303 Q2106.08 54.509 2106.08 60.0587 Q2106.08 66.3781 2101.05 70.0644 Q2096.07 73.7508 2087.32 73.7508 Q2083.67 73.7508 2079.7 73.0216 Q2075.77 72.3329 2071.4 70.9151 L2071.4 63.2184 Q2075.53 65.3654 2079.54 66.4591 Q2083.55 67.5124 2087.48 67.5124 Q2092.75 67.5124 2095.58 65.73 Q2098.42 63.9071 2098.42 60.6258 Q2098.42 57.5877 2096.35 55.9673 Q2094.33 54.3469 2087.4 52.8481 L2084.81 52.2405 Q2077.88 50.7821 2074.8 47.7845 Q2071.72 44.7463 2071.72 39.4801 Q2071.72 33.0797 2076.26 29.5959 Q2080.8 26.1121 2089.14 26.1121 Q2093.27 26.1121 2096.92 26.7198 Q2100.57 27.3274 2103.64 28.5427 Z\" fill=\"#000000\" fill-rule=\"nonzero\" fill-opacity=\"1\" /><path clip-path=\"url(#clip330)\" d=\"M2182.03 45.1919 L2182.03 72.576 L2174.58 72.576 L2174.58 45.4349 Q2174.58 38.994 2172.06 35.7938 Q2169.55 32.5936 2164.53 32.5936 Q2158.49 32.5936 2155.01 36.4419 Q2151.53 40.2903 2151.53 46.9338 L2151.53 72.576 L2144.03 72.576 L2144.03 27.2059 L2151.53 27.2059 L2151.53 34.2544 Q2154.2 30.163 2157.81 28.1376 Q2161.45 26.1121 2166.19 26.1121 Q2174.01 26.1121 2178.02 30.9732 Q2182.03 35.7938 2182.03 45.1919 Z\" fill=\"#000000\" fill-rule=\"nonzero\" fill-opacity=\"1\" /><path clip-path=\"url(#clip330)\" d=\"M2214.48 32.4315 Q2208.48 32.4315 2205 37.1306 Q2201.51 41.7891 2201.51 49.9314 Q2201.51 58.0738 2204.96 62.7728 Q2208.44 67.4314 2214.48 67.4314 Q2220.43 67.4314 2223.92 62.7323 Q2227.4 58.0333 2227.4 49.9314 Q2227.4 41.8701 2223.92 37.1711 Q2220.43 32.4315 2214.48 32.4315 M2214.48 26.1121 Q2224.2 26.1121 2229.75 32.4315 Q2235.3 38.7509 2235.3 49.9314 Q2235.3 61.0714 2229.75 67.4314 Q2224.2 73.7508 2214.48 73.7508 Q2204.71 73.7508 2199.16 67.4314 Q2193.66 61.0714 2193.66 49.9314 Q2193.66 38.7509 2199.16 32.4315 Q2204.71 26.1121 2214.48 26.1121 Z\" fill=\"#000000\" fill-rule=\"nonzero\" fill-opacity=\"1\" /><path clip-path=\"url(#clip332)\" d=\"M349.013 123.472 L349.013 1423.18 L663.533 1423.18 L663.533 123.472 L349.013 123.472 L349.013 123.472  Z\" fill=\"#009af9\" fill-rule=\"evenodd\" fill-opacity=\"1\"/>\n",
       "<polyline clip-path=\"url(#clip332)\" style=\"stroke:#000000; stroke-linecap:round; stroke-linejoin:round; stroke-width:4; stroke-opacity:1; fill:none\" points=\"349.013,123.472 349.013,1423.18 663.533,1423.18 663.533,123.472 349.013,123.472 \"/>\n",
       "<path clip-path=\"url(#clip332)\" d=\"M1921.61 1353.96 L1921.61 1423.18 L2236.13 1423.18 L2236.13 1353.96 L1921.61 1353.96 L1921.61 1353.96  Z\" fill=\"#009af9\" fill-rule=\"evenodd\" fill-opacity=\"1\"/>\n",
       "<polyline clip-path=\"url(#clip332)\" style=\"stroke:#000000; stroke-linecap:round; stroke-linejoin:round; stroke-width:4; stroke-opacity:1; fill:none\" points=\"1921.61,1353.96 1921.61,1423.18 2236.13,1423.18 2236.13,1353.96 1921.61,1353.96 \"/>\n",
       "<circle clip-path=\"url(#clip332)\" style=\"fill:#009af9; stroke:none; fill-opacity:0\" cx=\"506.273\" cy=\"123.472\" r=\"2\"/>\n",
       "<circle clip-path=\"url(#clip332)\" style=\"fill:#009af9; stroke:none; fill-opacity:0\" cx=\"2078.87\" cy=\"1353.96\" r=\"2\"/>\n",
       "<path clip-path=\"url(#clip330)\" d=\"M2017.61 270.476 L2282.08 270.476 L2282.08 166.796 L2017.61 166.796  Z\" fill=\"#ffffff\" fill-rule=\"evenodd\" fill-opacity=\"1\"/>\n",
       "<polyline clip-path=\"url(#clip330)\" style=\"stroke:#000000; stroke-linecap:round; stroke-linejoin:round; stroke-width:4; stroke-opacity:1; fill:none\" points=\"2017.61,270.476 2282.08,270.476 2282.08,166.796 2017.61,166.796 2017.61,270.476 \"/>\n",
       "<path clip-path=\"url(#clip330)\" d=\"M2041.17 239.372 L2182.53 239.372 L2182.53 197.9 L2041.17 197.9 L2041.17 239.372  Z\" fill=\"#009af9\" fill-rule=\"evenodd\" fill-opacity=\"1\"/>\n",
       "<polyline clip-path=\"url(#clip330)\" style=\"stroke:#000000; stroke-linecap:round; stroke-linejoin:round; stroke-width:4; stroke-opacity:1; fill:none\" points=\"2041.17,239.372 2182.53,239.372 2182.53,197.9 2041.17,197.9 2041.17,239.372 \"/>\n",
       "<path clip-path=\"url(#clip330)\" d=\"M2219.93 238.323 Q2218.12 242.953 2216.41 244.365 Q2214.7 245.777 2211.83 245.777 L2208.43 245.777 L2208.43 242.212 L2210.93 242.212 Q2212.68 242.212 2213.66 241.379 Q2214.63 240.545 2215.81 237.443 L2216.57 235.499 L2206.09 209.99 L2210.6 209.99 L2218.7 230.268 L2226.8 209.99 L2231.32 209.99 L2219.93 238.323 Z\" fill=\"#000000\" fill-rule=\"nonzero\" fill-opacity=\"1\" /><path clip-path=\"url(#clip330)\" d=\"M2238.61 231.981 L2246.25 231.981 L2246.25 205.615 L2237.94 207.282 L2237.94 203.022 L2246.2 201.356 L2250.88 201.356 L2250.88 231.981 L2258.52 231.981 L2258.52 235.916 L2238.61 235.916 L2238.61 231.981 Z\" fill=\"#000000\" fill-rule=\"nonzero\" fill-opacity=\"1\" /></svg>\n"
      ]
     },
     "execution_count": 29,
     "metadata": {},
     "output_type": "execute_result"
    }
   ],
   "source": [
    "noSurivive = count(x -> x == 0, predict_test)\n",
    "survive = count(x -> x == 1, predict_test)\n",
    "\n",
    "bar([\"No sorbreviven\", \"Sobreviven\"], [noSurivive, survive], title=\"Cantidad de quienes sobreviven y quienes no\", \n",
    "                                        xlabel=\"Valor\", ylabel=\"Cantidad\", legend=:topright, bar_width=.2)\n",
    "\n"
   ]
  },
  {
   "cell_type": "markdown",
   "metadata": {},
   "source": [
    "# Para corroborar que nuestra funcion de prediccion este bien comparamos el resultado de nuestro accuracy con el de la funcion de SK"
   ]
  },
  {
   "cell_type": "code",
   "execution_count": 30,
   "metadata": {},
   "outputs": [
    {
     "data": {
      "text/plain": [
       "PyObject <function accuracy_score at 0x0000021E2C551900>"
      ]
     },
     "execution_count": 30,
     "metadata": {},
     "output_type": "execute_result"
    }
   ],
   "source": [
    "@sk_import metrics: accuracy_score"
   ]
  },
  {
   "cell_type": "code",
   "execution_count": 31,
   "metadata": {},
   "outputs": [
    {
     "data": {
      "text/plain": [
       "0.6067415730337079"
      ]
     },
     "execution_count": 31,
     "metadata": {},
     "output_type": "execute_result"
    }
   ],
   "source": [
    "accuracy_rnn = accuracy_score(predict_test, y_test)"
   ]
  },
  {
   "cell_type": "markdown",
   "metadata": {},
   "source": [
    "# Pasamos a vector para poder crear la Matriz de Confusion"
   ]
  },
  {
   "cell_type": "code",
   "execution_count": 32,
   "metadata": {},
   "outputs": [],
   "source": [
    "y_test = vec(y_test)\n",
    "predict_test = vec(predict_test);"
   ]
  },
  {
   "cell_type": "code",
   "execution_count": 33,
   "metadata": {},
   "outputs": [
    {
     "data": {
      "text/plain": [
       "2×2 Matrix{Int64}:\n",
       " 107  8\n",
       "  62  1"
      ]
     },
     "execution_count": 33,
     "metadata": {},
     "output_type": "execute_result"
    }
   ],
   "source": [
    "MLBase.confusmat(2, Array{Int64, 1}(y_test .+ 1), Array{Int64, 1}(predict_test .+ 1))"
   ]
  }
 ],
 "metadata": {
  "kernelspec": {
   "display_name": "Julia 1.10.3",
   "language": "julia",
   "name": "julia-1.10"
  },
  "language_info": {
   "file_extension": ".jl",
   "mimetype": "application/julia",
   "name": "julia",
   "version": "1.10.3"
  },
  "vscode": {
   "interpreter": {
    "hash": "31565927ecfa8a97530e2f965425b5ecaba213cd38f3e141bd6680a742dfc05e"
   }
  }
 },
 "nbformat": 4,
 "nbformat_minor": 4
}
